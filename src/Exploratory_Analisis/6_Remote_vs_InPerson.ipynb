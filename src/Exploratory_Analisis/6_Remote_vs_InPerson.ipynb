{
 "cells": [
  {
   "cell_type": "markdown",
   "metadata": {},
   "source": [
    "# In the last Notebook, I had a specific question: _Why Remote workers earn more than In-Person?_ I will try to solve it"
   ]
  },
  {
   "cell_type": "code",
   "execution_count": 1,
   "metadata": {},
   "outputs": [],
   "source": [
    "import numpy as np\n",
    "import pandas as pd\n",
    "pd.set_option('display.max_columns', 30)\n",
    "pd.set_option('display.max_rows', 30)\n",
    "pd.options.display.float_format='{:,.2f}'.format\n"
   ]
  },
  {
   "cell_type": "code",
   "execution_count": 2,
   "metadata": {},
   "outputs": [],
   "source": [
    "df = pd.read_pickle('../data/interim/Remote_vs_InPerson.pkl')"
   ]
  },
  {
   "cell_type": "code",
   "execution_count": 3,
   "metadata": {},
   "outputs": [
    {
     "name": "stdout",
     "output_type": "stream",
     "text": [
      "<class 'pandas.core.frame.DataFrame'>\n",
      "Index: 3129 entries, 110 to 87954\n",
      "Data columns (total 39 columns):\n",
      " #   Column             Non-Null Count  Dtype  \n",
      "---  ------             --------------  -----  \n",
      " 0   Age                3129 non-null   object \n",
      " 1   BuyNewTool         2963 non-null   object \n",
      " 2   Country            3129 non-null   object \n",
      " 3   CoursesCert        1112 non-null   object \n",
      " 4   CurrentJob         3128 non-null   object \n",
      " 5   EdLevel            3129 non-null   object \n",
      " 6   Employment         3129 non-null   object \n",
      " 7   Industry           1884 non-null   object \n",
      " 8   MainBranch         3129 non-null   object \n",
      " 9   OSPersonal         3100 non-null   object \n",
      " 10  OSProffesional     2966 non-null   object \n",
      " 11  ProfessionalTech   2154 non-null   object \n",
      " 12  RemoteWork         3129 non-null   object \n",
      " 13  TargetAIDeveloper  733 non-null    object \n",
      " 14  TargetAISearch     1505 non-null   object \n",
      " 15  TargetCollabTools  2760 non-null   object \n",
      " 16  TargetDatabase     2166 non-null   object \n",
      " 17  TargetFramework    2126 non-null   object \n",
      " 18  TargetLanguage     2892 non-null   object \n",
      " 19  TargetLibraries    1594 non-null   object \n",
      " 20  TargetPlatform     2076 non-null   object \n",
      " 21  TargetTools        2540 non-null   object \n",
      " 22  WorkedAIDeveloper  934 non-null    object \n",
      " 23  WorkedAISearch     1906 non-null   object \n",
      " 24  WorkedCollabTools  3110 non-null   object \n",
      " 25  WorkedDatabase     2700 non-null   object \n",
      " 26  WorkedFramework    2520 non-null   object \n",
      " 27  WorkedLanguage     3123 non-null   object \n",
      " 28  WorkedLibraries    2030 non-null   object \n",
      " 29  WorkedPlatform     2622 non-null   object \n",
      " 30  WorkedTools        2928 non-null   object \n",
      " 31  WorkingYears       2207 non-null   float64\n",
      " 32  YearlySalary       3129 non-null   float64\n",
      " 33  YearsCode          3125 non-null   float64\n",
      " 34  YearsCodePro       3122 non-null   float64\n",
      " 35  z_BenefitsAI       1323 non-null   object \n",
      " 36  z_FavorableAI      2035 non-null   object \n",
      " 37  z_TrustAI          2031 non-null   object \n",
      " 38  z_UsingAI          3129 non-null   object \n",
      "dtypes: float64(4), object(35)\n",
      "memory usage: 977.8+ KB\n"
     ]
    }
   ],
   "source": [
    "df.info()"
   ]
  },
  {
   "cell_type": "code",
   "execution_count": 4,
   "metadata": {},
   "outputs": [
    {
     "data": {
      "text/html": [
       "<div>\n",
       "<style scoped>\n",
       "    .dataframe tbody tr th:only-of-type {\n",
       "        vertical-align: middle;\n",
       "    }\n",
       "\n",
       "    .dataframe tbody tr th {\n",
       "        vertical-align: top;\n",
       "    }\n",
       "\n",
       "    .dataframe thead th {\n",
       "        text-align: right;\n",
       "    }\n",
       "</style>\n",
       "<table border=\"1\" class=\"dataframe\">\n",
       "  <thead>\n",
       "    <tr style=\"text-align: right;\">\n",
       "      <th></th>\n",
       "      <th>Age</th>\n",
       "      <th>BuyNewTool</th>\n",
       "      <th>Country</th>\n",
       "      <th>CoursesCert</th>\n",
       "      <th>CurrentJob</th>\n",
       "      <th>EdLevel</th>\n",
       "      <th>Employment</th>\n",
       "      <th>Industry</th>\n",
       "      <th>MainBranch</th>\n",
       "      <th>OSPersonal</th>\n",
       "      <th>OSProffesional</th>\n",
       "      <th>ProfessionalTech</th>\n",
       "      <th>RemoteWork</th>\n",
       "      <th>TargetAIDeveloper</th>\n",
       "      <th>TargetAISearch</th>\n",
       "      <th>...</th>\n",
       "      <th>WorkedCollabTools</th>\n",
       "      <th>WorkedDatabase</th>\n",
       "      <th>WorkedFramework</th>\n",
       "      <th>WorkedLanguage</th>\n",
       "      <th>WorkedLibraries</th>\n",
       "      <th>WorkedPlatform</th>\n",
       "      <th>WorkedTools</th>\n",
       "      <th>WorkingYears</th>\n",
       "      <th>YearlySalary</th>\n",
       "      <th>YearsCode</th>\n",
       "      <th>YearsCodePro</th>\n",
       "      <th>z_BenefitsAI</th>\n",
       "      <th>z_FavorableAI</th>\n",
       "      <th>z_TrustAI</th>\n",
       "      <th>z_UsingAI</th>\n",
       "    </tr>\n",
       "  </thead>\n",
       "  <tbody>\n",
       "    <tr>\n",
       "      <th>110</th>\n",
       "      <td>25-34 years old</td>\n",
       "      <td>Start a free trial;Ask developers I know/work ...</td>\n",
       "      <td>United States of America</td>\n",
       "      <td>Codecademy;Udemy;Pluralsight;Udacity</td>\n",
       "      <td>Developer, full-stack</td>\n",
       "      <td>Bachelor’s degree (B.A., B.S., B.Eng., etc.)</td>\n",
       "      <td>Employed, full-time</td>\n",
       "      <td>NaN</td>\n",
       "      <td>I am a developer by profession</td>\n",
       "      <td>Ubuntu;Windows;Windows Subsystem for Linux (WSL)</td>\n",
       "      <td>Debian;Fedora;Ubuntu;Windows</td>\n",
       "      <td>None of these</td>\n",
       "      <td>In-person</td>\n",
       "      <td>NaN</td>\n",
       "      <td>ChatGPT</td>\n",
       "      <td>...</td>\n",
       "      <td>Notepad++;Sublime Text;Vim;Visual Studio Code</td>\n",
       "      <td>Firebase Realtime Database;MongoDB</td>\n",
       "      <td>Angular;AngularJS;Node.js;Vue.js</td>\n",
       "      <td>HTML/CSS;JavaScript;Python;TypeScript</td>\n",
       "      <td>NaN</td>\n",
       "      <td>NaN</td>\n",
       "      <td>npm</td>\n",
       "      <td>7.00</td>\n",
       "      <td>145,000.00</td>\n",
       "      <td>12.00</td>\n",
       "      <td>7.00</td>\n",
       "      <td>Increase productivity;Greater efficiency</td>\n",
       "      <td>Favorable</td>\n",
       "      <td>Neither trust nor distrust</td>\n",
       "      <td>Yes</td>\n",
       "    </tr>\n",
       "    <tr>\n",
       "      <th>798</th>\n",
       "      <td>25-34 years old</td>\n",
       "      <td>Start a free trial;Ask developers I know/work ...</td>\n",
       "      <td>United States of America</td>\n",
       "      <td>NaN</td>\n",
       "      <td>Developer, full-stack</td>\n",
       "      <td>Some college/university study without earning ...</td>\n",
       "      <td>Employed, full-time</td>\n",
       "      <td>Manufacturing, Transportation, or Supply Chain</td>\n",
       "      <td>I am a developer by profession</td>\n",
       "      <td>Windows</td>\n",
       "      <td>Windows</td>\n",
       "      <td>None of these</td>\n",
       "      <td>In-person</td>\n",
       "      <td>NaN</td>\n",
       "      <td>NaN</td>\n",
       "      <td>...</td>\n",
       "      <td>Eclipse;Notepad++;Visual Studio Code</td>\n",
       "      <td>Microsoft Access;PostgreSQL</td>\n",
       "      <td>NaN</td>\n",
       "      <td>Python;SQL;VBA;Visual Basic (.Net)</td>\n",
       "      <td>.NET Framework (1.0 - 4.8);Pandas</td>\n",
       "      <td>NaN</td>\n",
       "      <td>Pip</td>\n",
       "      <td>15.00</td>\n",
       "      <td>50,000.00</td>\n",
       "      <td>9.00</td>\n",
       "      <td>6.00</td>\n",
       "      <td>NaN</td>\n",
       "      <td>NaN</td>\n",
       "      <td>NaN</td>\n",
       "      <td>No, and I don't plan to</td>\n",
       "    </tr>\n",
       "    <tr>\n",
       "      <th>1102</th>\n",
       "      <td>25-34 years old</td>\n",
       "      <td>Start a free trial;Ask developers I know/work ...</td>\n",
       "      <td>United States of America</td>\n",
       "      <td>edX;Pluralsight</td>\n",
       "      <td>Hardware Engineer</td>\n",
       "      <td>Some college/university study without earning ...</td>\n",
       "      <td>Employed, full-time</td>\n",
       "      <td>Manufacturing, Transportation, or Supply Chain</td>\n",
       "      <td>I am not primarily a developer, but I write co...</td>\n",
       "      <td>Ubuntu;Windows;Windows Subsystem for Linux (WSL)</td>\n",
       "      <td>Debian;Windows;Windows Subsystem for Linux (WSL)</td>\n",
       "      <td>None of these</td>\n",
       "      <td>In-person</td>\n",
       "      <td>GitHub Copilot</td>\n",
       "      <td>NaN</td>\n",
       "      <td>...</td>\n",
       "      <td>IPython;Jupyter Notebook/JupyterLab;Notepad++;...</td>\n",
       "      <td>SQLite</td>\n",
       "      <td>NaN</td>\n",
       "      <td>C#;C++;Python;Visual Basic (.Net)</td>\n",
       "      <td>.NET (5+) ;.NET Framework (1.0 - 4.8);Opencv</td>\n",
       "      <td>NaN</td>\n",
       "      <td>MSBuild;NuGet;Pip;Visual Studio Solution</td>\n",
       "      <td>5.00</td>\n",
       "      <td>40,000.00</td>\n",
       "      <td>9.00</td>\n",
       "      <td>5.00</td>\n",
       "      <td>NaN</td>\n",
       "      <td>Favorable</td>\n",
       "      <td>Somewhat trust</td>\n",
       "      <td>No, but I plan to soon</td>\n",
       "    </tr>\n",
       "    <tr>\n",
       "      <th>1113</th>\n",
       "      <td>25-34 years old</td>\n",
       "      <td>Ask developers I know/work with;Visit develope...</td>\n",
       "      <td>United States of America</td>\n",
       "      <td>NaN</td>\n",
       "      <td>Developer, desktop or enterprise applications</td>\n",
       "      <td>Something else</td>\n",
       "      <td>Employed, full-time</td>\n",
       "      <td>Manufacturing, Transportation, or Supply Chain</td>\n",
       "      <td>I am a developer by profession</td>\n",
       "      <td>Android;Windows;Windows Subsystem for Linux (WSL)</td>\n",
       "      <td>Debian;Ubuntu;Windows</td>\n",
       "      <td>Automated testing;Developer portal or other ce...</td>\n",
       "      <td>In-person</td>\n",
       "      <td>NaN</td>\n",
       "      <td>NaN</td>\n",
       "      <td>...</td>\n",
       "      <td>Atom;Notepad++;PyCharm;Visual Studio Code</td>\n",
       "      <td>Microsoft SQL Server</td>\n",
       "      <td>NaN</td>\n",
       "      <td>C;JavaScript;Kotlin;Python;Rust;SQL</td>\n",
       "      <td>NaN</td>\n",
       "      <td>NaN</td>\n",
       "      <td>Pip</td>\n",
       "      <td>5.00</td>\n",
       "      <td>110,000.00</td>\n",
       "      <td>6.00</td>\n",
       "      <td>5.00</td>\n",
       "      <td>NaN</td>\n",
       "      <td>NaN</td>\n",
       "      <td>NaN</td>\n",
       "      <td>No, and I don't plan to</td>\n",
       "    </tr>\n",
       "    <tr>\n",
       "      <th>1421</th>\n",
       "      <td>25-34 years old</td>\n",
       "      <td>Start a free trial;Ask developers I know/work ...</td>\n",
       "      <td>United States of America</td>\n",
       "      <td>Pluralsight</td>\n",
       "      <td>Developer, full-stack</td>\n",
       "      <td>Bachelor’s degree (B.A., B.S., B.Eng., etc.)</td>\n",
       "      <td>Employed, full-time;Independent contractor, fr...</td>\n",
       "      <td>NaN</td>\n",
       "      <td>I am a developer by profession</td>\n",
       "      <td>iOS;iPadOS;MacOS;Windows</td>\n",
       "      <td>Windows</td>\n",
       "      <td>DevOps function;Microservices</td>\n",
       "      <td>In-person</td>\n",
       "      <td>NaN</td>\n",
       "      <td>Bing AI;ChatGPT;Google Bard AI</td>\n",
       "      <td>...</td>\n",
       "      <td>Android Studio;Notepad++;Visual Studio Code;Xcode</td>\n",
       "      <td>Microsoft Access;Microsoft SQL Server</td>\n",
       "      <td>Angular;AngularJS;ASP.NET;ASP.NET CORE</td>\n",
       "      <td>C#;Dart;HTML/CSS;JavaScript;TypeScript;VBA;Vis...</td>\n",
       "      <td>.NET (5+) ;.NET Framework (1.0 - 4.8);Flutter;...</td>\n",
       "      <td>NaN</td>\n",
       "      <td>Chocolatey;Gradle;Homebrew;npm</td>\n",
       "      <td>9.00</td>\n",
       "      <td>130,000.00</td>\n",
       "      <td>12.00</td>\n",
       "      <td>9.00</td>\n",
       "      <td>NaN</td>\n",
       "      <td>Favorable</td>\n",
       "      <td>Neither trust nor distrust</td>\n",
       "      <td>No, but I plan to soon</td>\n",
       "    </tr>\n",
       "  </tbody>\n",
       "</table>\n",
       "<p>5 rows × 39 columns</p>\n",
       "</div>"
      ],
      "text/plain": [
       "                  Age                                         BuyNewTool   \n",
       "110   25-34 years old  Start a free trial;Ask developers I know/work ...  \\\n",
       "798   25-34 years old  Start a free trial;Ask developers I know/work ...   \n",
       "1102  25-34 years old  Start a free trial;Ask developers I know/work ...   \n",
       "1113  25-34 years old  Ask developers I know/work with;Visit develope...   \n",
       "1421  25-34 years old  Start a free trial;Ask developers I know/work ...   \n",
       "\n",
       "                       Country                           CoursesCert   \n",
       "110   United States of America  Codecademy;Udemy;Pluralsight;Udacity  \\\n",
       "798   United States of America                                   NaN   \n",
       "1102  United States of America                       edX;Pluralsight   \n",
       "1113  United States of America                                   NaN   \n",
       "1421  United States of America                           Pluralsight   \n",
       "\n",
       "                                         CurrentJob   \n",
       "110                           Developer, full-stack  \\\n",
       "798                           Developer, full-stack   \n",
       "1102                              Hardware Engineer   \n",
       "1113  Developer, desktop or enterprise applications   \n",
       "1421                          Developer, full-stack   \n",
       "\n",
       "                                                EdLevel   \n",
       "110        Bachelor’s degree (B.A., B.S., B.Eng., etc.)  \\\n",
       "798   Some college/university study without earning ...   \n",
       "1102  Some college/university study without earning ...   \n",
       "1113                                     Something else   \n",
       "1421       Bachelor’s degree (B.A., B.S., B.Eng., etc.)   \n",
       "\n",
       "                                             Employment   \n",
       "110                                 Employed, full-time  \\\n",
       "798                                 Employed, full-time   \n",
       "1102                                Employed, full-time   \n",
       "1113                                Employed, full-time   \n",
       "1421  Employed, full-time;Independent contractor, fr...   \n",
       "\n",
       "                                            Industry   \n",
       "110                                              NaN  \\\n",
       "798   Manufacturing, Transportation, or Supply Chain   \n",
       "1102  Manufacturing, Transportation, or Supply Chain   \n",
       "1113  Manufacturing, Transportation, or Supply Chain   \n",
       "1421                                             NaN   \n",
       "\n",
       "                                             MainBranch   \n",
       "110                      I am a developer by profession  \\\n",
       "798                      I am a developer by profession   \n",
       "1102  I am not primarily a developer, but I write co...   \n",
       "1113                     I am a developer by profession   \n",
       "1421                     I am a developer by profession   \n",
       "\n",
       "                                             OSPersonal   \n",
       "110    Ubuntu;Windows;Windows Subsystem for Linux (WSL)  \\\n",
       "798                                             Windows   \n",
       "1102   Ubuntu;Windows;Windows Subsystem for Linux (WSL)   \n",
       "1113  Android;Windows;Windows Subsystem for Linux (WSL)   \n",
       "1421                           iOS;iPadOS;MacOS;Windows   \n",
       "\n",
       "                                        OSProffesional   \n",
       "110                       Debian;Fedora;Ubuntu;Windows  \\\n",
       "798                                            Windows   \n",
       "1102  Debian;Windows;Windows Subsystem for Linux (WSL)   \n",
       "1113                             Debian;Ubuntu;Windows   \n",
       "1421                                           Windows   \n",
       "\n",
       "                                       ProfessionalTech RemoteWork   \n",
       "110                                       None of these  In-person  \\\n",
       "798                                       None of these  In-person   \n",
       "1102                                      None of these  In-person   \n",
       "1113  Automated testing;Developer portal or other ce...  In-person   \n",
       "1421                      DevOps function;Microservices  In-person   \n",
       "\n",
       "     TargetAIDeveloper                  TargetAISearch  ...   \n",
       "110                NaN                         ChatGPT  ...  \\\n",
       "798                NaN                             NaN  ...   \n",
       "1102    GitHub Copilot                             NaN  ...   \n",
       "1113               NaN                             NaN  ...   \n",
       "1421               NaN  Bing AI;ChatGPT;Google Bard AI  ...   \n",
       "\n",
       "                                      WorkedCollabTools   \n",
       "110       Notepad++;Sublime Text;Vim;Visual Studio Code  \\\n",
       "798                Eclipse;Notepad++;Visual Studio Code   \n",
       "1102  IPython;Jupyter Notebook/JupyterLab;Notepad++;...   \n",
       "1113          Atom;Notepad++;PyCharm;Visual Studio Code   \n",
       "1421  Android Studio;Notepad++;Visual Studio Code;Xcode   \n",
       "\n",
       "                             WorkedDatabase   \n",
       "110      Firebase Realtime Database;MongoDB  \\\n",
       "798             Microsoft Access;PostgreSQL   \n",
       "1102                                 SQLite   \n",
       "1113                   Microsoft SQL Server   \n",
       "1421  Microsoft Access;Microsoft SQL Server   \n",
       "\n",
       "                             WorkedFramework   \n",
       "110         Angular;AngularJS;Node.js;Vue.js  \\\n",
       "798                                      NaN   \n",
       "1102                                     NaN   \n",
       "1113                                     NaN   \n",
       "1421  Angular;AngularJS;ASP.NET;ASP.NET CORE   \n",
       "\n",
       "                                         WorkedLanguage   \n",
       "110               HTML/CSS;JavaScript;Python;TypeScript  \\\n",
       "798                  Python;SQL;VBA;Visual Basic (.Net)   \n",
       "1102                  C#;C++;Python;Visual Basic (.Net)   \n",
       "1113                C;JavaScript;Kotlin;Python;Rust;SQL   \n",
       "1421  C#;Dart;HTML/CSS;JavaScript;TypeScript;VBA;Vis...   \n",
       "\n",
       "                                        WorkedLibraries WorkedPlatform   \n",
       "110                                                 NaN            NaN  \\\n",
       "798                   .NET Framework (1.0 - 4.8);Pandas            NaN   \n",
       "1102       .NET (5+) ;.NET Framework (1.0 - 4.8);Opencv            NaN   \n",
       "1113                                                NaN            NaN   \n",
       "1421  .NET (5+) ;.NET Framework (1.0 - 4.8);Flutter;...            NaN   \n",
       "\n",
       "                                   WorkedTools WorkingYears YearlySalary   \n",
       "110                                        npm         7.00   145,000.00  \\\n",
       "798                                        Pip        15.00    50,000.00   \n",
       "1102  MSBuild;NuGet;Pip;Visual Studio Solution         5.00    40,000.00   \n",
       "1113                                       Pip         5.00   110,000.00   \n",
       "1421            Chocolatey;Gradle;Homebrew;npm         9.00   130,000.00   \n",
       "\n",
       "     YearsCode YearsCodePro                              z_BenefitsAI   \n",
       "110      12.00         7.00  Increase productivity;Greater efficiency  \\\n",
       "798       9.00         6.00                                       NaN   \n",
       "1102      9.00         5.00                                       NaN   \n",
       "1113      6.00         5.00                                       NaN   \n",
       "1421     12.00         9.00                                       NaN   \n",
       "\n",
       "     z_FavorableAI                   z_TrustAI                z_UsingAI  \n",
       "110      Favorable  Neither trust nor distrust                      Yes  \n",
       "798            NaN                         NaN  No, and I don't plan to  \n",
       "1102     Favorable              Somewhat trust   No, but I plan to soon  \n",
       "1113           NaN                         NaN  No, and I don't plan to  \n",
       "1421     Favorable  Neither trust nor distrust   No, but I plan to soon  \n",
       "\n",
       "[5 rows x 39 columns]"
      ]
     },
     "execution_count": 4,
     "metadata": {},
     "output_type": "execute_result"
    }
   ],
   "source": [
    "df.head()"
   ]
  },
  {
   "cell_type": "code",
   "execution_count": 5,
   "metadata": {},
   "outputs": [
    {
     "data": {
      "text/html": [
       "<div>\n",
       "<style scoped>\n",
       "    .dataframe tbody tr th:only-of-type {\n",
       "        vertical-align: middle;\n",
       "    }\n",
       "\n",
       "    .dataframe tbody tr th {\n",
       "        vertical-align: top;\n",
       "    }\n",
       "\n",
       "    .dataframe thead th {\n",
       "        text-align: right;\n",
       "    }\n",
       "</style>\n",
       "<table border=\"1\" class=\"dataframe\">\n",
       "  <thead>\n",
       "    <tr style=\"text-align: right;\">\n",
       "      <th></th>\n",
       "      <th>Age</th>\n",
       "      <th>BuyNewTool</th>\n",
       "      <th>Country</th>\n",
       "      <th>CoursesCert</th>\n",
       "      <th>CurrentJob</th>\n",
       "      <th>EdLevel</th>\n",
       "      <th>Employment</th>\n",
       "      <th>Industry</th>\n",
       "      <th>MainBranch</th>\n",
       "      <th>OSPersonal</th>\n",
       "      <th>OSProffesional</th>\n",
       "      <th>ProfessionalTech</th>\n",
       "      <th>TargetAIDeveloper</th>\n",
       "      <th>TargetAISearch</th>\n",
       "      <th>TargetCollabTools</th>\n",
       "      <th>...</th>\n",
       "      <th>WorkedCollabTools</th>\n",
       "      <th>WorkedDatabase</th>\n",
       "      <th>WorkedFramework</th>\n",
       "      <th>WorkedLanguage</th>\n",
       "      <th>WorkedLibraries</th>\n",
       "      <th>WorkedPlatform</th>\n",
       "      <th>WorkedTools</th>\n",
       "      <th>WorkingYears</th>\n",
       "      <th>YearlySalary</th>\n",
       "      <th>YearsCode</th>\n",
       "      <th>YearsCodePro</th>\n",
       "      <th>z_BenefitsAI</th>\n",
       "      <th>z_FavorableAI</th>\n",
       "      <th>z_TrustAI</th>\n",
       "      <th>z_UsingAI</th>\n",
       "    </tr>\n",
       "    <tr>\n",
       "      <th>RemoteWork</th>\n",
       "      <th></th>\n",
       "      <th></th>\n",
       "      <th></th>\n",
       "      <th></th>\n",
       "      <th></th>\n",
       "      <th></th>\n",
       "      <th></th>\n",
       "      <th></th>\n",
       "      <th></th>\n",
       "      <th></th>\n",
       "      <th></th>\n",
       "      <th></th>\n",
       "      <th></th>\n",
       "      <th></th>\n",
       "      <th></th>\n",
       "      <th></th>\n",
       "      <th></th>\n",
       "      <th></th>\n",
       "      <th></th>\n",
       "      <th></th>\n",
       "      <th></th>\n",
       "      <th></th>\n",
       "      <th></th>\n",
       "      <th></th>\n",
       "      <th></th>\n",
       "      <th></th>\n",
       "      <th></th>\n",
       "      <th></th>\n",
       "      <th></th>\n",
       "      <th></th>\n",
       "      <th></th>\n",
       "    </tr>\n",
       "  </thead>\n",
       "  <tbody>\n",
       "    <tr>\n",
       "      <th>In-person</th>\n",
       "      <td>471</td>\n",
       "      <td>446</td>\n",
       "      <td>471</td>\n",
       "      <td>151</td>\n",
       "      <td>471</td>\n",
       "      <td>471</td>\n",
       "      <td>471</td>\n",
       "      <td>275</td>\n",
       "      <td>471</td>\n",
       "      <td>467</td>\n",
       "      <td>440</td>\n",
       "      <td>303</td>\n",
       "      <td>89</td>\n",
       "      <td>211</td>\n",
       "      <td>419</td>\n",
       "      <td>...</td>\n",
       "      <td>467</td>\n",
       "      <td>357</td>\n",
       "      <td>326</td>\n",
       "      <td>470</td>\n",
       "      <td>325</td>\n",
       "      <td>296</td>\n",
       "      <td>431</td>\n",
       "      <td>315</td>\n",
       "      <td>471</td>\n",
       "      <td>471</td>\n",
       "      <td>471</td>\n",
       "      <td>166</td>\n",
       "      <td>270</td>\n",
       "      <td>270</td>\n",
       "      <td>471</td>\n",
       "    </tr>\n",
       "    <tr>\n",
       "      <th>Remote</th>\n",
       "      <td>2658</td>\n",
       "      <td>2517</td>\n",
       "      <td>2658</td>\n",
       "      <td>961</td>\n",
       "      <td>2657</td>\n",
       "      <td>2658</td>\n",
       "      <td>2658</td>\n",
       "      <td>1609</td>\n",
       "      <td>2658</td>\n",
       "      <td>2633</td>\n",
       "      <td>2526</td>\n",
       "      <td>1851</td>\n",
       "      <td>644</td>\n",
       "      <td>1294</td>\n",
       "      <td>2341</td>\n",
       "      <td>...</td>\n",
       "      <td>2643</td>\n",
       "      <td>2343</td>\n",
       "      <td>2194</td>\n",
       "      <td>2653</td>\n",
       "      <td>1705</td>\n",
       "      <td>2326</td>\n",
       "      <td>2497</td>\n",
       "      <td>1892</td>\n",
       "      <td>2658</td>\n",
       "      <td>2654</td>\n",
       "      <td>2651</td>\n",
       "      <td>1157</td>\n",
       "      <td>1765</td>\n",
       "      <td>1761</td>\n",
       "      <td>2658</td>\n",
       "    </tr>\n",
       "  </tbody>\n",
       "</table>\n",
       "<p>2 rows × 38 columns</p>\n",
       "</div>"
      ],
      "text/plain": [
       "             Age  BuyNewTool  Country  CoursesCert  CurrentJob  EdLevel   \n",
       "RemoteWork                                                                \n",
       "In-person    471         446      471          151         471      471  \\\n",
       "Remote      2658        2517     2658          961        2657     2658   \n",
       "\n",
       "            Employment  Industry  MainBranch  OSPersonal  OSProffesional   \n",
       "RemoteWork                                                                 \n",
       "In-person          471       275         471         467             440  \\\n",
       "Remote            2658      1609        2658        2633            2526   \n",
       "\n",
       "            ProfessionalTech  TargetAIDeveloper  TargetAISearch   \n",
       "RemoteWork                                                        \n",
       "In-person                303                 89             211  \\\n",
       "Remote                  1851                644            1294   \n",
       "\n",
       "            TargetCollabTools  ...  WorkedCollabTools  WorkedDatabase   \n",
       "RemoteWork                     ...                                      \n",
       "In-person                 419  ...                467             357  \\\n",
       "Remote                   2341  ...               2643            2343   \n",
       "\n",
       "            WorkedFramework  WorkedLanguage  WorkedLibraries  WorkedPlatform   \n",
       "RemoteWork                                                                     \n",
       "In-person               326             470              325             296  \\\n",
       "Remote                 2194            2653             1705            2326   \n",
       "\n",
       "            WorkedTools  WorkingYears  YearlySalary  YearsCode  YearsCodePro   \n",
       "RemoteWork                                                                     \n",
       "In-person           431           315           471        471           471  \\\n",
       "Remote             2497          1892          2658       2654          2651   \n",
       "\n",
       "            z_BenefitsAI  z_FavorableAI  z_TrustAI  z_UsingAI  \n",
       "RemoteWork                                                     \n",
       "In-person            166            270        270        471  \n",
       "Remote              1157           1765       1761       2658  \n",
       "\n",
       "[2 rows x 38 columns]"
      ]
     },
     "execution_count": 5,
     "metadata": {},
     "output_type": "execute_result"
    }
   ],
   "source": [
    "df.groupby('RemoteWork').count()"
   ]
  },
  {
   "cell_type": "markdown",
   "metadata": {},
   "source": [
    "Okey, as all people in my df are Americans between 25-34 years, I will get rid of these columns, as well as the Worked and Target things, because as we saw, they will not help me too much. I want to clean the data"
   ]
  },
  {
   "cell_type": "code",
   "execution_count": 6,
   "metadata": {},
   "outputs": [],
   "source": [
    "df2 = df.drop(['Age','Country','TargetAIDeveloper','TargetAISearch','TargetCollabTools','TargetDatabase',\n",
    "        'TargetFramework','TargetLanguage','TargetLibraries','TargetPlatform','TargetTools','WorkedAIDeveloper',\n",
    "        'WorkedAISearch','WorkedCollabTools','WorkedDatabase','WorkedFramework','WorkedLanguage',\n",
    "        'WorkedLibraries','WorkedPlatform','WorkedTools'], axis='columns')"
   ]
  },
  {
   "cell_type": "code",
   "execution_count": 7,
   "metadata": {},
   "outputs": [
    {
     "data": {
      "text/html": [
       "<div>\n",
       "<style scoped>\n",
       "    .dataframe tbody tr th:only-of-type {\n",
       "        vertical-align: middle;\n",
       "    }\n",
       "\n",
       "    .dataframe tbody tr th {\n",
       "        vertical-align: top;\n",
       "    }\n",
       "\n",
       "    .dataframe thead th {\n",
       "        text-align: right;\n",
       "    }\n",
       "</style>\n",
       "<table border=\"1\" class=\"dataframe\">\n",
       "  <thead>\n",
       "    <tr style=\"text-align: right;\">\n",
       "      <th></th>\n",
       "      <th>WorkingYears</th>\n",
       "      <th>YearlySalary</th>\n",
       "      <th>YearsCode</th>\n",
       "      <th>YearsCodePro</th>\n",
       "    </tr>\n",
       "  </thead>\n",
       "  <tbody>\n",
       "    <tr>\n",
       "      <th>count</th>\n",
       "      <td>1,892.00</td>\n",
       "      <td>2,658.00</td>\n",
       "      <td>2,654.00</td>\n",
       "      <td>2,651.00</td>\n",
       "    </tr>\n",
       "    <tr>\n",
       "      <th>mean</th>\n",
       "      <td>7.83</td>\n",
       "      <td>162,516.27</td>\n",
       "      <td>11.13</td>\n",
       "      <td>6.93</td>\n",
       "    </tr>\n",
       "    <tr>\n",
       "      <th>std</th>\n",
       "      <td>3.63</td>\n",
       "      <td>88,801.33</td>\n",
       "      <td>4.50</td>\n",
       "      <td>3.35</td>\n",
       "    </tr>\n",
       "    <tr>\n",
       "      <th>min</th>\n",
       "      <td>0.00</td>\n",
       "      <td>1.00</td>\n",
       "      <td>0.00</td>\n",
       "      <td>0.00</td>\n",
       "    </tr>\n",
       "    <tr>\n",
       "      <th>25%</th>\n",
       "      <td>5.00</td>\n",
       "      <td>113,000.00</td>\n",
       "      <td>8.00</td>\n",
       "      <td>5.00</td>\n",
       "    </tr>\n",
       "    <tr>\n",
       "      <th>50%</th>\n",
       "      <td>8.00</td>\n",
       "      <td>150,000.00</td>\n",
       "      <td>11.00</td>\n",
       "      <td>7.00</td>\n",
       "    </tr>\n",
       "    <tr>\n",
       "      <th>75%</th>\n",
       "      <td>10.00</td>\n",
       "      <td>190,000.00</td>\n",
       "      <td>14.00</td>\n",
       "      <td>10.00</td>\n",
       "    </tr>\n",
       "    <tr>\n",
       "      <th>max</th>\n",
       "      <td>26.00</td>\n",
       "      <td>1,200,000.00</td>\n",
       "      <td>29.00</td>\n",
       "      <td>21.00</td>\n",
       "    </tr>\n",
       "  </tbody>\n",
       "</table>\n",
       "</div>"
      ],
      "text/plain": [
       "       WorkingYears  YearlySalary  YearsCode  YearsCodePro\n",
       "count      1,892.00      2,658.00   2,654.00      2,651.00\n",
       "mean           7.83    162,516.27      11.13          6.93\n",
       "std            3.63     88,801.33       4.50          3.35\n",
       "min            0.00          1.00       0.00          0.00\n",
       "25%            5.00    113,000.00       8.00          5.00\n",
       "50%            8.00    150,000.00      11.00          7.00\n",
       "75%           10.00    190,000.00      14.00         10.00\n",
       "max           26.00  1,200,000.00      29.00         21.00"
      ]
     },
     "execution_count": 7,
     "metadata": {},
     "output_type": "execute_result"
    }
   ],
   "source": [
    "df2.query('RemoteWork==\"Remote\"').describe()"
   ]
  },
  {
   "cell_type": "code",
   "execution_count": 8,
   "metadata": {},
   "outputs": [
    {
     "data": {
      "text/html": [
       "<div>\n",
       "<style scoped>\n",
       "    .dataframe tbody tr th:only-of-type {\n",
       "        vertical-align: middle;\n",
       "    }\n",
       "\n",
       "    .dataframe tbody tr th {\n",
       "        vertical-align: top;\n",
       "    }\n",
       "\n",
       "    .dataframe thead th {\n",
       "        text-align: right;\n",
       "    }\n",
       "</style>\n",
       "<table border=\"1\" class=\"dataframe\">\n",
       "  <thead>\n",
       "    <tr style=\"text-align: right;\">\n",
       "      <th></th>\n",
       "      <th>WorkingYears</th>\n",
       "      <th>YearlySalary</th>\n",
       "      <th>YearsCode</th>\n",
       "      <th>YearsCodePro</th>\n",
       "    </tr>\n",
       "  </thead>\n",
       "  <tbody>\n",
       "    <tr>\n",
       "      <th>count</th>\n",
       "      <td>315.00</td>\n",
       "      <td>471.00</td>\n",
       "      <td>471.00</td>\n",
       "      <td>471.00</td>\n",
       "    </tr>\n",
       "    <tr>\n",
       "      <th>mean</th>\n",
       "      <td>6.39</td>\n",
       "      <td>130,546.63</td>\n",
       "      <td>10.26</td>\n",
       "      <td>5.49</td>\n",
       "    </tr>\n",
       "    <tr>\n",
       "      <th>std</th>\n",
       "      <td>3.77</td>\n",
       "      <td>103,360.87</td>\n",
       "      <td>4.79</td>\n",
       "      <td>3.51</td>\n",
       "    </tr>\n",
       "    <tr>\n",
       "      <th>min</th>\n",
       "      <td>0.00</td>\n",
       "      <td>17,000.00</td>\n",
       "      <td>0.00</td>\n",
       "      <td>0.00</td>\n",
       "    </tr>\n",
       "    <tr>\n",
       "      <th>25%</th>\n",
       "      <td>3.00</td>\n",
       "      <td>75,000.00</td>\n",
       "      <td>7.00</td>\n",
       "      <td>3.00</td>\n",
       "    </tr>\n",
       "    <tr>\n",
       "      <th>50%</th>\n",
       "      <td>6.00</td>\n",
       "      <td>106,000.00</td>\n",
       "      <td>10.00</td>\n",
       "      <td>5.00</td>\n",
       "    </tr>\n",
       "    <tr>\n",
       "      <th>75%</th>\n",
       "      <td>9.00</td>\n",
       "      <td>142,060.00</td>\n",
       "      <td>13.00</td>\n",
       "      <td>8.00</td>\n",
       "    </tr>\n",
       "    <tr>\n",
       "      <th>max</th>\n",
       "      <td>17.00</td>\n",
       "      <td>1,250,000.00</td>\n",
       "      <td>26.00</td>\n",
       "      <td>17.00</td>\n",
       "    </tr>\n",
       "  </tbody>\n",
       "</table>\n",
       "</div>"
      ],
      "text/plain": [
       "       WorkingYears  YearlySalary  YearsCode  YearsCodePro\n",
       "count        315.00        471.00     471.00        471.00\n",
       "mean           6.39    130,546.63      10.26          5.49\n",
       "std            3.77    103,360.87       4.79          3.51\n",
       "min            0.00     17,000.00       0.00          0.00\n",
       "25%            3.00     75,000.00       7.00          3.00\n",
       "50%            6.00    106,000.00      10.00          5.00\n",
       "75%            9.00    142,060.00      13.00          8.00\n",
       "max           17.00  1,250,000.00      26.00         17.00"
      ]
     },
     "execution_count": 8,
     "metadata": {},
     "output_type": "execute_result"
    }
   ],
   "source": [
    "df2.query('RemoteWork==\"In-person\"').describe()"
   ]
  },
  {
   "cell_type": "markdown",
   "metadata": {},
   "source": [
    "If both groups have the same range of ages, why the median in Remote Workers is over 2 years Working and coding professionally?? The Yearly salary is like 50% more!"
   ]
  },
  {
   "cell_type": "markdown",
   "metadata": {},
   "source": [
    "An interest insight! Remote Workers are working 15% more in Technology. The slight difference between the \"Other\" Industry is a factor too. Remote Workers are working 3 times fewer in Manufacturing Industry. I think this will be an important feature to respond why In-person people are earning less."
   ]
  },
  {
   "cell_type": "code",
   "execution_count": 9,
   "metadata": {},
   "outputs": [
    {
     "data": {
      "text/plain": [
       "Industry\n",
       "Information Services, IT, Software Development, or other Technology    718\n",
       "Other                                                                  265\n",
       "Financial Services                                                     245\n",
       "Healthcare                                                             186\n",
       "Manufacturing, Transportation, or Supply Chain                         160\n",
       "Name: count, dtype: int64"
      ]
     },
     "execution_count": 9,
     "metadata": {},
     "output_type": "execute_result"
    }
   ],
   "source": [
    "df2['Industry'].value_counts().nlargest()"
   ]
  },
  {
   "cell_type": "code",
   "execution_count": 10,
   "metadata": {},
   "outputs": [],
   "source": [
    "df_top_industry = df2.loc[df['Industry'].isin(df['Industry'].value_counts().nlargest().index)]"
   ]
  },
  {
   "cell_type": "code",
   "execution_count": 11,
   "metadata": {},
   "outputs": [
    {
     "data": {
      "image/png": "[encoded data removed]",
      "text/plain": [
       "<Figure size 2000x1000 with 1 Axes>"
      ]
     },
     "metadata": {},
     "output_type": "display_data"
    }
   ],
   "source": [
    "import seaborn as sns\n",
    "import matplotlib.pyplot as plt\n",
    "plt.figure(figsize=(20,10))\n",
    "sns.scatterplot(data=df_top_industry, x='YearsCodePro' ,y='YearlySalary', hue='Industry')\n",
    "plt.legend(loc='upper left', bbox_to_anchor=(1.02, 1))\n",
    "plt.show()"
   ]
  },
  {
   "cell_type": "code",
   "execution_count": 12,
   "metadata": {},
   "outputs": [
    {
     "data": {
      "text/plain": [
       "175106.58217270195"
      ]
     },
     "execution_count": 12,
     "metadata": {},
     "output_type": "execute_result"
    }
   ],
   "source": [
    "df2.query(\"Industry=='Information Services, IT, Software Development, or other Technology'\")['YearlySalary'].mean()"
   ]
  },
  {
   "cell_type": "code",
   "execution_count": 13,
   "metadata": {},
   "outputs": [
    {
     "data": {
      "text/plain": [
       "124076.04375"
      ]
     },
     "execution_count": 13,
     "metadata": {},
     "output_type": "execute_result"
    }
   ],
   "source": [
    "df2.query(\"Industry=='Manufacturing, Transportation, or Supply Chain'\")['YearlySalary'].mean()"
   ]
  },
  {
   "cell_type": "markdown",
   "metadata": {},
   "source": [
    "This is a big difference"
   ]
  },
  {
   "cell_type": "markdown",
   "metadata": {},
   "source": [
    "# Okey, the reason why we are here. *Our Classification Model*"
   ]
  },
  {
   "cell_type": "markdown",
   "metadata": {},
   "source": [
    "In the last notebook, I had a specific question: Why remote workers, having the same age and living in the United States, with the same years experience, are earning more than In-person workers? I asked it to ChatGPT in the last Notebook, but I want to put in practice this interesting tool, this superpower! **Logistic Regression**"
   ]
  },
  {
   "cell_type": "code",
   "execution_count": 14,
   "metadata": {},
   "outputs": [
    {
     "name": "stdout",
     "output_type": "stream",
     "text": [
      "<class 'pandas.core.frame.DataFrame'>\n",
      "Index: 3129 entries, 110 to 87954\n",
      "Data columns (total 19 columns):\n",
      " #   Column            Non-Null Count  Dtype  \n",
      "---  ------            --------------  -----  \n",
      " 0   BuyNewTool        2963 non-null   object \n",
      " 1   CoursesCert       1112 non-null   object \n",
      " 2   CurrentJob        3128 non-null   object \n",
      " 3   EdLevel           3129 non-null   object \n",
      " 4   Employment        3129 non-null   object \n",
      " 5   Industry          1884 non-null   object \n",
      " 6   MainBranch        3129 non-null   object \n",
      " 7   OSPersonal        3100 non-null   object \n",
      " 8   OSProffesional    2966 non-null   object \n",
      " 9   ProfessionalTech  2154 non-null   object \n",
      " 10  RemoteWork        3129 non-null   object \n",
      " 11  WorkingYears      2207 non-null   float64\n",
      " 12  YearlySalary      3129 non-null   float64\n",
      " 13  YearsCode         3125 non-null   float64\n",
      " 14  YearsCodePro      3122 non-null   float64\n",
      " 15  z_BenefitsAI      1323 non-null   object \n",
      " 16  z_FavorableAI     2035 non-null   object \n",
      " 17  z_TrustAI         2031 non-null   object \n",
      " 18  z_UsingAI         3129 non-null   object \n",
      "dtypes: float64(4), object(15)\n",
      "memory usage: 488.9+ KB\n"
     ]
    }
   ],
   "source": [
    "df2.info()"
   ]
  },
  {
   "cell_type": "markdown",
   "metadata": {},
   "source": [
    "My purpose here, is gonna be transform the RemoteWork column having dtype object, to a boolean dtype. As it will be my target column, the Remote workers will be \"1\" and In-person will be \"0\". After this, I'll do a quick data cleaning and EDA. "
   ]
  },
  {
   "cell_type": "code",
   "execution_count": 15,
   "metadata": {},
   "outputs": [
    {
     "data": {
      "text/plain": [
       "RemoteWork\n",
       "Remote       2658\n",
       "In-person     471\n",
       "Name: count, dtype: int64"
      ]
     },
     "execution_count": 15,
     "metadata": {},
     "output_type": "execute_result"
    }
   ],
   "source": [
    "df2['RemoteWork'].value_counts()"
   ]
  },
  {
   "cell_type": "code",
   "execution_count": 16,
   "metadata": {},
   "outputs": [],
   "source": [
    "df3 = df2.copy()\n",
    "df3['RemoteWork'] = df3['RemoteWork'].apply(lambda x: 1 if x=='Remote' else 0)"
   ]
  },
  {
   "cell_type": "code",
   "execution_count": 17,
   "metadata": {},
   "outputs": [
    {
     "data": {
      "text/plain": [
       "BuyNewTool           166\n",
       "CoursesCert         2017\n",
       "CurrentJob             1\n",
       "EdLevel                0\n",
       "Employment             0\n",
       "Industry            1245\n",
       "MainBranch             0\n",
       "OSPersonal            29\n",
       "OSProffesional       163\n",
       "ProfessionalTech     975\n",
       "RemoteWork             0\n",
       "WorkingYears         922\n",
       "YearlySalary           0\n",
       "YearsCode              4\n",
       "YearsCodePro           7\n",
       "z_BenefitsAI        1806\n",
       "z_FavorableAI       1094\n",
       "z_TrustAI           1098\n",
       "z_UsingAI              0\n",
       "dtype: int64"
      ]
     },
     "execution_count": 17,
     "metadata": {},
     "output_type": "execute_result"
    }
   ],
   "source": [
    "df3.isna().sum()"
   ]
  },
  {
   "cell_type": "markdown",
   "metadata": {},
   "source": [
    "1. I will drop the columns which will not help me. Those with too many null values. "
   ]
  },
  {
   "cell_type": "code",
   "execution_count": 18,
   "metadata": {},
   "outputs": [
    {
     "data": {
      "text/plain": [
       "z_UsingAI\n",
       "Yes                        1330\n",
       "No, and I don't plan to    1094\n",
       "No, but I plan to soon      705\n",
       "Name: count, dtype: int64"
      ]
     },
     "execution_count": 18,
     "metadata": {},
     "output_type": "execute_result"
    }
   ],
   "source": [
    "# This is gonna be an interesting feature\n",
    "df3['z_UsingAI'].value_counts()"
   ]
  },
  {
   "cell_type": "code",
   "execution_count": 19,
   "metadata": {},
   "outputs": [
    {
     "data": {
      "text/plain": [
       "ProfessionalTech\n",
       "DevOps function;Microservices;Automated testing;Observability tools;Developer portal or other central places to find tools/services;Continuous integration (CI) and (more often) continuous delivery    171\n",
       "DevOps function;Microservices;Automated testing;Observability tools;Continuous integration (CI) and (more often) continuous delivery                                                                    164\n",
       "None of these                                                                                                                                                                                           160\n",
       "DevOps function;Automated testing;Continuous integration (CI) and (more often) continuous delivery                                                                                                       89\n",
       "DevOps function;Automated testing;Observability tools;Continuous integration (CI) and (more often) continuous delivery                                                                                   82\n",
       "                                                                                                                                                                                                       ... \n",
       "DevOps function;Microservices;Automated testing;Developer portal or other central places to find tools/services                                                                                           1\n",
       "DevOps function;Microservices;Innersource initiative;Developer portal or other central places to find tools/services                                                                                      1\n",
       "Microservices;Automated testing;Observability tools;Innersource initiative;Continuous integration (CI) and (more often) continuous delivery;AI-assisted technology tool(s)                                1\n",
       "Microservices;Automated testing;Innersource initiative;Developer portal or other central places to find tools/services                                                                                    1\n",
       "DevOps function;Microservices;Automated testing;Observability tools;Innersource initiative                                                                                                                1\n",
       "Name: count, Length: 156, dtype: int64"
      ]
     },
     "execution_count": 19,
     "metadata": {},
     "output_type": "execute_result"
    }
   ],
   "source": [
    "df3['ProfessionalTech'].value_counts()"
   ]
  },
  {
   "cell_type": "code",
   "execution_count": 20,
   "metadata": {},
   "outputs": [],
   "source": [
    "df4 = df3.drop(['CoursesCert','z_BenefitsAI','z_FavorableAI','z_TrustAI','ProfessionalTech'], axis='columns')"
   ]
  },
  {
   "cell_type": "code",
   "execution_count": 21,
   "metadata": {},
   "outputs": [
    {
     "name": "stdout",
     "output_type": "stream",
     "text": [
      "<class 'pandas.core.frame.DataFrame'>\n",
      "Index: 3129 entries, 110 to 87954\n",
      "Data columns (total 14 columns):\n",
      " #   Column          Non-Null Count  Dtype  \n",
      "---  ------          --------------  -----  \n",
      " 0   BuyNewTool      2963 non-null   object \n",
      " 1   CurrentJob      3128 non-null   object \n",
      " 2   EdLevel         3129 non-null   object \n",
      " 3   Employment      3129 non-null   object \n",
      " 4   Industry        1884 non-null   object \n",
      " 5   MainBranch      3129 non-null   object \n",
      " 6   OSPersonal      3100 non-null   object \n",
      " 7   OSProffesional  2966 non-null   object \n",
      " 8   RemoteWork      3129 non-null   int64  \n",
      " 9   WorkingYears    2207 non-null   float64\n",
      " 10  YearlySalary    3129 non-null   float64\n",
      " 11  YearsCode       3125 non-null   float64\n",
      " 12  YearsCodePro    3122 non-null   float64\n",
      " 13  z_UsingAI       3129 non-null   object \n",
      "dtypes: float64(4), int64(1), object(9)\n",
      "memory usage: 366.7+ KB\n"
     ]
    }
   ],
   "source": [
    "df4.info()"
   ]
  },
  {
   "cell_type": "code",
   "execution_count": 22,
   "metadata": {},
   "outputs": [],
   "source": [
    "df4['z_UsingAI'] = df4['z_UsingAI'].apply(lambda x: 1 if x=='Yes' else 0)"
   ]
  },
  {
   "cell_type": "code",
   "execution_count": 23,
   "metadata": {},
   "outputs": [
    {
     "data": {
      "text/plain": [
       "OSProffesional\n",
       "MacOS                                                                          917\n",
       "Windows                                                                        459\n",
       "MacOS;Ubuntu                                                                   134\n",
       "Ubuntu                                                                         128\n",
       "Windows;Windows Subsystem for Linux (WSL)                                      114\n",
       "                                                                              ... \n",
       "Android;iOS;iPadOS;MacOS;Other Linux-based                                       1\n",
       "Debian;iOS;MacOS;Other Linux-based;Ubuntu;Windows Subsystem for Linux (WSL)      1\n",
       "Debian;Other Linux-based;Ubuntu;Windows                                          1\n",
       "Android;MacOS;Windows                                                            1\n",
       "Fedora;MacOS;Red Hat                                                             1\n",
       "Name: count, Length: 327, dtype: int64"
      ]
     },
     "execution_count": 23,
     "metadata": {},
     "output_type": "execute_result"
    }
   ],
   "source": [
    "df4['OSProffesional'].value_counts()"
   ]
  },
  {
   "cell_type": "code",
   "execution_count": 24,
   "metadata": {},
   "outputs": [
    {
     "data": {
      "text/plain": [
       "Industry\n",
       "Information Services, IT, Software Development, or other Technology    718\n",
       "Other                                                                  265\n",
       "Financial Services                                                     245\n",
       "Healthcare                                                             186\n",
       "Manufacturing, Transportation, or Supply Chain                         160\n",
       "Retail and Consumer Services                                           117\n",
       "Insurance                                                               65\n",
       "Advertising Services                                                    63\n",
       "Higher Education                                                        38\n",
       "Legal Services                                                          11\n",
       "Oil & Gas                                                               10\n",
       "Wholesale                                                                6\n",
       "Name: count, dtype: int64"
      ]
     },
     "execution_count": 24,
     "metadata": {},
     "output_type": "execute_result"
    }
   ],
   "source": [
    "df4['Industry'].value_counts()"
   ]
  },
  {
   "cell_type": "code",
   "execution_count": 25,
   "metadata": {},
   "outputs": [],
   "source": [
    "df4['Industry'] = df4['Industry'].fillna('Not_Responded')"
   ]
  },
  {
   "cell_type": "code",
   "execution_count": 26,
   "metadata": {},
   "outputs": [],
   "source": [
    "top_industry = df4['Industry'].value_counts().nlargest(7).index\n",
    "df5 = df4.copy()\n",
    "df5['Industry'] = df5['Industry'].apply(lambda x: x if x in top_industry else 'Other')"
   ]
  },
  {
   "cell_type": "code",
   "execution_count": 27,
   "metadata": {},
   "outputs": [
    {
     "data": {
      "text/plain": [
       "Industry\n",
       "Not_Responded                                                          1245\n",
       "Information Services, IT, Software Development, or other Technology     718\n",
       "Other                                                                   458\n",
       "Financial Services                                                      245\n",
       "Healthcare                                                              186\n",
       "Manufacturing, Transportation, or Supply Chain                          160\n",
       "Retail and Consumer Services                                            117\n",
       "Name: count, dtype: int64"
      ]
     },
     "execution_count": 27,
     "metadata": {},
     "output_type": "execute_result"
    }
   ],
   "source": [
    "df5['Industry'].value_counts()"
   ]
  },
  {
   "cell_type": "code",
   "execution_count": 28,
   "metadata": {},
   "outputs": [
    {
     "data": {
      "text/plain": [
       "(array([0, 1, 2, 3, 4, 5, 6]),\n",
       " [Text(0, 0, 'Not_Responded'),\n",
       "  Text(1, 0, 'Manufacturing, Transportation, or Supply Chain'),\n",
       "  Text(2, 0, 'Retail and Consumer Services'),\n",
       "  Text(3, 0, 'Financial Services'),\n",
       "  Text(4, 0, 'Information Services, IT, Software Development, or other Technology'),\n",
       "  Text(5, 0, 'Other'),\n",
       "  Text(6, 0, 'Healthcare')])"
      ]
     },
     "execution_count": 28,
     "metadata": {},
     "output_type": "execute_result"
    },
    {
     "data": {
      "image/png": "[encoded data removed]",
      "text/plain": [
       "<Figure size 640x480 with 1 Axes>"
      ]
     },
     "metadata": {},
     "output_type": "display_data"
    }
   ],
   "source": [
    "sns.boxplot(data=df5, x='Industry',y='YearlySalary')\n",
    "plt.xticks(rotation=90)"
   ]
  },
  {
   "cell_type": "code",
   "execution_count": 29,
   "metadata": {},
   "outputs": [
    {
     "data": {
      "text/plain": [
       "count       3,129.00\n",
       "mean      157,703.97\n",
       "std        91,838.29\n",
       "min             1.00\n",
       "25%       105,000.00\n",
       "50%       140,000.00\n",
       "75%       185,000.00\n",
       "max     1,250,000.00\n",
       "Name: YearlySalary, dtype: float64"
      ]
     },
     "execution_count": 29,
     "metadata": {},
     "output_type": "execute_result"
    }
   ],
   "source": [
    "df['YearlySalary'].describe()"
   ]
  },
  {
   "cell_type": "code",
   "execution_count": 30,
   "metadata": {},
   "outputs": [
    {
     "data": {
      "text/plain": [
       "3050"
      ]
     },
     "execution_count": 30,
     "metadata": {},
     "output_type": "execute_result"
    }
   ],
   "source": [
    "(df['YearlySalary'] < 400000).sum()"
   ]
  },
  {
   "cell_type": "code",
   "execution_count": 31,
   "metadata": {},
   "outputs": [],
   "source": [
    "df6 = df5.loc[df['YearlySalary'] < 400000]"
   ]
  },
  {
   "cell_type": "code",
   "execution_count": 32,
   "metadata": {},
   "outputs": [
    {
     "name": "stderr",
     "output_type": "stream",
     "text": [
      "/var/folders/xf/nkmp0gn94v1bjxp47j6nsslc0000gp/T/ipykernel_13112/3243348.py:1: SettingWithCopyWarning: \n",
      "A value is trying to be set on a copy of a slice from a DataFrame.\n",
      "Try using .loc[row_indexer,col_indexer] = value instead\n",
      "\n",
      "See the caveats in the documentation: https://pandas.pydata.org/pandas-docs/stable/user_guide/indexing.html#returning-a-view-versus-a-copy\n",
      "  df6['Industry'] = df6['Industry'].apply(lambda x: 'Technology' if x=='Information Services, IT, Software Development, or other Technology' else x)\n",
      "/var/folders/xf/nkmp0gn94v1bjxp47j6nsslc0000gp/T/ipykernel_13112/3243348.py:2: SettingWithCopyWarning: \n",
      "A value is trying to be set on a copy of a slice from a DataFrame.\n",
      "Try using .loc[row_indexer,col_indexer] = value instead\n",
      "\n",
      "See the caveats in the documentation: https://pandas.pydata.org/pandas-docs/stable/user_guide/indexing.html#returning-a-view-versus-a-copy\n",
      "  df6['Industry'] = df6['Industry'].apply(lambda x: 'Manufacturing' if x=='Manufacturing, Transportation, or Supply Chain' else x)\n",
      "/var/folders/xf/nkmp0gn94v1bjxp47j6nsslc0000gp/T/ipykernel_13112/3243348.py:3: SettingWithCopyWarning: \n",
      "A value is trying to be set on a copy of a slice from a DataFrame.\n",
      "Try using .loc[row_indexer,col_indexer] = value instead\n",
      "\n",
      "See the caveats in the documentation: https://pandas.pydata.org/pandas-docs/stable/user_guide/indexing.html#returning-a-view-versus-a-copy\n",
      "  df6['Industry'] = df6['Industry'].apply(lambda x: 'Retail' if x=='Retail and Consumer Services' else x)\n"
     ]
    }
   ],
   "source": [
    "df6['Industry'] = df6['Industry'].apply(lambda x: 'Technology' if x=='Information Services, IT, Software Development, or other Technology' else x)\n",
    "df6['Industry'] = df6['Industry'].apply(lambda x: 'Manufacturing' if x=='Manufacturing, Transportation, or Supply Chain' else x)\n",
    "df6['Industry'] = df6['Industry'].apply(lambda x: 'Retail' if x=='Retail and Consumer Services' else x)"
   ]
  },
  {
   "cell_type": "code",
   "execution_count": 33,
   "metadata": {},
   "outputs": [
    {
     "data": {
      "image/png": "[encoded data removed]",
      "text/plain": [
       "<Figure size 1200x600 with 1 Axes>"
      ]
     },
     "metadata": {},
     "output_type": "display_data"
    }
   ],
   "source": [
    "plt.style.use('fivethirtyeight')\n",
    "plt.figure(figsize=(12,6))\n",
    "sns.boxplot(data=df6, x='Industry',y='YearlySalary')\n",
    "plt.title('Yearly Salary for people between 25-34 years in US in the different industries')\n",
    "plt.xticks(rotation=90)\n",
    "plt.show()\n"
   ]
  },
  {
   "cell_type": "markdown",
   "metadata": {},
   "source": [
    "Perfect. People in Financial Services and Technology are earning more than the other ones. Even compared with the \"Not_Responded\" and \"Other\" columns"
   ]
  },
  {
   "cell_type": "markdown",
   "metadata": {},
   "source": [
    "## Now, I want to see the difference between the remote and in-person workers with the same graph"
   ]
  },
  {
   "cell_type": "code",
   "execution_count": 34,
   "metadata": {},
   "outputs": [],
   "source": [
    "df6_Remote = df6.query(\"RemoteWork == 1\")"
   ]
  },
  {
   "cell_type": "code",
   "execution_count": 35,
   "metadata": {},
   "outputs": [],
   "source": [
    "df6_inperson = df6.query(\"RemoteWork == 0\")"
   ]
  },
  {
   "cell_type": "code",
   "execution_count": 36,
   "metadata": {},
   "outputs": [
    {
     "data": {
      "image/png": "[encoded data removed]",
      "text/plain": [
       "<Figure size 1200x600 with 1 Axes>"
      ]
     },
     "metadata": {},
     "output_type": "display_data"
    }
   ],
   "source": [
    "plt.style.use('fivethirtyeight')\n",
    "plt.figure(figsize=(12,6))\n",
    "sns.boxplot(data=df6_Remote, x='Industry',y='YearlySalary')\n",
    "plt.title('Yearly Salary for people between 25-34 years in US working remote in the different industries')\n",
    "plt.xticks(rotation=90)\n",
    "plt.show()\n"
   ]
  },
  {
   "cell_type": "code",
   "execution_count": 37,
   "metadata": {},
   "outputs": [
    {
     "data": {
      "image/png": "[encoded data removed]",
      "text/plain": [
       "<Figure size 1200x600 with 1 Axes>"
      ]
     },
     "metadata": {},
     "output_type": "display_data"
    }
   ],
   "source": [
    "plt.style.use('fivethirtyeight')\n",
    "plt.figure(figsize=(12,6))\n",
    "sns.boxplot(data=df6_inperson, x='Industry',y='YearlySalary')\n",
    "plt.title('Yearly Salary for people between 25-34 years in US in the different industries')\n",
    "plt.xticks(rotation=90)\n",
    "plt.show()"
   ]
  },
  {
   "cell_type": "markdown",
   "metadata": {},
   "source": [
    "Wow, Healthcare it's over all the other ones on in-person jobs. The graph for remote workers don't seems that changed too much"
   ]
  },
  {
   "cell_type": "code",
   "execution_count": 38,
   "metadata": {},
   "outputs": [
    {
     "data": {
      "text/plain": [
       "BuyNewTool        157\n",
       "CurrentJob          1\n",
       "EdLevel             0\n",
       "Employment          0\n",
       "Industry            0\n",
       "MainBranch          0\n",
       "OSPersonal         29\n",
       "OSProffesional    160\n",
       "RemoteWork          0\n",
       "WorkingYears      895\n",
       "YearlySalary        0\n",
       "YearsCode           4\n",
       "YearsCodePro        7\n",
       "z_UsingAI           0\n",
       "dtype: int64"
      ]
     },
     "execution_count": 38,
     "metadata": {},
     "output_type": "execute_result"
    }
   ],
   "source": [
    "df6.isna().sum()"
   ]
  },
  {
   "cell_type": "markdown",
   "metadata": {},
   "source": [
    "I can't drop the \"WorkingYears\" column, because it's a very important feature for my model.  "
   ]
  },
  {
   "cell_type": "code",
   "execution_count": 39,
   "metadata": {},
   "outputs": [
    {
     "data": {
      "text/plain": [
       "<Axes: xlabel='WorkingYears', ylabel='Count'>"
      ]
     },
     "execution_count": 39,
     "metadata": {},
     "output_type": "execute_result"
    },
    {
     "data": {
      "image/png": "[encoded data removed]",
      "text/plain": [
       "<Figure size 640x480 with 1 Axes>"
      ]
     },
     "metadata": {},
     "output_type": "display_data"
    }
   ],
   "source": [
    "sns.histplot(data=df6, x='WorkingYears', kde=True)"
   ]
  },
  {
   "cell_type": "markdown",
   "metadata": {},
   "source": [
    "It seems like a normal distribution. so I will just fill na values with the median. Or, should I fill them with the mean??"
   ]
  },
  {
   "cell_type": "code",
   "execution_count": 40,
   "metadata": {},
   "outputs": [
    {
     "data": {
      "text/plain": [
       "count   2,155.00\n",
       "mean        7.58\n",
       "std         3.68\n",
       "min         0.00\n",
       "25%         5.00\n",
       "50%         7.00\n",
       "75%        10.00\n",
       "max        26.00\n",
       "Name: WorkingYears, dtype: float64"
      ]
     },
     "execution_count": 40,
     "metadata": {},
     "output_type": "execute_result"
    }
   ],
   "source": [
    "df6['WorkingYears'].describe()"
   ]
  },
  {
   "cell_type": "code",
   "execution_count": 41,
   "metadata": {},
   "outputs": [],
   "source": [
    "wypct = (df6['WorkingYears'].isna().sum()*100)/len(df6['WorkingYears'])"
   ]
  },
  {
   "cell_type": "code",
   "execution_count": 42,
   "metadata": {},
   "outputs": [
    {
     "name": "stdout",
     "output_type": "stream",
     "text": [
      "Percentage of missing values on WorkingYears: 29.34\n"
     ]
    }
   ],
   "source": [
    "print((f\"Percentage of missing values on WorkingYears: {wypct:.2f}\"))"
   ]
  },
  {
   "cell_type": "markdown",
   "metadata": {},
   "source": [
    "I don't know if I should fill all these values with the median, it's a big pct. I don't want to drop the nan values neither, cuz again it's a big pct. And dropping the column is no negotiable, cuz it's one of my most important features."
   ]
  },
  {
   "cell_type": "code",
   "execution_count": 43,
   "metadata": {},
   "outputs": [
    {
     "data": {
      "text/html": [
       "<div>\n",
       "<style scoped>\n",
       "    .dataframe tbody tr th:only-of-type {\n",
       "        vertical-align: middle;\n",
       "    }\n",
       "\n",
       "    .dataframe tbody tr th {\n",
       "        vertical-align: top;\n",
       "    }\n",
       "\n",
       "    .dataframe thead th {\n",
       "        text-align: right;\n",
       "    }\n",
       "</style>\n",
       "<table border=\"1\" class=\"dataframe\">\n",
       "  <thead>\n",
       "    <tr style=\"text-align: right;\">\n",
       "      <th></th>\n",
       "      <th>BuyNewTool</th>\n",
       "      <th>CurrentJob</th>\n",
       "      <th>EdLevel</th>\n",
       "      <th>Employment</th>\n",
       "      <th>Industry</th>\n",
       "      <th>MainBranch</th>\n",
       "      <th>OSPersonal</th>\n",
       "      <th>OSProffesional</th>\n",
       "      <th>RemoteWork</th>\n",
       "      <th>WorkingYears</th>\n",
       "      <th>YearlySalary</th>\n",
       "      <th>YearsCode</th>\n",
       "      <th>YearsCodePro</th>\n",
       "      <th>z_UsingAI</th>\n",
       "    </tr>\n",
       "  </thead>\n",
       "  <tbody>\n",
       "    <tr>\n",
       "      <th>1732</th>\n",
       "      <td>Start a free trial;Ask developers I know/work ...</td>\n",
       "      <td>Developer, back-end</td>\n",
       "      <td>Bachelor’s degree (B.A., B.S., B.Eng., etc.)</td>\n",
       "      <td>Employed, full-time</td>\n",
       "      <td>Not_Responded</td>\n",
       "      <td>I am a developer by profession</td>\n",
       "      <td>MacOS;Ubuntu</td>\n",
       "      <td>MacOS;Ubuntu</td>\n",
       "      <td>0</td>\n",
       "      <td>NaN</td>\n",
       "      <td>130,000.00</td>\n",
       "      <td>8.00</td>\n",
       "      <td>2.00</td>\n",
       "      <td>1</td>\n",
       "    </tr>\n",
       "    <tr>\n",
       "      <th>2715</th>\n",
       "      <td>Ask developers I know/work with;Visit develope...</td>\n",
       "      <td>Data scientist or machine learning specialist</td>\n",
       "      <td>Bachelor’s degree (B.A., B.S., B.Eng., etc.)</td>\n",
       "      <td>Employed, full-time</td>\n",
       "      <td>Not_Responded</td>\n",
       "      <td>I am a developer by profession</td>\n",
       "      <td>Debian;Windows;Windows Subsystem for Linux (WSL)</td>\n",
       "      <td>Debian</td>\n",
       "      <td>0</td>\n",
       "      <td>NaN</td>\n",
       "      <td>130,000.00</td>\n",
       "      <td>4.00</td>\n",
       "      <td>3.00</td>\n",
       "      <td>0</td>\n",
       "    </tr>\n",
       "    <tr>\n",
       "      <th>2837</th>\n",
       "      <td>Start a free trial;Ask developers I know/work ...</td>\n",
       "      <td>Developer, front-end</td>\n",
       "      <td>Some college/university study without earning ...</td>\n",
       "      <td>Employed, full-time</td>\n",
       "      <td>Not_Responded</td>\n",
       "      <td>I am a developer by profession</td>\n",
       "      <td>Windows</td>\n",
       "      <td>NaN</td>\n",
       "      <td>0</td>\n",
       "      <td>NaN</td>\n",
       "      <td>65,000.00</td>\n",
       "      <td>4.00</td>\n",
       "      <td>2.00</td>\n",
       "      <td>1</td>\n",
       "    </tr>\n",
       "    <tr>\n",
       "      <th>2958</th>\n",
       "      <td>Start a free trial;Ask developers I know/work ...</td>\n",
       "      <td>Developer, embedded applications or devices</td>\n",
       "      <td>Master’s degree (M.A., M.S., M.Eng., MBA, etc.)</td>\n",
       "      <td>Employed, full-time</td>\n",
       "      <td>Not_Responded</td>\n",
       "      <td>I am a developer by profession</td>\n",
       "      <td>Windows</td>\n",
       "      <td>Windows</td>\n",
       "      <td>0</td>\n",
       "      <td>NaN</td>\n",
       "      <td>80,000.00</td>\n",
       "      <td>9.00</td>\n",
       "      <td>0.00</td>\n",
       "      <td>0</td>\n",
       "    </tr>\n",
       "    <tr>\n",
       "      <th>4041</th>\n",
       "      <td>NaN</td>\n",
       "      <td>Developer, back-end</td>\n",
       "      <td>Bachelor’s degree (B.A., B.S., B.Eng., etc.)</td>\n",
       "      <td>Employed, full-time</td>\n",
       "      <td>Not_Responded</td>\n",
       "      <td>I am a developer by profession</td>\n",
       "      <td>Windows</td>\n",
       "      <td>Windows</td>\n",
       "      <td>0</td>\n",
       "      <td>NaN</td>\n",
       "      <td>141,000.00</td>\n",
       "      <td>9.00</td>\n",
       "      <td>4.00</td>\n",
       "      <td>0</td>\n",
       "    </tr>\n",
       "    <tr>\n",
       "      <th>...</th>\n",
       "      <td>...</td>\n",
       "      <td>...</td>\n",
       "      <td>...</td>\n",
       "      <td>...</td>\n",
       "      <td>...</td>\n",
       "      <td>...</td>\n",
       "      <td>...</td>\n",
       "      <td>...</td>\n",
       "      <td>...</td>\n",
       "      <td>...</td>\n",
       "      <td>...</td>\n",
       "      <td>...</td>\n",
       "      <td>...</td>\n",
       "      <td>...</td>\n",
       "    </tr>\n",
       "    <tr>\n",
       "      <th>87526</th>\n",
       "      <td>Start a free trial</td>\n",
       "      <td>Engineer, data</td>\n",
       "      <td>Secondary school (e.g. American high school, G...</td>\n",
       "      <td>Employed, full-time</td>\n",
       "      <td>Not_Responded</td>\n",
       "      <td>I am not primarily a developer, but I write co...</td>\n",
       "      <td>Windows</td>\n",
       "      <td>MacOS</td>\n",
       "      <td>1</td>\n",
       "      <td>NaN</td>\n",
       "      <td>127,000.00</td>\n",
       "      <td>1.00</td>\n",
       "      <td>0.00</td>\n",
       "      <td>1</td>\n",
       "    </tr>\n",
       "    <tr>\n",
       "      <th>87578</th>\n",
       "      <td>Start a free trial;Ask developers I know/work ...</td>\n",
       "      <td>Developer, full-stack</td>\n",
       "      <td>Associate degree (A.A., A.S., etc.)</td>\n",
       "      <td>Employed, full-time</td>\n",
       "      <td>Not_Responded</td>\n",
       "      <td>I am a developer by profession</td>\n",
       "      <td>iOS;iPadOS;MacOS;Other Linux-based;Ubuntu;Windows</td>\n",
       "      <td>Windows</td>\n",
       "      <td>1</td>\n",
       "      <td>NaN</td>\n",
       "      <td>110,000.00</td>\n",
       "      <td>12.00</td>\n",
       "      <td>7.00</td>\n",
       "      <td>0</td>\n",
       "    </tr>\n",
       "    <tr>\n",
       "      <th>87674</th>\n",
       "      <td>Start a free trial;Ask developers I know/work ...</td>\n",
       "      <td>Developer, full-stack</td>\n",
       "      <td>Master’s degree (M.A., M.S., M.Eng., MBA, etc.)</td>\n",
       "      <td>Employed, full-time</td>\n",
       "      <td>Not_Responded</td>\n",
       "      <td>I am a developer by profession</td>\n",
       "      <td>MacOS</td>\n",
       "      <td>MacOS</td>\n",
       "      <td>1</td>\n",
       "      <td>NaN</td>\n",
       "      <td>115,000.00</td>\n",
       "      <td>13.00</td>\n",
       "      <td>7.00</td>\n",
       "      <td>1</td>\n",
       "    </tr>\n",
       "    <tr>\n",
       "      <th>87726</th>\n",
       "      <td>Start a free trial</td>\n",
       "      <td>Developer, full-stack</td>\n",
       "      <td>Master’s degree (M.A., M.S., M.Eng., MBA, etc.)</td>\n",
       "      <td>Employed, full-time</td>\n",
       "      <td>Not_Responded</td>\n",
       "      <td>I am a developer by profession</td>\n",
       "      <td>Debian;MacOS</td>\n",
       "      <td>Debian;MacOS</td>\n",
       "      <td>1</td>\n",
       "      <td>NaN</td>\n",
       "      <td>353,000.00</td>\n",
       "      <td>8.00</td>\n",
       "      <td>5.00</td>\n",
       "      <td>0</td>\n",
       "    </tr>\n",
       "    <tr>\n",
       "      <th>87779</th>\n",
       "      <td>Ask developers I know/work with;Visit develope...</td>\n",
       "      <td>Developer, full-stack</td>\n",
       "      <td>Some college/university study without earning ...</td>\n",
       "      <td>Employed, full-time</td>\n",
       "      <td>Not_Responded</td>\n",
       "      <td>I am a developer by profession</td>\n",
       "      <td>MacOS;Windows</td>\n",
       "      <td>NaN</td>\n",
       "      <td>1</td>\n",
       "      <td>NaN</td>\n",
       "      <td>230,000.00</td>\n",
       "      <td>6.00</td>\n",
       "      <td>3.00</td>\n",
       "      <td>0</td>\n",
       "    </tr>\n",
       "  </tbody>\n",
       "</table>\n",
       "<p>895 rows × 14 columns</p>\n",
       "</div>"
      ],
      "text/plain": [
       "                                              BuyNewTool   \n",
       "1732   Start a free trial;Ask developers I know/work ...  \\\n",
       "2715   Ask developers I know/work with;Visit develope...   \n",
       "2837   Start a free trial;Ask developers I know/work ...   \n",
       "2958   Start a free trial;Ask developers I know/work ...   \n",
       "4041                                                 NaN   \n",
       "...                                                  ...   \n",
       "87526                                 Start a free trial   \n",
       "87578  Start a free trial;Ask developers I know/work ...   \n",
       "87674  Start a free trial;Ask developers I know/work ...   \n",
       "87726                                 Start a free trial   \n",
       "87779  Ask developers I know/work with;Visit develope...   \n",
       "\n",
       "                                          CurrentJob   \n",
       "1732                             Developer, back-end  \\\n",
       "2715   Data scientist or machine learning specialist   \n",
       "2837                            Developer, front-end   \n",
       "2958     Developer, embedded applications or devices   \n",
       "4041                             Developer, back-end   \n",
       "...                                              ...   \n",
       "87526                                 Engineer, data   \n",
       "87578                          Developer, full-stack   \n",
       "87674                          Developer, full-stack   \n",
       "87726                          Developer, full-stack   \n",
       "87779                          Developer, full-stack   \n",
       "\n",
       "                                                 EdLevel           Employment   \n",
       "1732        Bachelor’s degree (B.A., B.S., B.Eng., etc.)  Employed, full-time  \\\n",
       "2715        Bachelor’s degree (B.A., B.S., B.Eng., etc.)  Employed, full-time   \n",
       "2837   Some college/university study without earning ...  Employed, full-time   \n",
       "2958     Master’s degree (M.A., M.S., M.Eng., MBA, etc.)  Employed, full-time   \n",
       "4041        Bachelor’s degree (B.A., B.S., B.Eng., etc.)  Employed, full-time   \n",
       "...                                                  ...                  ...   \n",
       "87526  Secondary school (e.g. American high school, G...  Employed, full-time   \n",
       "87578                Associate degree (A.A., A.S., etc.)  Employed, full-time   \n",
       "87674    Master’s degree (M.A., M.S., M.Eng., MBA, etc.)  Employed, full-time   \n",
       "87726    Master’s degree (M.A., M.S., M.Eng., MBA, etc.)  Employed, full-time   \n",
       "87779  Some college/university study without earning ...  Employed, full-time   \n",
       "\n",
       "            Industry                                         MainBranch   \n",
       "1732   Not_Responded                     I am a developer by profession  \\\n",
       "2715   Not_Responded                     I am a developer by profession   \n",
       "2837   Not_Responded                     I am a developer by profession   \n",
       "2958   Not_Responded                     I am a developer by profession   \n",
       "4041   Not_Responded                     I am a developer by profession   \n",
       "...              ...                                                ...   \n",
       "87526  Not_Responded  I am not primarily a developer, but I write co...   \n",
       "87578  Not_Responded                     I am a developer by profession   \n",
       "87674  Not_Responded                     I am a developer by profession   \n",
       "87726  Not_Responded                     I am a developer by profession   \n",
       "87779  Not_Responded                     I am a developer by profession   \n",
       "\n",
       "                                              OSPersonal OSProffesional   \n",
       "1732                                        MacOS;Ubuntu   MacOS;Ubuntu  \\\n",
       "2715    Debian;Windows;Windows Subsystem for Linux (WSL)         Debian   \n",
       "2837                                             Windows            NaN   \n",
       "2958                                             Windows        Windows   \n",
       "4041                                             Windows        Windows   \n",
       "...                                                  ...            ...   \n",
       "87526                                            Windows          MacOS   \n",
       "87578  iOS;iPadOS;MacOS;Other Linux-based;Ubuntu;Windows        Windows   \n",
       "87674                                              MacOS          MacOS   \n",
       "87726                                       Debian;MacOS   Debian;MacOS   \n",
       "87779                                      MacOS;Windows            NaN   \n",
       "\n",
       "       RemoteWork  WorkingYears  YearlySalary  YearsCode  YearsCodePro   \n",
       "1732            0           NaN    130,000.00       8.00          2.00  \\\n",
       "2715            0           NaN    130,000.00       4.00          3.00   \n",
       "2837            0           NaN     65,000.00       4.00          2.00   \n",
       "2958            0           NaN     80,000.00       9.00          0.00   \n",
       "4041            0           NaN    141,000.00       9.00          4.00   \n",
       "...           ...           ...           ...        ...           ...   \n",
       "87526           1           NaN    127,000.00       1.00          0.00   \n",
       "87578           1           NaN    110,000.00      12.00          7.00   \n",
       "87674           1           NaN    115,000.00      13.00          7.00   \n",
       "87726           1           NaN    353,000.00       8.00          5.00   \n",
       "87779           1           NaN    230,000.00       6.00          3.00   \n",
       "\n",
       "       z_UsingAI  \n",
       "1732           1  \n",
       "2715           0  \n",
       "2837           1  \n",
       "2958           0  \n",
       "4041           0  \n",
       "...          ...  \n",
       "87526          1  \n",
       "87578          0  \n",
       "87674          1  \n",
       "87726          0  \n",
       "87779          0  \n",
       "\n",
       "[895 rows x 14 columns]"
      ]
     },
     "execution_count": 43,
     "metadata": {},
     "output_type": "execute_result"
    }
   ],
   "source": [
    "df6.query(\"WorkingYears.isna()\")"
   ]
  },
  {
   "cell_type": "markdown",
   "metadata": {},
   "source": [
    "I know how to fill them!! I will use the \"YearsCodePro\" column, because, it's almost the same, isn't it?? And if there is still missing values, I will fill them with the median 😄"
   ]
  },
  {
   "cell_type": "code",
   "execution_count": 44,
   "metadata": {},
   "outputs": [
    {
     "name": "stderr",
     "output_type": "stream",
     "text": [
      "/var/folders/xf/nkmp0gn94v1bjxp47j6nsslc0000gp/T/ipykernel_13112/2527759595.py:2: SettingWithCopyWarning: \n",
      "A value is trying to be set on a copy of a slice from a DataFrame\n",
      "\n",
      "See the caveats in the documentation: https://pandas.pydata.org/pandas-docs/stable/user_guide/indexing.html#returning-a-view-versus-a-copy\n",
      "  df6['WorkingYears'].fillna(df6['YearsCodePro'], inplace=True)\n"
     ]
    }
   ],
   "source": [
    "# Fill missing values in \"WorkingYears\" with values from \"YearsCodePro\" if available\n",
    "df6['WorkingYears'].fillna(df6['YearsCodePro'], inplace=True)\n"
   ]
  },
  {
   "cell_type": "code",
   "execution_count": 45,
   "metadata": {},
   "outputs": [
    {
     "data": {
      "text/plain": [
       "BuyNewTool        157\n",
       "CurrentJob          1\n",
       "EdLevel             0\n",
       "Employment          0\n",
       "Industry            0\n",
       "MainBranch          0\n",
       "OSPersonal         29\n",
       "OSProffesional    160\n",
       "RemoteWork          0\n",
       "WorkingYears        5\n",
       "YearlySalary        0\n",
       "YearsCode           4\n",
       "YearsCodePro        7\n",
       "z_UsingAI           0\n",
       "dtype: int64"
      ]
     },
     "execution_count": 45,
     "metadata": {},
     "output_type": "execute_result"
    }
   ],
   "source": [
    "df6.isna().sum()"
   ]
  },
  {
   "cell_type": "code",
   "execution_count": 46,
   "metadata": {},
   "outputs": [
    {
     "data": {
      "text/html": [
       "<div>\n",
       "<style scoped>\n",
       "    .dataframe tbody tr th:only-of-type {\n",
       "        vertical-align: middle;\n",
       "    }\n",
       "\n",
       "    .dataframe tbody tr th {\n",
       "        vertical-align: top;\n",
       "    }\n",
       "\n",
       "    .dataframe thead th {\n",
       "        text-align: right;\n",
       "    }\n",
       "</style>\n",
       "<table border=\"1\" class=\"dataframe\">\n",
       "  <thead>\n",
       "    <tr style=\"text-align: right;\">\n",
       "      <th></th>\n",
       "      <th>Age</th>\n",
       "      <th>BuyNewTool</th>\n",
       "      <th>Country</th>\n",
       "      <th>CoursesCert</th>\n",
       "      <th>CurrentJob</th>\n",
       "      <th>EdLevel</th>\n",
       "      <th>Employment</th>\n",
       "      <th>Industry</th>\n",
       "      <th>MainBranch</th>\n",
       "      <th>OSPersonal</th>\n",
       "      <th>OSProffesional</th>\n",
       "      <th>ProfessionalTech</th>\n",
       "      <th>RemoteWork</th>\n",
       "      <th>TargetAIDeveloper</th>\n",
       "      <th>TargetAISearch</th>\n",
       "      <th>...</th>\n",
       "      <th>WorkedCollabTools</th>\n",
       "      <th>WorkedDatabase</th>\n",
       "      <th>WorkedFramework</th>\n",
       "      <th>WorkedLanguage</th>\n",
       "      <th>WorkedLibraries</th>\n",
       "      <th>WorkedPlatform</th>\n",
       "      <th>WorkedTools</th>\n",
       "      <th>WorkingYears</th>\n",
       "      <th>YearlySalary</th>\n",
       "      <th>YearsCode</th>\n",
       "      <th>YearsCodePro</th>\n",
       "      <th>z_BenefitsAI</th>\n",
       "      <th>z_FavorableAI</th>\n",
       "      <th>z_TrustAI</th>\n",
       "      <th>z_UsingAI</th>\n",
       "    </tr>\n",
       "  </thead>\n",
       "  <tbody>\n",
       "    <tr>\n",
       "      <th>2222</th>\n",
       "      <td>25-34 years old</td>\n",
       "      <td>Start a free trial;Ask developers I know/work ...</td>\n",
       "      <td>United States of America</td>\n",
       "      <td>NaN</td>\n",
       "      <td>Developer, front-end</td>\n",
       "      <td>Bachelor’s degree (B.A., B.S., B.Eng., etc.)</td>\n",
       "      <td>Employed, full-time</td>\n",
       "      <td>Retail and Consumer Services</td>\n",
       "      <td>I am a developer by profession</td>\n",
       "      <td>MacOS</td>\n",
       "      <td>NaN</td>\n",
       "      <td>Microservices;Observability tools;Continuous i...</td>\n",
       "      <td>In-person</td>\n",
       "      <td>GitHub Copilot</td>\n",
       "      <td>NaN</td>\n",
       "      <td>...</td>\n",
       "      <td>Android Studio;Visual Studio Code;Xcode</td>\n",
       "      <td>MySQL;PostgreSQL;Redis;Snowflake;Supabase</td>\n",
       "      <td>Next.js;Node.js;React</td>\n",
       "      <td>Bash/Shell (all shells);HTML/CSS;JavaScript;R;...</td>\n",
       "      <td>RabbitMQ;React Native</td>\n",
       "      <td>Amazon Web Services (AWS);Cloudflare;Firebase;...</td>\n",
       "      <td>Docker;Homebrew;npm;Vite;Webpack;Yarn</td>\n",
       "      <td>7.00</td>\n",
       "      <td>135,000.00</td>\n",
       "      <td>7.00</td>\n",
       "      <td>7.00</td>\n",
       "      <td>Increase productivity;Greater efficiency</td>\n",
       "      <td>Favorable</td>\n",
       "      <td>Somewhat distrust</td>\n",
       "      <td>Yes</td>\n",
       "    </tr>\n",
       "    <tr>\n",
       "      <th>2837</th>\n",
       "      <td>25-34 years old</td>\n",
       "      <td>Start a free trial;Ask developers I know/work ...</td>\n",
       "      <td>United States of America</td>\n",
       "      <td>NaN</td>\n",
       "      <td>Developer, front-end</td>\n",
       "      <td>Some college/university study without earning ...</td>\n",
       "      <td>Employed, full-time</td>\n",
       "      <td>NaN</td>\n",
       "      <td>I am a developer by profession</td>\n",
       "      <td>Windows</td>\n",
       "      <td>NaN</td>\n",
       "      <td>NaN</td>\n",
       "      <td>In-person</td>\n",
       "      <td>NaN</td>\n",
       "      <td>NaN</td>\n",
       "      <td>...</td>\n",
       "      <td>Visual Studio Code</td>\n",
       "      <td>MySQL;PostgreSQL</td>\n",
       "      <td>Gatsby;Next.js;Node.js;React;WordPress</td>\n",
       "      <td>HTML/CSS;JavaScript;TypeScript</td>\n",
       "      <td>NaN</td>\n",
       "      <td>Firebase;Netlify;Vercel</td>\n",
       "      <td>npm;Vite;Webpack;Yarn</td>\n",
       "      <td>NaN</td>\n",
       "      <td>65,000.00</td>\n",
       "      <td>4.00</td>\n",
       "      <td>2.00</td>\n",
       "      <td>Increase productivity;Greater efficiency;Speed...</td>\n",
       "      <td>Favorable</td>\n",
       "      <td>Somewhat trust</td>\n",
       "      <td>Yes</td>\n",
       "    </tr>\n",
       "    <tr>\n",
       "      <th>2986</th>\n",
       "      <td>25-34 years old</td>\n",
       "      <td>Start a free trial;Ask developers I know/work ...</td>\n",
       "      <td>United States of America</td>\n",
       "      <td>edX;Coursera</td>\n",
       "      <td>Developer, back-end</td>\n",
       "      <td>Associate degree (A.A., A.S., etc.)</td>\n",
       "      <td>Employed, full-time</td>\n",
       "      <td>Financial Services</td>\n",
       "      <td>I am a developer by profession</td>\n",
       "      <td>Windows;Windows Subsystem for Linux (WSL)</td>\n",
       "      <td>NaN</td>\n",
       "      <td>Automated testing;Observability tools;Continuo...</td>\n",
       "      <td>In-person</td>\n",
       "      <td>NaN</td>\n",
       "      <td>NaN</td>\n",
       "      <td>...</td>\n",
       "      <td>IntelliJ IDEA;IPython;Visual Studio;Visual Stu...</td>\n",
       "      <td>Microsoft SQL Server;PostgreSQL</td>\n",
       "      <td>Angular;AngularJS;Django;Flask</td>\n",
       "      <td>HTML/CSS;JavaScript;PHP;Python</td>\n",
       "      <td>NaN</td>\n",
       "      <td>NaN</td>\n",
       "      <td>Docker;Kubernetes</td>\n",
       "      <td>6.00</td>\n",
       "      <td>65,000.00</td>\n",
       "      <td>10.00</td>\n",
       "      <td>6.00</td>\n",
       "      <td>Increase productivity;Greater efficiency</td>\n",
       "      <td>Indifferent</td>\n",
       "      <td>Neither trust nor distrust</td>\n",
       "      <td>Yes</td>\n",
       "    </tr>\n",
       "    <tr>\n",
       "      <th>10610</th>\n",
       "      <td>25-34 years old</td>\n",
       "      <td>Ask developers I know/work with;Visit develope...</td>\n",
       "      <td>United States of America</td>\n",
       "      <td>NaN</td>\n",
       "      <td>Student</td>\n",
       "      <td>Bachelor’s degree (B.A., B.S., B.Eng., etc.)</td>\n",
       "      <td>Employed, full-time</td>\n",
       "      <td>NaN</td>\n",
       "      <td>I am not primarily a developer, but I write co...</td>\n",
       "      <td>Android;Debian;Fedora;MacOS;Ubuntu</td>\n",
       "      <td>NaN</td>\n",
       "      <td>NaN</td>\n",
       "      <td>In-person</td>\n",
       "      <td>NaN</td>\n",
       "      <td>NaN</td>\n",
       "      <td>...</td>\n",
       "      <td>Android Studio;CLion;DataGrip;IntelliJ IDEA;Ju...</td>\n",
       "      <td>H2;MariaDB;MySQL;SQLite</td>\n",
       "      <td>Drupal;Flask;Spring Boot</td>\n",
       "      <td>Assembly;Bash/Shell (all shells);C;C++;HTML/CS...</td>\n",
       "      <td>NumPy;OpenGL;Pandas;Qt;Scikit-Learn;Spring Fra...</td>\n",
       "      <td>NaN</td>\n",
       "      <td>APT;Cargo;CMake;Composer;Docker;GNU GCC;Homebr...</td>\n",
       "      <td>NaN</td>\n",
       "      <td>30,000.00</td>\n",
       "      <td>3.00</td>\n",
       "      <td>0.00</td>\n",
       "      <td>Speed up learning</td>\n",
       "      <td>Indifferent</td>\n",
       "      <td>Somewhat distrust</td>\n",
       "      <td>Yes</td>\n",
       "    </tr>\n",
       "    <tr>\n",
       "      <th>24372</th>\n",
       "      <td>25-34 years old</td>\n",
       "      <td>Visit developer communities like Stack Overflow</td>\n",
       "      <td>United States of America</td>\n",
       "      <td>NaN</td>\n",
       "      <td>Developer, full-stack</td>\n",
       "      <td>Bachelor’s degree (B.A., B.S., B.Eng., etc.)</td>\n",
       "      <td>Employed, full-time</td>\n",
       "      <td>NaN</td>\n",
       "      <td>I am a developer by profession</td>\n",
       "      <td>Debian</td>\n",
       "      <td>NaN</td>\n",
       "      <td>NaN</td>\n",
       "      <td>In-person</td>\n",
       "      <td>NaN</td>\n",
       "      <td>NaN</td>\n",
       "      <td>...</td>\n",
       "      <td>Vim;Visual Studio Code</td>\n",
       "      <td>PostgreSQL</td>\n",
       "      <td>Vue.js</td>\n",
       "      <td>Bash/Shell (all shells);Go;HTML/CSS;JavaScript...</td>\n",
       "      <td>NaN</td>\n",
       "      <td>NaN</td>\n",
       "      <td>Docker;Pip;Webpack</td>\n",
       "      <td>NaN</td>\n",
       "      <td>150,000.00</td>\n",
       "      <td>16.00</td>\n",
       "      <td>11.00</td>\n",
       "      <td>NaN</td>\n",
       "      <td>NaN</td>\n",
       "      <td>NaN</td>\n",
       "      <td>No, and I don't plan to</td>\n",
       "    </tr>\n",
       "    <tr>\n",
       "      <th>...</th>\n",
       "      <td>...</td>\n",
       "      <td>...</td>\n",
       "      <td>...</td>\n",
       "      <td>...</td>\n",
       "      <td>...</td>\n",
       "      <td>...</td>\n",
       "      <td>...</td>\n",
       "      <td>...</td>\n",
       "      <td>...</td>\n",
       "      <td>...</td>\n",
       "      <td>...</td>\n",
       "      <td>...</td>\n",
       "      <td>...</td>\n",
       "      <td>...</td>\n",
       "      <td>...</td>\n",
       "      <td>...</td>\n",
       "      <td>...</td>\n",
       "      <td>...</td>\n",
       "      <td>...</td>\n",
       "      <td>...</td>\n",
       "      <td>...</td>\n",
       "      <td>...</td>\n",
       "      <td>...</td>\n",
       "      <td>...</td>\n",
       "      <td>...</td>\n",
       "      <td>...</td>\n",
       "      <td>...</td>\n",
       "      <td>...</td>\n",
       "      <td>...</td>\n",
       "      <td>...</td>\n",
       "      <td>...</td>\n",
       "    </tr>\n",
       "    <tr>\n",
       "      <th>85928</th>\n",
       "      <td>25-34 years old</td>\n",
       "      <td>Start a free trial;Ask developers I know/work ...</td>\n",
       "      <td>United States of America</td>\n",
       "      <td>Codecademy;Udemy;Pluralsight</td>\n",
       "      <td>Developer, front-end</td>\n",
       "      <td>Some college/university study without earning ...</td>\n",
       "      <td>Employed, full-time</td>\n",
       "      <td>Advertising Services</td>\n",
       "      <td>I am a developer by profession</td>\n",
       "      <td>MacOS;Windows</td>\n",
       "      <td>NaN</td>\n",
       "      <td>DevOps function;Microservices;Innersource init...</td>\n",
       "      <td>Remote</td>\n",
       "      <td>NaN</td>\n",
       "      <td>NaN</td>\n",
       "      <td>...</td>\n",
       "      <td>Visual Studio Code</td>\n",
       "      <td>PostgreSQL</td>\n",
       "      <td>AngularJS;Node.js;Vue.js</td>\n",
       "      <td>HTML/CSS;JavaScript</td>\n",
       "      <td>NaN</td>\n",
       "      <td>Amazon Web Services (AWS)</td>\n",
       "      <td>Composer;Docker;npm;Webpack;Yarn</td>\n",
       "      <td>11.00</td>\n",
       "      <td>126,000.00</td>\n",
       "      <td>17.00</td>\n",
       "      <td>11.00</td>\n",
       "      <td>Increase productivity;Greater efficiency;Speed...</td>\n",
       "      <td>Indifferent</td>\n",
       "      <td>Neither trust nor distrust</td>\n",
       "      <td>Yes</td>\n",
       "    </tr>\n",
       "    <tr>\n",
       "      <th>86018</th>\n",
       "      <td>25-34 years old</td>\n",
       "      <td>Start a free trial</td>\n",
       "      <td>United States of America</td>\n",
       "      <td>NaN</td>\n",
       "      <td>Developer, front-end</td>\n",
       "      <td>Bachelor’s degree (B.A., B.S., B.Eng., etc.)</td>\n",
       "      <td>Employed, full-time</td>\n",
       "      <td>Information Services, IT, Software Development...</td>\n",
       "      <td>I am a developer by profession</td>\n",
       "      <td>MacOS</td>\n",
       "      <td>NaN</td>\n",
       "      <td>Continuous integration (CI) and (more often) c...</td>\n",
       "      <td>Remote</td>\n",
       "      <td>NaN</td>\n",
       "      <td>ChatGPT;Google Bard AI</td>\n",
       "      <td>...</td>\n",
       "      <td>Visual Studio Code</td>\n",
       "      <td>Dynamodb</td>\n",
       "      <td>Lit;React;Svelte</td>\n",
       "      <td>HTML/CSS;JavaScript;TypeScript</td>\n",
       "      <td>NaN</td>\n",
       "      <td>NaN</td>\n",
       "      <td>Docker;Vite;Webpack;Yarn</td>\n",
       "      <td>13.00</td>\n",
       "      <td>230,000.00</td>\n",
       "      <td>15.00</td>\n",
       "      <td>13.00</td>\n",
       "      <td>NaN</td>\n",
       "      <td>Indifferent</td>\n",
       "      <td>Somewhat distrust</td>\n",
       "      <td>No, but I plan to soon</td>\n",
       "    </tr>\n",
       "    <tr>\n",
       "      <th>87023</th>\n",
       "      <td>25-34 years old</td>\n",
       "      <td>Ask developers I know/work with;Visit develope...</td>\n",
       "      <td>United States of America</td>\n",
       "      <td>Other;Udemy;Pluralsight</td>\n",
       "      <td>Developer, front-end</td>\n",
       "      <td>Bachelor’s degree (B.A., B.S., B.Eng., etc.)</td>\n",
       "      <td>Employed, full-time</td>\n",
       "      <td>NaN</td>\n",
       "      <td>I am a developer by profession</td>\n",
       "      <td>Windows</td>\n",
       "      <td>NaN</td>\n",
       "      <td>NaN</td>\n",
       "      <td>Remote</td>\n",
       "      <td>NaN</td>\n",
       "      <td>NaN</td>\n",
       "      <td>...</td>\n",
       "      <td>Visual Studio Code</td>\n",
       "      <td>MongoDB</td>\n",
       "      <td>Express;React</td>\n",
       "      <td>HTML/CSS;JavaScript</td>\n",
       "      <td>NaN</td>\n",
       "      <td>NaN</td>\n",
       "      <td>npm</td>\n",
       "      <td>NaN</td>\n",
       "      <td>120,000.00</td>\n",
       "      <td>5.00</td>\n",
       "      <td>3.00</td>\n",
       "      <td>Increase productivity;Greater efficiency;Speed...</td>\n",
       "      <td>Very favorable</td>\n",
       "      <td>Somewhat trust</td>\n",
       "      <td>Yes</td>\n",
       "    </tr>\n",
       "    <tr>\n",
       "      <th>87213</th>\n",
       "      <td>25-34 years old</td>\n",
       "      <td>Start a free trial;Ask developers I know/work ...</td>\n",
       "      <td>United States of America</td>\n",
       "      <td>NaN</td>\n",
       "      <td>Developer, back-end</td>\n",
       "      <td>Master’s degree (M.A., M.S., M.Eng., MBA, etc.)</td>\n",
       "      <td>Employed, full-time</td>\n",
       "      <td>Information Services, IT, Software Development...</td>\n",
       "      <td>I am a developer by profession</td>\n",
       "      <td>Debian;MacOS;Ubuntu</td>\n",
       "      <td>NaN</td>\n",
       "      <td>DevOps function;Microservices;Observability to...</td>\n",
       "      <td>Remote</td>\n",
       "      <td>NaN</td>\n",
       "      <td>ChatGPT</td>\n",
       "      <td>...</td>\n",
       "      <td>Jupyter Notebook/JupyterLab;Vim</td>\n",
       "      <td>BigQuery;MySQL;PostgreSQL;Redis;SQLite</td>\n",
       "      <td>FastAPI;Flask;Next.js;React</td>\n",
       "      <td>Go;HTML/CSS;JavaScript;Python;SQL</td>\n",
       "      <td>CUDA;Keras;NumPy;Opencv;Pandas;Scikit-Learn;Te...</td>\n",
       "      <td>Google Cloud;Heroku</td>\n",
       "      <td>APT;CMake;Docker;Homebrew;Kubernetes;npm;Pip</td>\n",
       "      <td>8.00</td>\n",
       "      <td>210,000.00</td>\n",
       "      <td>8.00</td>\n",
       "      <td>6.00</td>\n",
       "      <td>Increase productivity;Greater efficiency;Speed...</td>\n",
       "      <td>Very favorable</td>\n",
       "      <td>Neither trust nor distrust</td>\n",
       "      <td>Yes</td>\n",
       "    </tr>\n",
       "    <tr>\n",
       "      <th>87779</th>\n",
       "      <td>25-34 years old</td>\n",
       "      <td>Ask developers I know/work with;Visit develope...</td>\n",
       "      <td>United States of America</td>\n",
       "      <td>Codecademy;Udemy</td>\n",
       "      <td>Developer, full-stack</td>\n",
       "      <td>Some college/university study without earning ...</td>\n",
       "      <td>Employed, full-time</td>\n",
       "      <td>NaN</td>\n",
       "      <td>I am a developer by profession</td>\n",
       "      <td>MacOS;Windows</td>\n",
       "      <td>NaN</td>\n",
       "      <td>NaN</td>\n",
       "      <td>Remote</td>\n",
       "      <td>NaN</td>\n",
       "      <td>NaN</td>\n",
       "      <td>...</td>\n",
       "      <td>IntelliJ IDEA;Visual Studio;Visual Studio Code</td>\n",
       "      <td>Cloud Firestore;Firebase Realtime Database;Mic...</td>\n",
       "      <td>Node.js;React</td>\n",
       "      <td>C#;HTML/CSS;JavaScript</td>\n",
       "      <td>.NET (5+) ;.NET Framework (1.0 - 4.8)</td>\n",
       "      <td>Firebase;Google Cloud;Microsoft Azure</td>\n",
       "      <td>npm</td>\n",
       "      <td>NaN</td>\n",
       "      <td>230,000.00</td>\n",
       "      <td>6.00</td>\n",
       "      <td>3.00</td>\n",
       "      <td>NaN</td>\n",
       "      <td>Very favorable</td>\n",
       "      <td>Somewhat trust</td>\n",
       "      <td>No, but I plan to soon</td>\n",
       "    </tr>\n",
       "  </tbody>\n",
       "</table>\n",
       "<p>163 rows × 39 columns</p>\n",
       "</div>"
      ],
      "text/plain": [
       "                   Age                                         BuyNewTool   \n",
       "2222   25-34 years old  Start a free trial;Ask developers I know/work ...  \\\n",
       "2837   25-34 years old  Start a free trial;Ask developers I know/work ...   \n",
       "2986   25-34 years old  Start a free trial;Ask developers I know/work ...   \n",
       "10610  25-34 years old  Ask developers I know/work with;Visit develope...   \n",
       "24372  25-34 years old    Visit developer communities like Stack Overflow   \n",
       "...                ...                                                ...   \n",
       "85928  25-34 years old  Start a free trial;Ask developers I know/work ...   \n",
       "86018  25-34 years old                                 Start a free trial   \n",
       "87023  25-34 years old  Ask developers I know/work with;Visit develope...   \n",
       "87213  25-34 years old  Start a free trial;Ask developers I know/work ...   \n",
       "87779  25-34 years old  Ask developers I know/work with;Visit develope...   \n",
       "\n",
       "                        Country                   CoursesCert   \n",
       "2222   United States of America                           NaN  \\\n",
       "2837   United States of America                           NaN   \n",
       "2986   United States of America                  edX;Coursera   \n",
       "10610  United States of America                           NaN   \n",
       "24372  United States of America                           NaN   \n",
       "...                         ...                           ...   \n",
       "85928  United States of America  Codecademy;Udemy;Pluralsight   \n",
       "86018  United States of America                           NaN   \n",
       "87023  United States of America       Other;Udemy;Pluralsight   \n",
       "87213  United States of America                           NaN   \n",
       "87779  United States of America              Codecademy;Udemy   \n",
       "\n",
       "                  CurrentJob   \n",
       "2222    Developer, front-end  \\\n",
       "2837    Developer, front-end   \n",
       "2986     Developer, back-end   \n",
       "10610                Student   \n",
       "24372  Developer, full-stack   \n",
       "...                      ...   \n",
       "85928   Developer, front-end   \n",
       "86018   Developer, front-end   \n",
       "87023   Developer, front-end   \n",
       "87213    Developer, back-end   \n",
       "87779  Developer, full-stack   \n",
       "\n",
       "                                                 EdLevel           Employment   \n",
       "2222        Bachelor’s degree (B.A., B.S., B.Eng., etc.)  Employed, full-time  \\\n",
       "2837   Some college/university study without earning ...  Employed, full-time   \n",
       "2986                 Associate degree (A.A., A.S., etc.)  Employed, full-time   \n",
       "10610       Bachelor’s degree (B.A., B.S., B.Eng., etc.)  Employed, full-time   \n",
       "24372       Bachelor’s degree (B.A., B.S., B.Eng., etc.)  Employed, full-time   \n",
       "...                                                  ...                  ...   \n",
       "85928  Some college/university study without earning ...  Employed, full-time   \n",
       "86018       Bachelor’s degree (B.A., B.S., B.Eng., etc.)  Employed, full-time   \n",
       "87023       Bachelor’s degree (B.A., B.S., B.Eng., etc.)  Employed, full-time   \n",
       "87213    Master’s degree (M.A., M.S., M.Eng., MBA, etc.)  Employed, full-time   \n",
       "87779  Some college/university study without earning ...  Employed, full-time   \n",
       "\n",
       "                                                Industry   \n",
       "2222                        Retail and Consumer Services  \\\n",
       "2837                                                 NaN   \n",
       "2986                                  Financial Services   \n",
       "10610                                                NaN   \n",
       "24372                                                NaN   \n",
       "...                                                  ...   \n",
       "85928                               Advertising Services   \n",
       "86018  Information Services, IT, Software Development...   \n",
       "87023                                                NaN   \n",
       "87213  Information Services, IT, Software Development...   \n",
       "87779                                                NaN   \n",
       "\n",
       "                                              MainBranch   \n",
       "2222                      I am a developer by profession  \\\n",
       "2837                      I am a developer by profession   \n",
       "2986                      I am a developer by profession   \n",
       "10610  I am not primarily a developer, but I write co...   \n",
       "24372                     I am a developer by profession   \n",
       "...                                                  ...   \n",
       "85928                     I am a developer by profession   \n",
       "86018                     I am a developer by profession   \n",
       "87023                     I am a developer by profession   \n",
       "87213                     I am a developer by profession   \n",
       "87779                     I am a developer by profession   \n",
       "\n",
       "                                      OSPersonal OSProffesional   \n",
       "2222                                       MacOS            NaN  \\\n",
       "2837                                     Windows            NaN   \n",
       "2986   Windows;Windows Subsystem for Linux (WSL)            NaN   \n",
       "10610         Android;Debian;Fedora;MacOS;Ubuntu            NaN   \n",
       "24372                                     Debian            NaN   \n",
       "...                                          ...            ...   \n",
       "85928                              MacOS;Windows            NaN   \n",
       "86018                                      MacOS            NaN   \n",
       "87023                                    Windows            NaN   \n",
       "87213                        Debian;MacOS;Ubuntu            NaN   \n",
       "87779                              MacOS;Windows            NaN   \n",
       "\n",
       "                                        ProfessionalTech RemoteWork   \n",
       "2222   Microservices;Observability tools;Continuous i...  In-person  \\\n",
       "2837                                                 NaN  In-person   \n",
       "2986   Automated testing;Observability tools;Continuo...  In-person   \n",
       "10610                                                NaN  In-person   \n",
       "24372                                                NaN  In-person   \n",
       "...                                                  ...        ...   \n",
       "85928  DevOps function;Microservices;Innersource init...     Remote   \n",
       "86018  Continuous integration (CI) and (more often) c...     Remote   \n",
       "87023                                                NaN     Remote   \n",
       "87213  DevOps function;Microservices;Observability to...     Remote   \n",
       "87779                                                NaN     Remote   \n",
       "\n",
       "      TargetAIDeveloper          TargetAISearch  ...   \n",
       "2222     GitHub Copilot                     NaN  ...  \\\n",
       "2837                NaN                     NaN  ...   \n",
       "2986                NaN                     NaN  ...   \n",
       "10610               NaN                     NaN  ...   \n",
       "24372               NaN                     NaN  ...   \n",
       "...                 ...                     ...  ...   \n",
       "85928               NaN                     NaN  ...   \n",
       "86018               NaN  ChatGPT;Google Bard AI  ...   \n",
       "87023               NaN                     NaN  ...   \n",
       "87213               NaN                 ChatGPT  ...   \n",
       "87779               NaN                     NaN  ...   \n",
       "\n",
       "                                       WorkedCollabTools   \n",
       "2222             Android Studio;Visual Studio Code;Xcode  \\\n",
       "2837                                  Visual Studio Code   \n",
       "2986   IntelliJ IDEA;IPython;Visual Studio;Visual Stu...   \n",
       "10610  Android Studio;CLion;DataGrip;IntelliJ IDEA;Ju...   \n",
       "24372                             Vim;Visual Studio Code   \n",
       "...                                                  ...   \n",
       "85928                                 Visual Studio Code   \n",
       "86018                                 Visual Studio Code   \n",
       "87023                                 Visual Studio Code   \n",
       "87213                    Jupyter Notebook/JupyterLab;Vim   \n",
       "87779     IntelliJ IDEA;Visual Studio;Visual Studio Code   \n",
       "\n",
       "                                          WorkedDatabase   \n",
       "2222           MySQL;PostgreSQL;Redis;Snowflake;Supabase  \\\n",
       "2837                                    MySQL;PostgreSQL   \n",
       "2986                     Microsoft SQL Server;PostgreSQL   \n",
       "10610                            H2;MariaDB;MySQL;SQLite   \n",
       "24372                                         PostgreSQL   \n",
       "...                                                  ...   \n",
       "85928                                         PostgreSQL   \n",
       "86018                                           Dynamodb   \n",
       "87023                                            MongoDB   \n",
       "87213             BigQuery;MySQL;PostgreSQL;Redis;SQLite   \n",
       "87779  Cloud Firestore;Firebase Realtime Database;Mic...   \n",
       "\n",
       "                              WorkedFramework   \n",
       "2222                    Next.js;Node.js;React  \\\n",
       "2837   Gatsby;Next.js;Node.js;React;WordPress   \n",
       "2986           Angular;AngularJS;Django;Flask   \n",
       "10610                Drupal;Flask;Spring Boot   \n",
       "24372                                  Vue.js   \n",
       "...                                       ...   \n",
       "85928                AngularJS;Node.js;Vue.js   \n",
       "86018                        Lit;React;Svelte   \n",
       "87023                           Express;React   \n",
       "87213             FastAPI;Flask;Next.js;React   \n",
       "87779                           Node.js;React   \n",
       "\n",
       "                                          WorkedLanguage   \n",
       "2222   Bash/Shell (all shells);HTML/CSS;JavaScript;R;...  \\\n",
       "2837                      HTML/CSS;JavaScript;TypeScript   \n",
       "2986                      HTML/CSS;JavaScript;PHP;Python   \n",
       "10610  Assembly;Bash/Shell (all shells);C;C++;HTML/CS...   \n",
       "24372  Bash/Shell (all shells);Go;HTML/CSS;JavaScript...   \n",
       "...                                                  ...   \n",
       "85928                                HTML/CSS;JavaScript   \n",
       "86018                     HTML/CSS;JavaScript;TypeScript   \n",
       "87023                                HTML/CSS;JavaScript   \n",
       "87213                  Go;HTML/CSS;JavaScript;Python;SQL   \n",
       "87779                             C#;HTML/CSS;JavaScript   \n",
       "\n",
       "                                         WorkedLibraries   \n",
       "2222                               RabbitMQ;React Native  \\\n",
       "2837                                                 NaN   \n",
       "2986                                                 NaN   \n",
       "10610  NumPy;OpenGL;Pandas;Qt;Scikit-Learn;Spring Fra...   \n",
       "24372                                                NaN   \n",
       "...                                                  ...   \n",
       "85928                                                NaN   \n",
       "86018                                                NaN   \n",
       "87023                                                NaN   \n",
       "87213  CUDA;Keras;NumPy;Opencv;Pandas;Scikit-Learn;Te...   \n",
       "87779              .NET (5+) ;.NET Framework (1.0 - 4.8)   \n",
       "\n",
       "                                          WorkedPlatform   \n",
       "2222   Amazon Web Services (AWS);Cloudflare;Firebase;...  \\\n",
       "2837                             Firebase;Netlify;Vercel   \n",
       "2986                                                 NaN   \n",
       "10610                                                NaN   \n",
       "24372                                                NaN   \n",
       "...                                                  ...   \n",
       "85928                          Amazon Web Services (AWS)   \n",
       "86018                                                NaN   \n",
       "87023                                                NaN   \n",
       "87213                                Google Cloud;Heroku   \n",
       "87779              Firebase;Google Cloud;Microsoft Azure   \n",
       "\n",
       "                                             WorkedTools WorkingYears   \n",
       "2222               Docker;Homebrew;npm;Vite;Webpack;Yarn         7.00  \\\n",
       "2837                               npm;Vite;Webpack;Yarn          NaN   \n",
       "2986                                   Docker;Kubernetes         6.00   \n",
       "10610  APT;Cargo;CMake;Composer;Docker;GNU GCC;Homebr...          NaN   \n",
       "24372                                 Docker;Pip;Webpack          NaN   \n",
       "...                                                  ...          ...   \n",
       "85928                   Composer;Docker;npm;Webpack;Yarn        11.00   \n",
       "86018                           Docker;Vite;Webpack;Yarn        13.00   \n",
       "87023                                                npm          NaN   \n",
       "87213       APT;CMake;Docker;Homebrew;Kubernetes;npm;Pip         8.00   \n",
       "87779                                                npm          NaN   \n",
       "\n",
       "      YearlySalary YearsCode YearsCodePro   \n",
       "2222    135,000.00      7.00         7.00  \\\n",
       "2837     65,000.00      4.00         2.00   \n",
       "2986     65,000.00     10.00         6.00   \n",
       "10610    30,000.00      3.00         0.00   \n",
       "24372   150,000.00     16.00        11.00   \n",
       "...            ...       ...          ...   \n",
       "85928   126,000.00     17.00        11.00   \n",
       "86018   230,000.00     15.00        13.00   \n",
       "87023   120,000.00      5.00         3.00   \n",
       "87213   210,000.00      8.00         6.00   \n",
       "87779   230,000.00      6.00         3.00   \n",
       "\n",
       "                                            z_BenefitsAI   z_FavorableAI   \n",
       "2222            Increase productivity;Greater efficiency       Favorable  \\\n",
       "2837   Increase productivity;Greater efficiency;Speed...       Favorable   \n",
       "2986            Increase productivity;Greater efficiency     Indifferent   \n",
       "10610                                  Speed up learning     Indifferent   \n",
       "24372                                                NaN             NaN   \n",
       "...                                                  ...             ...   \n",
       "85928  Increase productivity;Greater efficiency;Speed...     Indifferent   \n",
       "86018                                                NaN     Indifferent   \n",
       "87023  Increase productivity;Greater efficiency;Speed...  Very favorable   \n",
       "87213  Increase productivity;Greater efficiency;Speed...  Very favorable   \n",
       "87779                                                NaN  Very favorable   \n",
       "\n",
       "                        z_TrustAI                z_UsingAI  \n",
       "2222            Somewhat distrust                      Yes  \n",
       "2837               Somewhat trust                      Yes  \n",
       "2986   Neither trust nor distrust                      Yes  \n",
       "10610           Somewhat distrust                      Yes  \n",
       "24372                         NaN  No, and I don't plan to  \n",
       "...                           ...                      ...  \n",
       "85928  Neither trust nor distrust                      Yes  \n",
       "86018           Somewhat distrust   No, but I plan to soon  \n",
       "87023              Somewhat trust                      Yes  \n",
       "87213  Neither trust nor distrust                      Yes  \n",
       "87779              Somewhat trust   No, but I plan to soon  \n",
       "\n",
       "[163 rows x 39 columns]"
      ]
     },
     "execution_count": 46,
     "metadata": {},
     "output_type": "execute_result"
    }
   ],
   "source": [
    "df.query(\"OSProffesional.isna()\")"
   ]
  },
  {
   "cell_type": "markdown",
   "metadata": {},
   "source": [
    "The same with this column"
   ]
  },
  {
   "cell_type": "code",
   "execution_count": 47,
   "metadata": {},
   "outputs": [
    {
     "name": "stderr",
     "output_type": "stream",
     "text": [
      "/var/folders/xf/nkmp0gn94v1bjxp47j6nsslc0000gp/T/ipykernel_13112/1141065296.py:1: SettingWithCopyWarning: \n",
      "A value is trying to be set on a copy of a slice from a DataFrame\n",
      "\n",
      "See the caveats in the documentation: https://pandas.pydata.org/pandas-docs/stable/user_guide/indexing.html#returning-a-view-versus-a-copy\n",
      "  df6['OSProffesional'].fillna(df6['OSPersonal'], inplace=True)\n"
     ]
    }
   ],
   "source": [
    "df6['OSProffesional'].fillna(df6['OSPersonal'], inplace=True)"
   ]
  },
  {
   "cell_type": "code",
   "execution_count": 48,
   "metadata": {},
   "outputs": [
    {
     "data": {
      "text/plain": [
       "110      Start a free trial;Ask developers I know/work ...\n",
       "798      Start a free trial;Ask developers I know/work ...\n",
       "1102     Start a free trial;Ask developers I know/work ...\n",
       "1113     Ask developers I know/work with;Visit develope...\n",
       "1421     Start a free trial;Ask developers I know/work ...\n",
       "                               ...                        \n",
       "87879    Start a free trial;Visit developer communities...\n",
       "87910    Start a free trial;Ask developers I know/work ...\n",
       "87938    Start a free trial;Read ratings or reviews on ...\n",
       "87939    Start a free trial;Ask developers I know/work ...\n",
       "87954                                                  NaN\n",
       "Name: BuyNewTool, Length: 3050, dtype: object"
      ]
     },
     "execution_count": 48,
     "metadata": {},
     "output_type": "execute_result"
    }
   ],
   "source": [
    "df6['BuyNewTool']"
   ]
  },
  {
   "cell_type": "markdown",
   "metadata": {},
   "source": [
    "I don't need this one tbh"
   ]
  },
  {
   "cell_type": "code",
   "execution_count": 49,
   "metadata": {},
   "outputs": [
    {
     "name": "stderr",
     "output_type": "stream",
     "text": [
      "/var/folders/xf/nkmp0gn94v1bjxp47j6nsslc0000gp/T/ipykernel_13112/825400332.py:1: SettingWithCopyWarning: \n",
      "A value is trying to be set on a copy of a slice from a DataFrame\n",
      "\n",
      "See the caveats in the documentation: https://pandas.pydata.org/pandas-docs/stable/user_guide/indexing.html#returning-a-view-versus-a-copy\n",
      "  df6.drop('BuyNewTool', axis='columns', inplace=True)\n"
     ]
    }
   ],
   "source": [
    "df6.drop('BuyNewTool', axis='columns', inplace=True)"
   ]
  },
  {
   "cell_type": "code",
   "execution_count": 50,
   "metadata": {},
   "outputs": [],
   "source": [
    "df7 = df6.dropna().copy()"
   ]
  },
  {
   "cell_type": "code",
   "execution_count": 51,
   "metadata": {},
   "outputs": [
    {
     "name": "stdout",
     "output_type": "stream",
     "text": [
      "<class 'pandas.core.frame.DataFrame'>\n",
      "Index: 3013 entries, 110 to 87954\n",
      "Data columns (total 13 columns):\n",
      " #   Column          Non-Null Count  Dtype  \n",
      "---  ------          --------------  -----  \n",
      " 0   CurrentJob      3013 non-null   object \n",
      " 1   EdLevel         3013 non-null   object \n",
      " 2   Employment      3013 non-null   object \n",
      " 3   Industry        3013 non-null   object \n",
      " 4   MainBranch      3013 non-null   object \n",
      " 5   OSPersonal      3013 non-null   object \n",
      " 6   OSProffesional  3013 non-null   object \n",
      " 7   RemoteWork      3013 non-null   int64  \n",
      " 8   WorkingYears    3013 non-null   float64\n",
      " 9   YearlySalary    3013 non-null   float64\n",
      " 10  YearsCode       3013 non-null   float64\n",
      " 11  YearsCodePro    3013 non-null   float64\n",
      " 12  z_UsingAI       3013 non-null   int64  \n",
      "dtypes: float64(4), int64(2), object(7)\n",
      "memory usage: 329.5+ KB\n"
     ]
    }
   ],
   "source": [
    "df7.info()"
   ]
  },
  {
   "cell_type": "markdown",
   "metadata": {},
   "source": [
    "Amazing! Isn't it?? Now I have a clean dataset to apply a classifier model n.n"
   ]
  },
  {
   "cell_type": "code",
   "execution_count": 52,
   "metadata": {},
   "outputs": [
    {
     "data": {
      "text/plain": [
       "MainBranch\n",
       "I am a developer by profession                                                           2850\n",
       "I am not primarily a developer, but I write code sometimes as part of my work/studies     163\n",
       "Name: count, dtype: int64"
      ]
     },
     "execution_count": 52,
     "metadata": {},
     "output_type": "execute_result"
    }
   ],
   "source": [
    "df7['MainBranch'].value_counts()"
   ]
  },
  {
   "cell_type": "code",
   "execution_count": 53,
   "metadata": {},
   "outputs": [],
   "source": [
    "df7.rename(columns={'MainBranch':'Developer'}, inplace=True)"
   ]
  },
  {
   "cell_type": "code",
   "execution_count": 54,
   "metadata": {},
   "outputs": [],
   "source": [
    "df7['Developer'] = df7['Developer'].apply(lambda x: 1 if x=='I am a developer by profession' else 0)"
   ]
  },
  {
   "cell_type": "code",
   "execution_count": 55,
   "metadata": {},
   "outputs": [
    {
     "data": {
      "text/plain": [
       "Industry\n",
       "Not_Responded         1197\n",
       "Technology             691\n",
       "Other                  440\n",
       "Financial Services     227\n",
       "Healthcare             184\n",
       "Manufacturing          158\n",
       "Retail                 116\n",
       "Name: count, dtype: int64"
      ]
     },
     "execution_count": 55,
     "metadata": {},
     "output_type": "execute_result"
    }
   ],
   "source": [
    "df7.Industry.value_counts()"
   ]
  },
  {
   "cell_type": "code",
   "execution_count": 56,
   "metadata": {},
   "outputs": [
    {
     "data": {
      "text/plain": [
       "Employment\n",
       "Employed, full-time                                                                             2733\n",
       "Employed, full-time;Independent contractor, freelancer, or self-employed                         174\n",
       "Independent contractor, freelancer, or self-employed                                              84\n",
       "Employed, full-time;Employed, part-time                                                            8\n",
       "Employed, part-time                                                                                6\n",
       "Independent contractor, freelancer, or self-employed;Employed, part-time                           6\n",
       "Employed, full-time;Independent contractor, freelancer, or self-employed;Employed, part-time       2\n",
       "Name: count, dtype: int64"
      ]
     },
     "execution_count": 56,
     "metadata": {},
     "output_type": "execute_result"
    }
   ],
   "source": [
    "df7['Employment'].value_counts()"
   ]
  },
  {
   "cell_type": "markdown",
   "metadata": {},
   "source": [
    "I will drop this one, because almost all the data are employees"
   ]
  },
  {
   "cell_type": "code",
   "execution_count": 57,
   "metadata": {},
   "outputs": [],
   "source": [
    "df7.drop('Employment', axis='columns', inplace=True)"
   ]
  },
  {
   "cell_type": "code",
   "execution_count": 58,
   "metadata": {},
   "outputs": [
    {
     "data": {
      "text/plain": [
       "CurrentJob\n",
       "Developer, full-stack                            1246\n",
       "Developer, back-end                               543\n",
       "Developer, front-end                              215\n",
       "Developer, desktop or enterprise applications      94\n",
       "Developer, embedded applications or devices        78\n",
       "                                                 ... \n",
       "Database administrator                              6\n",
       "Developer Advocate                                  6\n",
       "Designer                                            5\n",
       "Student                                             2\n",
       "Marketing or sales professional                     2\n",
       "Name: count, Length: 33, dtype: int64"
      ]
     },
     "execution_count": 58,
     "metadata": {},
     "output_type": "execute_result"
    }
   ],
   "source": [
    "df7['CurrentJob'].value_counts()"
   ]
  },
  {
   "cell_type": "code",
   "execution_count": 59,
   "metadata": {},
   "outputs": [
    {
     "data": {
      "text/plain": [
       "(94, 12)"
      ]
     },
     "execution_count": 59,
     "metadata": {},
     "output_type": "execute_result"
    }
   ],
   "source": [
    "df7.loc[df7['CurrentJob'].str.contains('Data')].shape"
   ]
  },
  {
   "cell_type": "markdown",
   "metadata": {},
   "source": [
    "They are almost not working on data u.u"
   ]
  },
  {
   "cell_type": "code",
   "execution_count": 60,
   "metadata": {},
   "outputs": [],
   "source": [
    "df7['CurrentJob'] = df7['CurrentJob'].apply(lambda x: 'Data Science' if 'Data' in x else x)"
   ]
  },
  {
   "cell_type": "code",
   "execution_count": 61,
   "metadata": {},
   "outputs": [
    {
     "data": {
      "text/plain": [
       "Index(['Developer, full-stack', 'Developer, back-end', 'Developer, front-end',\n",
       "       'Developer, desktop or enterprise applications', 'Data Science',\n",
       "       'Developer, embedded applications or devices', 'Developer, mobile',\n",
       "       'Cloud infrastructure engineer', 'Engineer, data'],\n",
       "      dtype='object', name='CurrentJob')"
      ]
     },
     "execution_count": 61,
     "metadata": {},
     "output_type": "execute_result"
    }
   ],
   "source": [
    "top_jobs = df7['CurrentJob'].value_counts().nlargest(9).index\n",
    "top_jobs"
   ]
  },
  {
   "cell_type": "code",
   "execution_count": 62,
   "metadata": {},
   "outputs": [],
   "source": [
    "df7['CurrentJob'] = df7['CurrentJob'].apply(lambda x: 'Other' if x not in top_jobs else x)"
   ]
  },
  {
   "cell_type": "code",
   "execution_count": 63,
   "metadata": {},
   "outputs": [
    {
     "data": {
      "text/plain": [
       "EdLevel\n",
       "Bachelor’s degree (B.A., B.S., B.Eng., etc.)                                          2046\n",
       "Master’s degree (M.A., M.S., M.Eng., MBA, etc.)                                        388\n",
       "Some college/university study without earning a degree                                 315\n",
       "Associate degree (A.A., A.S., etc.)                                                    122\n",
       "Secondary school (e.g. American high school, German Realschule or Gymnasium, etc.)      64\n",
       "Professional degree (JD, MD, Ph.D, Ed.D, etc.)                                          60\n",
       "Primary/elementary school                                                               10\n",
       "Something else                                                                           8\n",
       "Name: count, dtype: int64"
      ]
     },
     "execution_count": 63,
     "metadata": {},
     "output_type": "execute_result"
    }
   ],
   "source": [
    "df7['EdLevel'].value_counts()"
   ]
  },
  {
   "cell_type": "code",
   "execution_count": 64,
   "metadata": {},
   "outputs": [
    {
     "data": {
      "text/plain": [
       "OSPersonal\n",
       "MacOS                                               525\n",
       "Windows                                             496\n",
       "MacOS;Windows                                       146\n",
       "Ubuntu                                              123\n",
       "Windows;Windows Subsystem for Linux (WSL)           113\n",
       "Ubuntu;Windows                                       97\n",
       "Ubuntu;Windows;Windows Subsystem for Linux (WSL)     82\n",
       "Arch                                                 74\n",
       "MacOS;Ubuntu                                         73\n",
       "Android;Windows                                      69\n",
       "iOS;MacOS                                            58\n",
       "iOS;iPadOS;MacOS                                     48\n",
       "MacOS;Windows;Windows Subsystem for Linux (WSL)      36\n",
       "Other Linux-based                                    31\n",
       "MacOS;Ubuntu;Windows                                 30\n",
       "Name: count, dtype: int64"
      ]
     },
     "execution_count": 64,
     "metadata": {},
     "output_type": "execute_result"
    }
   ],
   "source": [
    "df7['OSPersonal'].value_counts().nlargest(15)"
   ]
  },
  {
   "cell_type": "markdown",
   "metadata": {},
   "source": [
    "Perfect. There is just only left to handle with 'OSPersonal' and 'OSProffesional'. The way I will do it, is: I will create 7 values. 3 for each OS, 3 for each OS combination (eg. macos and linux) and 1 for the top 3 OS.  \n",
    "I had a better idea:\n"
   ]
  },
  {
   "cell_type": "code",
   "execution_count": 65,
   "metadata": {},
   "outputs": [],
   "source": [
    "df8 = df7.copy()"
   ]
  },
  {
   "cell_type": "code",
   "execution_count": 66,
   "metadata": {},
   "outputs": [],
   "source": [
    "df8['MacOS'] = df8['OSPersonal'].apply(lambda x: 1 if 'MacOS' in x else 0)\n",
    "df8['Linux'] = df8['OSPersonal'].apply(lambda x: 1 if 'Linux' in x or 'Fedora' in x or 'Debian' in x or 'Ubuntu' in x or 'Other Linux-based' in x else 0)\n",
    "df8['Windows'] = df8['OSPersonal'].apply(lambda x: 1 if 'Windows' in x else 0)\n",
    "df8['Other'] = df8['OSPersonal'].apply(lambda x: 1 if 'Other' in x else 0)\n",
    "\n",
    "df8['MacOS_Prof'] = df8['OSProffesional'].apply(lambda x: 1 if 'MacOS' in x else 0)\n",
    "df8['Linux_Prof'] = df8['OSProffesional'].apply(lambda x: 1 if 'Linux' in x or 'Fedora' in x or 'Debian' in x or 'Ubuntu' in x or 'Other Linux-based' in x else 0)\n",
    "df8['Windows_Prof'] = df8['OSProffesional'].apply(lambda x: 1 if 'Windows' in x else 0)\n",
    "df8['Other_Prof'] = df8['OSProffesional'].apply(lambda x: 1 if 'Other' in x else 0)\n",
    "\n"
   ]
  },
  {
   "cell_type": "code",
   "execution_count": 67,
   "metadata": {},
   "outputs": [
    {
     "data": {
      "text/html": [
       "<div>\n",
       "<style scoped>\n",
       "    .dataframe tbody tr th:only-of-type {\n",
       "        vertical-align: middle;\n",
       "    }\n",
       "\n",
       "    .dataframe tbody tr th {\n",
       "        vertical-align: top;\n",
       "    }\n",
       "\n",
       "    .dataframe thead th {\n",
       "        text-align: right;\n",
       "    }\n",
       "</style>\n",
       "<table border=\"1\" class=\"dataframe\">\n",
       "  <thead>\n",
       "    <tr style=\"text-align: right;\">\n",
       "      <th></th>\n",
       "      <th>CurrentJob</th>\n",
       "      <th>EdLevel</th>\n",
       "      <th>Industry</th>\n",
       "      <th>Developer</th>\n",
       "      <th>OSPersonal</th>\n",
       "      <th>OSProffesional</th>\n",
       "      <th>RemoteWork</th>\n",
       "      <th>WorkingYears</th>\n",
       "      <th>YearlySalary</th>\n",
       "      <th>YearsCode</th>\n",
       "      <th>YearsCodePro</th>\n",
       "      <th>z_UsingAI</th>\n",
       "      <th>MacOS</th>\n",
       "      <th>Linux</th>\n",
       "      <th>Windows</th>\n",
       "      <th>Other</th>\n",
       "      <th>MacOS_Prof</th>\n",
       "      <th>Linux_Prof</th>\n",
       "      <th>Windows_Prof</th>\n",
       "      <th>Other_Prof</th>\n",
       "    </tr>\n",
       "  </thead>\n",
       "  <tbody>\n",
       "    <tr>\n",
       "      <th>110</th>\n",
       "      <td>Developer, full-stack</td>\n",
       "      <td>Bachelor’s degree (B.A., B.S., B.Eng., etc.)</td>\n",
       "      <td>Not_Responded</td>\n",
       "      <td>1</td>\n",
       "      <td>Ubuntu;Windows;Windows Subsystem for Linux (WSL)</td>\n",
       "      <td>Debian;Fedora;Ubuntu;Windows</td>\n",
       "      <td>0</td>\n",
       "      <td>7.00</td>\n",
       "      <td>145,000.00</td>\n",
       "      <td>12.00</td>\n",
       "      <td>7.00</td>\n",
       "      <td>1</td>\n",
       "      <td>0</td>\n",
       "      <td>1</td>\n",
       "      <td>1</td>\n",
       "      <td>0</td>\n",
       "      <td>0</td>\n",
       "      <td>1</td>\n",
       "      <td>1</td>\n",
       "      <td>0</td>\n",
       "    </tr>\n",
       "    <tr>\n",
       "      <th>798</th>\n",
       "      <td>Developer, full-stack</td>\n",
       "      <td>Some college/university study without earning ...</td>\n",
       "      <td>Manufacturing</td>\n",
       "      <td>1</td>\n",
       "      <td>Windows</td>\n",
       "      <td>Windows</td>\n",
       "      <td>0</td>\n",
       "      <td>15.00</td>\n",
       "      <td>50,000.00</td>\n",
       "      <td>9.00</td>\n",
       "      <td>6.00</td>\n",
       "      <td>0</td>\n",
       "      <td>0</td>\n",
       "      <td>0</td>\n",
       "      <td>1</td>\n",
       "      <td>0</td>\n",
       "      <td>0</td>\n",
       "      <td>0</td>\n",
       "      <td>1</td>\n",
       "      <td>0</td>\n",
       "    </tr>\n",
       "    <tr>\n",
       "      <th>1102</th>\n",
       "      <td>Other</td>\n",
       "      <td>Some college/university study without earning ...</td>\n",
       "      <td>Manufacturing</td>\n",
       "      <td>0</td>\n",
       "      <td>Ubuntu;Windows;Windows Subsystem for Linux (WSL)</td>\n",
       "      <td>Debian;Windows;Windows Subsystem for Linux (WSL)</td>\n",
       "      <td>0</td>\n",
       "      <td>5.00</td>\n",
       "      <td>40,000.00</td>\n",
       "      <td>9.00</td>\n",
       "      <td>5.00</td>\n",
       "      <td>0</td>\n",
       "      <td>0</td>\n",
       "      <td>1</td>\n",
       "      <td>1</td>\n",
       "      <td>0</td>\n",
       "      <td>0</td>\n",
       "      <td>1</td>\n",
       "      <td>1</td>\n",
       "      <td>0</td>\n",
       "    </tr>\n",
       "    <tr>\n",
       "      <th>1113</th>\n",
       "      <td>Developer, desktop or enterprise applications</td>\n",
       "      <td>Something else</td>\n",
       "      <td>Manufacturing</td>\n",
       "      <td>1</td>\n",
       "      <td>Android;Windows;Windows Subsystem for Linux (WSL)</td>\n",
       "      <td>Debian;Ubuntu;Windows</td>\n",
       "      <td>0</td>\n",
       "      <td>5.00</td>\n",
       "      <td>110,000.00</td>\n",
       "      <td>6.00</td>\n",
       "      <td>5.00</td>\n",
       "      <td>0</td>\n",
       "      <td>0</td>\n",
       "      <td>1</td>\n",
       "      <td>1</td>\n",
       "      <td>0</td>\n",
       "      <td>0</td>\n",
       "      <td>1</td>\n",
       "      <td>1</td>\n",
       "      <td>0</td>\n",
       "    </tr>\n",
       "    <tr>\n",
       "      <th>1421</th>\n",
       "      <td>Developer, full-stack</td>\n",
       "      <td>Bachelor’s degree (B.A., B.S., B.Eng., etc.)</td>\n",
       "      <td>Not_Responded</td>\n",
       "      <td>1</td>\n",
       "      <td>iOS;iPadOS;MacOS;Windows</td>\n",
       "      <td>Windows</td>\n",
       "      <td>0</td>\n",
       "      <td>9.00</td>\n",
       "      <td>130,000.00</td>\n",
       "      <td>12.00</td>\n",
       "      <td>9.00</td>\n",
       "      <td>0</td>\n",
       "      <td>1</td>\n",
       "      <td>0</td>\n",
       "      <td>1</td>\n",
       "      <td>0</td>\n",
       "      <td>0</td>\n",
       "      <td>0</td>\n",
       "      <td>1</td>\n",
       "      <td>0</td>\n",
       "    </tr>\n",
       "  </tbody>\n",
       "</table>\n",
       "</div>"
      ],
      "text/plain": [
       "                                         CurrentJob   \n",
       "110                           Developer, full-stack  \\\n",
       "798                           Developer, full-stack   \n",
       "1102                                          Other   \n",
       "1113  Developer, desktop or enterprise applications   \n",
       "1421                          Developer, full-stack   \n",
       "\n",
       "                                                EdLevel       Industry   \n",
       "110        Bachelor’s degree (B.A., B.S., B.Eng., etc.)  Not_Responded  \\\n",
       "798   Some college/university study without earning ...  Manufacturing   \n",
       "1102  Some college/university study without earning ...  Manufacturing   \n",
       "1113                                     Something else  Manufacturing   \n",
       "1421       Bachelor’s degree (B.A., B.S., B.Eng., etc.)  Not_Responded   \n",
       "\n",
       "      Developer                                         OSPersonal   \n",
       "110           1   Ubuntu;Windows;Windows Subsystem for Linux (WSL)  \\\n",
       "798           1                                            Windows   \n",
       "1102          0   Ubuntu;Windows;Windows Subsystem for Linux (WSL)   \n",
       "1113          1  Android;Windows;Windows Subsystem for Linux (WSL)   \n",
       "1421          1                           iOS;iPadOS;MacOS;Windows   \n",
       "\n",
       "                                        OSProffesional  RemoteWork   \n",
       "110                       Debian;Fedora;Ubuntu;Windows           0  \\\n",
       "798                                            Windows           0   \n",
       "1102  Debian;Windows;Windows Subsystem for Linux (WSL)           0   \n",
       "1113                             Debian;Ubuntu;Windows           0   \n",
       "1421                                           Windows           0   \n",
       "\n",
       "      WorkingYears  YearlySalary  YearsCode  YearsCodePro  z_UsingAI  MacOS   \n",
       "110           7.00    145,000.00      12.00          7.00          1      0  \\\n",
       "798          15.00     50,000.00       9.00          6.00          0      0   \n",
       "1102          5.00     40,000.00       9.00          5.00          0      0   \n",
       "1113          5.00    110,000.00       6.00          5.00          0      0   \n",
       "1421          9.00    130,000.00      12.00          9.00          0      1   \n",
       "\n",
       "      Linux  Windows  Other  MacOS_Prof  Linux_Prof  Windows_Prof  Other_Prof  \n",
       "110       1        1      0           0           1             1           0  \n",
       "798       0        1      0           0           0             1           0  \n",
       "1102      1        1      0           0           1             1           0  \n",
       "1113      1        1      0           0           1             1           0  \n",
       "1421      0        1      0           0           0             1           0  "
      ]
     },
     "execution_count": 67,
     "metadata": {},
     "output_type": "execute_result"
    }
   ],
   "source": [
    "df8.head()"
   ]
  },
  {
   "cell_type": "markdown",
   "metadata": {},
   "source": [
    "Perfect I will use a decision tree based model, they don't care if the data is ordinal or nominal. I can do label encoder for them"
   ]
  },
  {
   "cell_type": "code",
   "execution_count": 68,
   "metadata": {},
   "outputs": [
    {
     "name": "stdout",
     "output_type": "stream",
     "text": [
      "<class 'pandas.core.frame.DataFrame'>\n",
      "Index: 3013 entries, 110 to 87954\n",
      "Data columns (total 20 columns):\n",
      " #   Column          Non-Null Count  Dtype  \n",
      "---  ------          --------------  -----  \n",
      " 0   CurrentJob      3013 non-null   object \n",
      " 1   EdLevel         3013 non-null   object \n",
      " 2   Industry        3013 non-null   object \n",
      " 3   Developer       3013 non-null   int64  \n",
      " 4   OSPersonal      3013 non-null   object \n",
      " 5   OSProffesional  3013 non-null   object \n",
      " 6   RemoteWork      3013 non-null   int64  \n",
      " 7   WorkingYears    3013 non-null   float64\n",
      " 8   YearlySalary    3013 non-null   float64\n",
      " 9   YearsCode       3013 non-null   float64\n",
      " 10  YearsCodePro    3013 non-null   float64\n",
      " 11  z_UsingAI       3013 non-null   int64  \n",
      " 12  MacOS           3013 non-null   int64  \n",
      " 13  Linux           3013 non-null   int64  \n",
      " 14  Windows         3013 non-null   int64  \n",
      " 15  Other           3013 non-null   int64  \n",
      " 16  MacOS_Prof      3013 non-null   int64  \n",
      " 17  Linux_Prof      3013 non-null   int64  \n",
      " 18  Windows_Prof    3013 non-null   int64  \n",
      " 19  Other_Prof      3013 non-null   int64  \n",
      "dtypes: float64(4), int64(11), object(5)\n",
      "memory usage: 494.3+ KB\n"
     ]
    }
   ],
   "source": [
    "df8.info()"
   ]
  },
  {
   "cell_type": "markdown",
   "metadata": {},
   "source": [
    "Thinking again, I will drop the professional column, cuz, tbh, It's almost the same! And I dont want 4 columns more!!"
   ]
  },
  {
   "cell_type": "code",
   "execution_count": 69,
   "metadata": {},
   "outputs": [],
   "source": [
    "df8.drop(['OSPersonal','OSProffesional'], axis='columns', inplace=True)\n",
    "df8.drop(['MacOS_Prof','Linux_Prof','Windows_Prof','Other_Prof'], axis='columns', inplace=True)"
   ]
  },
  {
   "cell_type": "markdown",
   "metadata": {},
   "source": [
    "### Our data is ready!! n.n\n",
    "Go to the 'models' folder in src if you want to observe the training process!"
   ]
  },
  {
   "cell_type": "code",
   "execution_count": 70,
   "metadata": {},
   "outputs": [
    {
     "data": {
      "text/plain": [
       "<Axes: >"
      ]
     },
     "execution_count": 70,
     "metadata": {},
     "output_type": "execute_result"
    },
    {
     "data": {
      "image/png": "[encoded data removed]",
      "text/plain": [
       "<Figure size 640x480 with 1 Axes>"
      ]
     },
     "metadata": {},
     "output_type": "display_data"
    }
   ],
   "source": [
    "df8.select_dtypes(include='number').corr()['RemoteWork'].sort_values(ascending=False).plot(kind='barh')"
   ]
  },
  {
   "cell_type": "markdown",
   "metadata": {},
   "source": [
    "Do this graph is telling us that macos users tend to work more in remote??"
   ]
  },
  {
   "cell_type": "code",
   "execution_count": 71,
   "metadata": {},
   "outputs": [],
   "source": [
    "from sklearn.model_selection import train_test_split\n",
    "from sklearn.ensemble import RandomForestClassifier\n",
    "from sklearn.metrics import accuracy_score, confusion_matrix, classification_report\n",
    "from sklearn.model_selection import GridSearchCV\n",
    "from sklearn.pipeline import Pipeline\n",
    "from sklearn.preprocessing import StandardScaler\n",
    "from sklearn.preprocessing import OrdinalEncoder\n",
    "from sklearn.preprocessing import OneHotEncoder\n",
    "from sklearn.compose import ColumnTransformer\n",
    "from xgboost import XGBClassifier"
   ]
  },
  {
   "cell_type": "code",
   "execution_count": 75,
   "metadata": {},
   "outputs": [],
   "source": [
    "\n",
    "X = df8.drop(\"RemoteWork\", axis=1)\n",
    "y = df8[\"RemoteWork\"]\n",
    "X_train, X_test, y_train, y_test = train_test_split( X, y, train_size=0.8, random_state=42)"
   ]
  },
  {
   "cell_type": "code",
   "execution_count": 76,
   "metadata": {},
   "outputs": [],
   "source": [
    "num_features = X_train.select_dtypes(include=\"number\").columns\n",
    "num_transformer = Pipeline(steps=[(\"scaler\", StandardScaler())])\n",
    "cat_features = X_train.select_dtypes(include=\"object\").columns\n",
    "cat_transformer = Pipeline(steps=[(\"OHE\", OneHotEncoder(handle_unknown=\"ignore\"))])\n",
    "\n",
    "preprocessor = ColumnTransformer(\n",
    "    transformers=[\n",
    "        (\"num\", num_transformer, num_features),\n",
    "        (\"cat\", cat_transformer, cat_features),\n",
    "    ]\n",
    ")"
   ]
  },
  {
   "cell_type": "code",
   "execution_count": 77,
   "metadata": {},
   "outputs": [
    {
     "data": {
      "text/plain": [
       "0.8175787728026535"
      ]
     },
     "execution_count": 77,
     "metadata": {},
     "output_type": "execute_result"
    }
   ],
   "source": [
    "rf_model = Pipeline(\n",
    "    steps=[(\"preprocessor\", preprocessor), (\"classifier\", RandomForestClassifier())]\n",
    ")\n",
    "rf_model.fit(X_train, y_train)\n",
    "rf_model.score(X_test, y_test)"
   ]
  },
  {
   "cell_type": "code",
   "execution_count": 78,
   "metadata": {},
   "outputs": [
    {
     "data": {
      "text/plain": [
       "array([[ 15,  95],\n",
       "       [ 15, 478]])"
      ]
     },
     "execution_count": 78,
     "metadata": {},
     "output_type": "execute_result"
    }
   ],
   "source": [
    "confusion_matrix(y_test, rf_model.predict(X_test))\n",
    "\n"
   ]
  },
  {
   "cell_type": "code",
   "execution_count": 79,
   "metadata": {},
   "outputs": [
    {
     "name": "stdout",
     "output_type": "stream",
     "text": [
      "Fitting 5 folds for each of 36 candidates, totalling 180 fits\n",
      "[CV 4/5; 1/36] START classifier__max_depth=5, classifier__min_samples_leaf=1, classifier__min_samples_split=2, classifier__n_estimators=100\n",
      "[CV 3/5; 1/36] START classifier__max_depth=5, classifier__min_samples_leaf=1, classifier__min_samples_split=2, classifier__n_estimators=100\n",
      "[CV 1/5; 1/36] START classifier__max_depth=5, classifier__min_samples_leaf=1, classifier__min_samples_split=2, classifier__n_estimators=100\n",
      "[CV 2/5; 1/36] START classifier__max_depth=5, classifier__min_samples_leaf=1, classifier__min_samples_split=2, classifier__n_estimators=100\n",
      "[CV 1/5; 1/36] END classifier__max_depth=5, classifier__min_samples_leaf=1, classifier__min_samples_split=2, classifier__n_estimators=100;, score=0.861 total time=   0.6s\n",
      "[CV 2/5; 1/36] END classifier__max_depth=5, classifier__min_samples_leaf=1, classifier__min_samples_split=2, classifier__n_estimators=100;, score=0.861 total time=   0.6s\n",
      "[CV 3/5; 1/36] END classifier__max_depth=5, classifier__min_samples_leaf=1, classifier__min_samples_split=2, classifier__n_estimators=100;, score=0.859 total time=   0.6s\n",
      "[CV 4/5; 1/36] END classifier__max_depth=5, classifier__min_samples_leaf=1, classifier__min_samples_split=2, classifier__n_estimators=100;, score=0.861 total time=   0.6s\n",
      "[CV 5/5; 1/36] START classifier__max_depth=5, classifier__min_samples_leaf=1, classifier__min_samples_split=2, classifier__n_estimators=100\n",
      "[CV 1/5; 2/36] START classifier__max_depth=5, classifier__min_samples_leaf=1, classifier__min_samples_split=2, classifier__n_estimators=200\n",
      "[CV 2/5; 2/36] START classifier__max_depth=5, classifier__min_samples_leaf=1, classifier__min_samples_split=2, classifier__n_estimators=200\n",
      "[CV 3/5; 2/36] START classifier__max_depth=5, classifier__min_samples_leaf=1, classifier__min_samples_split=2, classifier__n_estimators=200\n",
      "[CV 5/5; 1/36] END classifier__max_depth=5, classifier__min_samples_leaf=1, classifier__min_samples_split=2, classifier__n_estimators=100;, score=0.857 total time=   0.6s\n",
      "[CV 4/5; 2/36] START classifier__max_depth=5, classifier__min_samples_leaf=1, classifier__min_samples_split=2, classifier__n_estimators=200\n",
      "[CV 1/5; 2/36] END classifier__max_depth=5, classifier__min_samples_leaf=1, classifier__min_samples_split=2, classifier__n_estimators=200;, score=0.861 total time=   1.2s[CV 3/5; 2/36] END classifier__max_depth=5, classifier__min_samples_leaf=1, classifier__min_samples_split=2, classifier__n_estimators=200;, score=0.859 total time=   1.1s\n",
      "\n",
      "[CV 1/5; 3/36] START classifier__max_depth=5, classifier__min_samples_leaf=1, classifier__min_samples_split=2, classifier__n_estimators=300\n",
      "[CV 5/5; 2/36] START classifier__max_depth=5, classifier__min_samples_leaf=1, classifier__min_samples_split=2, classifier__n_estimators=200\n",
      "[CV 2/5; 2/36] END classifier__max_depth=5, classifier__min_samples_leaf=1, classifier__min_samples_split=2, classifier__n_estimators=200;, score=0.865 total time=   1.2s\n",
      "[CV 2/5; 3/36] START classifier__max_depth=5, classifier__min_samples_leaf=1, classifier__min_samples_split=2, classifier__n_estimators=300\n",
      "[CV 4/5; 2/36] END classifier__max_depth=5, classifier__min_samples_leaf=1, classifier__min_samples_split=2, classifier__n_estimators=200;, score=0.859 total time=   1.2s\n",
      "[CV 3/5; 3/36] START classifier__max_depth=5, classifier__min_samples_leaf=1, classifier__min_samples_split=2, classifier__n_estimators=300\n",
      "[CV 5/5; 2/36] END classifier__max_depth=5, classifier__min_samples_leaf=1, classifier__min_samples_split=2, classifier__n_estimators=200;, score=0.857 total time=   1.2s\n",
      "[CV 4/5; 3/36] START classifier__max_depth=5, classifier__min_samples_leaf=1, classifier__min_samples_split=2, classifier__n_estimators=300\n",
      "[CV 1/5; 3/36] END classifier__max_depth=5, classifier__min_samples_leaf=1, classifier__min_samples_split=2, classifier__n_estimators=300;, score=0.861 total time=   1.7s\n",
      "[CV 2/5; 3/36] END classifier__max_depth=5, classifier__min_samples_leaf=1, classifier__min_samples_split=2, classifier__n_estimators=300;, score=0.863 total time=   1.7s\n",
      "[CV 5/5; 3/36] START classifier__max_depth=5, classifier__min_samples_leaf=1, classifier__min_samples_split=2, classifier__n_estimators=300\n",
      "[CV 1/5; 4/36] START classifier__max_depth=5, classifier__min_samples_leaf=1, classifier__min_samples_split=5, classifier__n_estimators=100\n",
      "[CV 3/5; 3/36] END classifier__max_depth=5, classifier__min_samples_leaf=1, classifier__min_samples_split=2, classifier__n_estimators=300;, score=0.857 total time=   1.7s\n",
      "[CV 2/5; 4/36] START classifier__max_depth=5, classifier__min_samples_leaf=1, classifier__min_samples_split=5, classifier__n_estimators=100\n",
      "[CV 1/5; 4/36] END classifier__max_depth=5, classifier__min_samples_leaf=1, classifier__min_samples_split=5, classifier__n_estimators=100;, score=0.861 total time=   0.6s\n",
      "[CV 3/5; 4/36] START classifier__max_depth=5, classifier__min_samples_leaf=1, classifier__min_samples_split=5, classifier__n_estimators=100\n",
      "[CV 4/5; 3/36] END classifier__max_depth=5, classifier__min_samples_leaf=1, classifier__min_samples_split=2, classifier__n_estimators=300;, score=0.857 total time=   1.7s\n",
      "[CV 4/5; 4/36] START classifier__max_depth=5, classifier__min_samples_leaf=1, classifier__min_samples_split=5, classifier__n_estimators=100\n",
      "[CV 2/5; 4/36] END classifier__max_depth=5, classifier__min_samples_leaf=1, classifier__min_samples_split=5, classifier__n_estimators=100;, score=0.863 total time=   0.6s\n",
      "[CV 5/5; 4/36] START classifier__max_depth=5, classifier__min_samples_leaf=1, classifier__min_samples_split=5, classifier__n_estimators=100\n",
      "[CV 3/5; 4/36] END classifier__max_depth=5, classifier__min_samples_leaf=1, classifier__min_samples_split=5, classifier__n_estimators=100;, score=0.861 total time=   0.6s\n",
      "[CV 1/5; 5/36] START classifier__max_depth=5, classifier__min_samples_leaf=1, classifier__min_samples_split=5, classifier__n_estimators=200\n",
      "[CV 5/5; 3/36] END classifier__max_depth=5, classifier__min_samples_leaf=1, classifier__min_samples_split=2, classifier__n_estimators=300;, score=0.861 total time=   1.7s\n",
      "[CV 2/5; 5/36] START classifier__max_depth=5, classifier__min_samples_leaf=1, classifier__min_samples_split=5, classifier__n_estimators=200\n",
      "[CV 4/5; 4/36] END classifier__max_depth=5, classifier__min_samples_leaf=1, classifier__min_samples_split=5, classifier__n_estimators=100;, score=0.861 total time=   0.6s\n",
      "[CV 3/5; 5/36] START classifier__max_depth=5, classifier__min_samples_leaf=1, classifier__min_samples_split=5, classifier__n_estimators=200\n",
      "[CV 5/5; 4/36] END classifier__max_depth=5, classifier__min_samples_leaf=1, classifier__min_samples_split=5, classifier__n_estimators=100;, score=0.859 total time=   0.6s\n",
      "[CV 4/5; 5/36] START classifier__max_depth=5, classifier__min_samples_leaf=1, classifier__min_samples_split=5, classifier__n_estimators=200\n",
      "[CV 1/5; 5/36] END classifier__max_depth=5, classifier__min_samples_leaf=1, classifier__min_samples_split=5, classifier__n_estimators=200;, score=0.861 total time=   1.1s\n",
      "[CV 5/5; 5/36] START classifier__max_depth=5, classifier__min_samples_leaf=1, classifier__min_samples_split=5, classifier__n_estimators=200\n",
      "[CV 2/5; 5/36] END classifier__max_depth=5, classifier__min_samples_leaf=1, classifier__min_samples_split=5, classifier__n_estimators=200;, score=0.863 total time=   1.2s\n",
      "[CV 1/5; 6/36] START classifier__max_depth=5, classifier__min_samples_leaf=1, classifier__min_samples_split=5, classifier__n_estimators=300\n",
      "[CV 3/5; 5/36] END classifier__max_depth=5, classifier__min_samples_leaf=1, classifier__min_samples_split=5, classifier__n_estimators=200;, score=0.855 total time=   1.1s\n",
      "[CV 2/5; 6/36] START classifier__max_depth=5, classifier__min_samples_leaf=1, classifier__min_samples_split=5, classifier__n_estimators=300\n",
      "[CV 4/5; 5/36] END classifier__max_depth=5, classifier__min_samples_leaf=1, classifier__min_samples_split=5, classifier__n_estimators=200;, score=0.857 total time=   1.2s\n",
      "[CV 3/5; 6/36] START classifier__max_depth=5, classifier__min_samples_leaf=1, classifier__min_samples_split=5, classifier__n_estimators=300\n",
      "[CV 5/5; 5/36] END classifier__max_depth=5, classifier__min_samples_leaf=1, classifier__min_samples_split=5, classifier__n_estimators=200;, score=0.861 total time=   1.2s\n",
      "[CV 4/5; 6/36] START classifier__max_depth=5, classifier__min_samples_leaf=1, classifier__min_samples_split=5, classifier__n_estimators=300\n",
      "[CV 1/5; 6/36] END classifier__max_depth=5, classifier__min_samples_leaf=1, classifier__min_samples_split=5, classifier__n_estimators=300;, score=0.861 total time=   1.6s\n",
      "[CV 5/5; 6/36] START classifier__max_depth=5, classifier__min_samples_leaf=1, classifier__min_samples_split=5, classifier__n_estimators=300\n",
      "[CV 2/5; 6/36] END classifier__max_depth=5, classifier__min_samples_leaf=1, classifier__min_samples_split=5, classifier__n_estimators=300;, score=0.863 total time=   1.6s\n",
      "[CV 1/5; 7/36] START classifier__max_depth=5, classifier__min_samples_leaf=2, classifier__min_samples_split=2, classifier__n_estimators=100\n",
      "[CV 3/5; 6/36] END classifier__max_depth=5, classifier__min_samples_leaf=1, classifier__min_samples_split=5, classifier__n_estimators=300;, score=0.861 total time=   1.6s\n",
      "[CV 2/5; 7/36] START classifier__max_depth=5, classifier__min_samples_leaf=2, classifier__min_samples_split=2, classifier__n_estimators=100\n",
      "[CV 1/5; 7/36] END classifier__max_depth=5, classifier__min_samples_leaf=2, classifier__min_samples_split=2, classifier__n_estimators=100;, score=0.861 total time=   0.5s\n",
      "[CV 3/5; 7/36] START classifier__max_depth=5, classifier__min_samples_leaf=2, classifier__min_samples_split=2, classifier__n_estimators=100\n",
      "[CV 4/5; 6/36] END classifier__max_depth=5, classifier__min_samples_leaf=1, classifier__min_samples_split=5, classifier__n_estimators=300;, score=0.857 total time=   1.6s\n",
      "[CV 4/5; 7/36] START classifier__max_depth=5, classifier__min_samples_leaf=2, classifier__min_samples_split=2, classifier__n_estimators=100\n",
      "[CV 2/5; 7/36] END classifier__max_depth=5, classifier__min_samples_leaf=2, classifier__min_samples_split=2, classifier__n_estimators=100;, score=0.865 total time=   0.5s\n",
      "[CV 5/5; 7/36] START classifier__max_depth=5, classifier__min_samples_leaf=2, classifier__min_samples_split=2, classifier__n_estimators=100\n",
      "[CV 3/5; 7/36] END classifier__max_depth=5, classifier__min_samples_leaf=2, classifier__min_samples_split=2, classifier__n_estimators=100;, score=0.855 total time=   0.5s\n",
      "[CV 1/5; 8/36] START classifier__max_depth=5, classifier__min_samples_leaf=2, classifier__min_samples_split=2, classifier__n_estimators=200\n",
      "[CV 4/5; 7/36] END classifier__max_depth=5, classifier__min_samples_leaf=2, classifier__min_samples_split=2, classifier__n_estimators=100;, score=0.859 total time=   0.5s\n",
      "[CV 2/5; 8/36] START classifier__max_depth=5, classifier__min_samples_leaf=2, classifier__min_samples_split=2, classifier__n_estimators=200\n",
      "[CV 5/5; 7/36] END classifier__max_depth=5, classifier__min_samples_leaf=2, classifier__min_samples_split=2, classifier__n_estimators=100;, score=0.859 total time=   0.6s\n",
      "[CV 3/5; 8/36] START classifier__max_depth=5, classifier__min_samples_leaf=2, classifier__min_samples_split=2, classifier__n_estimators=200\n",
      "[CV 5/5; 6/36] END classifier__max_depth=5, classifier__min_samples_leaf=1, classifier__min_samples_split=5, classifier__n_estimators=300;, score=0.857 total time=   1.5s\n",
      "[CV 4/5; 8/36] START classifier__max_depth=5, classifier__min_samples_leaf=2, classifier__min_samples_split=2, classifier__n_estimators=200\n",
      "[CV 1/5; 8/36] END classifier__max_depth=5, classifier__min_samples_leaf=2, classifier__min_samples_split=2, classifier__n_estimators=200;, score=0.861 total time=   1.1s\n",
      "[CV 5/5; 8/36] START classifier__max_depth=5, classifier__min_samples_leaf=2, classifier__min_samples_split=2, classifier__n_estimators=200\n",
      "[CV 2/5; 8/36] END classifier__max_depth=5, classifier__min_samples_leaf=2, classifier__min_samples_split=2, classifier__n_estimators=200;, score=0.863 total time=   1.1s\n",
      "[CV 1/5; 9/36] START classifier__max_depth=5, classifier__min_samples_leaf=2, classifier__min_samples_split=2, classifier__n_estimators=300\n",
      "[CV 3/5; 8/36] END classifier__max_depth=5, classifier__min_samples_leaf=2, classifier__min_samples_split=2, classifier__n_estimators=200;, score=0.859 total time=   1.1s\n",
      "[CV 2/5; 9/36] START classifier__max_depth=5, classifier__min_samples_leaf=2, classifier__min_samples_split=2, classifier__n_estimators=300\n",
      "[CV 4/5; 8/36] END classifier__max_depth=5, classifier__min_samples_leaf=2, classifier__min_samples_split=2, classifier__n_estimators=200;, score=0.859 total time=   1.0s\n",
      "[CV 3/5; 9/36] START classifier__max_depth=5, classifier__min_samples_leaf=2, classifier__min_samples_split=2, classifier__n_estimators=300\n",
      "[CV 5/5; 8/36] END classifier__max_depth=5, classifier__min_samples_leaf=2, classifier__min_samples_split=2, classifier__n_estimators=200;, score=0.857 total time=   1.1s\n",
      "[CV 4/5; 9/36] START classifier__max_depth=5, classifier__min_samples_leaf=2, classifier__min_samples_split=2, classifier__n_estimators=300\n",
      "[CV 1/5; 9/36] END classifier__max_depth=5, classifier__min_samples_leaf=2, classifier__min_samples_split=2, classifier__n_estimators=300;, score=0.861 total time=   1.6s\n",
      "[CV 5/5; 9/36] START classifier__max_depth=5, classifier__min_samples_leaf=2, classifier__min_samples_split=2, classifier__n_estimators=300\n",
      "[CV 2/5; 9/36] END classifier__max_depth=5, classifier__min_samples_leaf=2, classifier__min_samples_split=2, classifier__n_estimators=300;, score=0.863 total time=   1.6s\n",
      "[CV 1/5; 10/36] START classifier__max_depth=5, classifier__min_samples_leaf=2, classifier__min_samples_split=5, classifier__n_estimators=100\n",
      "[CV 3/5; 9/36] END classifier__max_depth=5, classifier__min_samples_leaf=2, classifier__min_samples_split=2, classifier__n_estimators=300;, score=0.859 total time=   1.6s\n",
      "[CV 2/5; 10/36] START classifier__max_depth=5, classifier__min_samples_leaf=2, classifier__min_samples_split=5, classifier__n_estimators=100\n",
      "[CV 1/5; 10/36] END classifier__max_depth=5, classifier__min_samples_leaf=2, classifier__min_samples_split=5, classifier__n_estimators=100;, score=0.861 total time=   0.6s\n",
      "[CV 3/5; 10/36] START classifier__max_depth=5, classifier__min_samples_leaf=2, classifier__min_samples_split=5, classifier__n_estimators=100\n",
      "[CV 2/5; 10/36] END classifier__max_depth=5, classifier__min_samples_leaf=2, classifier__min_samples_split=5, classifier__n_estimators=100;, score=0.863 total time=   0.6s\n",
      "[CV 4/5; 10/36] START classifier__max_depth=5, classifier__min_samples_leaf=2, classifier__min_samples_split=5, classifier__n_estimators=100\n",
      "[CV 4/5; 9/36] END classifier__max_depth=5, classifier__min_samples_leaf=2, classifier__min_samples_split=2, classifier__n_estimators=300;, score=0.859 total time=   1.6s\n",
      "[CV 5/5; 10/36] START classifier__max_depth=5, classifier__min_samples_leaf=2, classifier__min_samples_split=5, classifier__n_estimators=100\n",
      "[CV 3/5; 10/36] END classifier__max_depth=5, classifier__min_samples_leaf=2, classifier__min_samples_split=5, classifier__n_estimators=100;, score=0.859 total time=   0.6s\n",
      "[CV 1/5; 11/36] START classifier__max_depth=5, classifier__min_samples_leaf=2, classifier__min_samples_split=5, classifier__n_estimators=200\n",
      "[CV 4/5; 10/36] END classifier__max_depth=5, classifier__min_samples_leaf=2, classifier__min_samples_split=5, classifier__n_estimators=100;, score=0.859 total time=   0.6s\n",
      "[CV 2/5; 11/36] START classifier__max_depth=5, classifier__min_samples_leaf=2, classifier__min_samples_split=5, classifier__n_estimators=200\n",
      "[CV 5/5; 9/36] END classifier__max_depth=5, classifier__min_samples_leaf=2, classifier__min_samples_split=2, classifier__n_estimators=300;, score=0.857 total time=   1.7s\n",
      "[CV 3/5; 11/36] START classifier__max_depth=5, classifier__min_samples_leaf=2, classifier__min_samples_split=5, classifier__n_estimators=200\n",
      "[CV 5/5; 10/36] END classifier__max_depth=5, classifier__min_samples_leaf=2, classifier__min_samples_split=5, classifier__n_estimators=100;, score=0.857 total time=   0.6s\n",
      "[CV 4/5; 11/36] START classifier__max_depth=5, classifier__min_samples_leaf=2, classifier__min_samples_split=5, classifier__n_estimators=200\n",
      "[CV 1/5; 11/36] END classifier__max_depth=5, classifier__min_samples_leaf=2, classifier__min_samples_split=5, classifier__n_estimators=200;, score=0.859 total time=   1.1s\n",
      "[CV 5/5; 11/36] START classifier__max_depth=5, classifier__min_samples_leaf=2, classifier__min_samples_split=5, classifier__n_estimators=200\n",
      "[CV 2/5; 11/36] END classifier__max_depth=5, classifier__min_samples_leaf=2, classifier__min_samples_split=5, classifier__n_estimators=200;, score=0.863 total time=   1.1s\n",
      "[CV 1/5; 12/36] START classifier__max_depth=5, classifier__min_samples_leaf=2, classifier__min_samples_split=5, classifier__n_estimators=300\n",
      "[CV 3/5; 11/36] END classifier__max_depth=5, classifier__min_samples_leaf=2, classifier__min_samples_split=5, classifier__n_estimators=200;, score=0.857 total time=   1.1s\n",
      "[CV 2/5; 12/36] START classifier__max_depth=5, classifier__min_samples_leaf=2, classifier__min_samples_split=5, classifier__n_estimators=300\n",
      "[CV 4/5; 11/36] END classifier__max_depth=5, classifier__min_samples_leaf=2, classifier__min_samples_split=5, classifier__n_estimators=200;, score=0.859 total time=   1.1s\n",
      "[CV 3/5; 12/36] START classifier__max_depth=5, classifier__min_samples_leaf=2, classifier__min_samples_split=5, classifier__n_estimators=300\n",
      "[CV 5/5; 11/36] END classifier__max_depth=5, classifier__min_samples_leaf=2, classifier__min_samples_split=5, classifier__n_estimators=200;, score=0.859 total time=   1.1s\n",
      "[CV 4/5; 12/36] START classifier__max_depth=5, classifier__min_samples_leaf=2, classifier__min_samples_split=5, classifier__n_estimators=300\n",
      "[CV 1/5; 12/36] END classifier__max_depth=5, classifier__min_samples_leaf=2, classifier__min_samples_split=5, classifier__n_estimators=300;, score=0.861 total time=   1.6s\n",
      "[CV 5/5; 12/36] START classifier__max_depth=5, classifier__min_samples_leaf=2, classifier__min_samples_split=5, classifier__n_estimators=300\n",
      "[CV 2/5; 12/36] END classifier__max_depth=5, classifier__min_samples_leaf=2, classifier__min_samples_split=5, classifier__n_estimators=300;, score=0.863 total time=   1.7s\n",
      "[CV 1/5; 13/36] START classifier__max_depth=10, classifier__min_samples_leaf=1, classifier__min_samples_split=2, classifier__n_estimators=100\n",
      "[CV 3/5; 12/36] END classifier__max_depth=5, classifier__min_samples_leaf=2, classifier__min_samples_split=5, classifier__n_estimators=300;, score=0.855 total time=   1.7s\n",
      "[CV 2/5; 13/36] START classifier__max_depth=10, classifier__min_samples_leaf=1, classifier__min_samples_split=2, classifier__n_estimators=100\n",
      "[CV 1/5; 13/36] END classifier__max_depth=10, classifier__min_samples_leaf=1, classifier__min_samples_split=2, classifier__n_estimators=100;, score=0.863 total time=   0.6s\n",
      "[CV 2/5; 13/36] END classifier__max_depth=10, classifier__min_samples_leaf=1, classifier__min_samples_split=2, classifier__n_estimators=100;, score=0.857 total time=   0.6s\n",
      "[CV 3/5; 13/36] START classifier__max_depth=10, classifier__min_samples_leaf=1, classifier__min_samples_split=2, classifier__n_estimators=100\n",
      "[CV 4/5; 13/36] START classifier__max_depth=10, classifier__min_samples_leaf=1, classifier__min_samples_split=2, classifier__n_estimators=100\n",
      "[CV 4/5; 12/36] END classifier__max_depth=5, classifier__min_samples_leaf=2, classifier__min_samples_split=5, classifier__n_estimators=300;, score=0.859 total time=   1.6s\n",
      "[CV 5/5; 13/36] START classifier__max_depth=10, classifier__min_samples_leaf=1, classifier__min_samples_split=2, classifier__n_estimators=100\n",
      "[CV 3/5; 13/36] END classifier__max_depth=10, classifier__min_samples_leaf=1, classifier__min_samples_split=2, classifier__n_estimators=100;, score=0.873 total time=   0.7s\n",
      "[CV 5/5; 12/36] END classifier__max_depth=5, classifier__min_samples_leaf=2, classifier__min_samples_split=5, classifier__n_estimators=300;, score=0.859 total time=   1.7s\n",
      "[CV 4/5; 13/36] END classifier__max_depth=10, classifier__min_samples_leaf=1, classifier__min_samples_split=2, classifier__n_estimators=100;, score=0.871 total time=   0.7s\n",
      "[CV 1/5; 14/36] START classifier__max_depth=10, classifier__min_samples_leaf=1, classifier__min_samples_split=2, classifier__n_estimators=200\n",
      "[CV 5/5; 13/36] END classifier__max_depth=10, classifier__min_samples_leaf=1, classifier__min_samples_split=2, classifier__n_estimators=100;, score=0.865 total time=   0.7s\n",
      "[CV 2/5; 14/36] START classifier__max_depth=10, classifier__min_samples_leaf=1, classifier__min_samples_split=2, classifier__n_estimators=200\n",
      "[CV 3/5; 14/36] START classifier__max_depth=10, classifier__min_samples_leaf=1, classifier__min_samples_split=2, classifier__n_estimators=200\n",
      "[CV 4/5; 14/36] START classifier__max_depth=10, classifier__min_samples_leaf=1, classifier__min_samples_split=2, classifier__n_estimators=200\n",
      "[CV 2/5; 14/36] END classifier__max_depth=10, classifier__min_samples_leaf=1, classifier__min_samples_split=2, classifier__n_estimators=200;, score=0.855 total time=   1.4s\n",
      "[CV 1/5; 14/36] END classifier__max_depth=10, classifier__min_samples_leaf=1, classifier__min_samples_split=2, classifier__n_estimators=200;, score=0.863 total time=   1.4s\n",
      "[CV 5/5; 14/36] START classifier__max_depth=10, classifier__min_samples_leaf=1, classifier__min_samples_split=2, classifier__n_estimators=200\n",
      "[CV 4/5; 14/36] END classifier__max_depth=10, classifier__min_samples_leaf=1, classifier__min_samples_split=2, classifier__n_estimators=200;, score=0.863 total time=   1.4s\n",
      "[CV 1/5; 15/36] START classifier__max_depth=10, classifier__min_samples_leaf=1, classifier__min_samples_split=2, classifier__n_estimators=300\n",
      "[CV 2/5; 15/36] START classifier__max_depth=10, classifier__min_samples_leaf=1, classifier__min_samples_split=2, classifier__n_estimators=300\n",
      "[CV 3/5; 14/36] END classifier__max_depth=10, classifier__min_samples_leaf=1, classifier__min_samples_split=2, classifier__n_estimators=200;, score=0.873 total time=   1.4s\n",
      "[CV 3/5; 15/36] START classifier__max_depth=10, classifier__min_samples_leaf=1, classifier__min_samples_split=2, classifier__n_estimators=300\n",
      "[CV 5/5; 14/36] END classifier__max_depth=10, classifier__min_samples_leaf=1, classifier__min_samples_split=2, classifier__n_estimators=200;, score=0.865 total time=   1.3s\n",
      "[CV 4/5; 15/36] START classifier__max_depth=10, classifier__min_samples_leaf=1, classifier__min_samples_split=2, classifier__n_estimators=300\n",
      "[CV 1/5; 15/36] END classifier__max_depth=10, classifier__min_samples_leaf=1, classifier__min_samples_split=2, classifier__n_estimators=300;, score=0.863 total time=   1.9s\n",
      "[CV 5/5; 15/36] START classifier__max_depth=10, classifier__min_samples_leaf=1, classifier__min_samples_split=2, classifier__n_estimators=300\n",
      "[CV 2/5; 15/36] END classifier__max_depth=10, classifier__min_samples_leaf=1, classifier__min_samples_split=2, classifier__n_estimators=300;, score=0.853 total time=   2.0s\n",
      "[CV 1/5; 16/36] START classifier__max_depth=10, classifier__min_samples_leaf=1, classifier__min_samples_split=5, classifier__n_estimators=100\n",
      "[CV 3/5; 15/36] END classifier__max_depth=10, classifier__min_samples_leaf=1, classifier__min_samples_split=2, classifier__n_estimators=300;, score=0.869 total time=   2.0s\n",
      "[CV 2/5; 16/36] START classifier__max_depth=10, classifier__min_samples_leaf=1, classifier__min_samples_split=5, classifier__n_estimators=100\n",
      "[CV 1/5; 16/36] END classifier__max_depth=10, classifier__min_samples_leaf=1, classifier__min_samples_split=5, classifier__n_estimators=100;, score=0.861 total time=   0.7s\n",
      "[CV 3/5; 16/36] START classifier__max_depth=10, classifier__min_samples_leaf=1, classifier__min_samples_split=5, classifier__n_estimators=100\n",
      "[CV 2/5; 16/36] END classifier__max_depth=10, classifier__min_samples_leaf=1, classifier__min_samples_split=5, classifier__n_estimators=100;, score=0.859 total time=   0.7s\n",
      "[CV 4/5; 16/36] START classifier__max_depth=10, classifier__min_samples_leaf=1, classifier__min_samples_split=5, classifier__n_estimators=100\n",
      "[CV 3/5; 16/36] END classifier__max_depth=10, classifier__min_samples_leaf=1, classifier__min_samples_split=5, classifier__n_estimators=100;, score=0.867 total time=   0.6s\n",
      "[CV 5/5; 16/36] START classifier__max_depth=10, classifier__min_samples_leaf=1, classifier__min_samples_split=5, classifier__n_estimators=100\n",
      "[CV 4/5; 15/36] END classifier__max_depth=10, classifier__min_samples_leaf=1, classifier__min_samples_split=2, classifier__n_estimators=300;, score=0.865 total time=   2.1s\n",
      "[CV 1/5; 17/36] START classifier__max_depth=10, classifier__min_samples_leaf=1, classifier__min_samples_split=5, classifier__n_estimators=200\n",
      "[CV 4/5; 16/36] END classifier__max_depth=10, classifier__min_samples_leaf=1, classifier__min_samples_split=5, classifier__n_estimators=100;, score=0.865 total time=   0.7s\n",
      "[CV 2/5; 17/36] START classifier__max_depth=10, classifier__min_samples_leaf=1, classifier__min_samples_split=5, classifier__n_estimators=200\n",
      "[CV 5/5; 15/36] END classifier__max_depth=10, classifier__min_samples_leaf=1, classifier__min_samples_split=2, classifier__n_estimators=300;, score=0.865 total time=   1.9s\n",
      "[CV 3/5; 17/36] START classifier__max_depth=10, classifier__min_samples_leaf=1, classifier__min_samples_split=5, classifier__n_estimators=200\n",
      "[CV 5/5; 16/36] END classifier__max_depth=10, classifier__min_samples_leaf=1, classifier__min_samples_split=5, classifier__n_estimators=100;, score=0.867 total time=   0.6s\n",
      "[CV 4/5; 17/36] START classifier__max_depth=10, classifier__min_samples_leaf=1, classifier__min_samples_split=5, classifier__n_estimators=200\n",
      "[CV 1/5; 17/36] END classifier__max_depth=10, classifier__min_samples_leaf=1, classifier__min_samples_split=5, classifier__n_estimators=200;, score=0.861 total time=   1.2s\n",
      "[CV 5/5; 17/36] START classifier__max_depth=10, classifier__min_samples_leaf=1, classifier__min_samples_split=5, classifier__n_estimators=200\n",
      "[CV 2/5; 17/36] END classifier__max_depth=10, classifier__min_samples_leaf=1, classifier__min_samples_split=5, classifier__n_estimators=200;, score=0.857 total time=   1.3s\n",
      "[CV 1/5; 18/36] START classifier__max_depth=10, classifier__min_samples_leaf=1, classifier__min_samples_split=5, classifier__n_estimators=300\n",
      "[CV 3/5; 17/36] END classifier__max_depth=10, classifier__min_samples_leaf=1, classifier__min_samples_split=5, classifier__n_estimators=200;, score=0.871 total time=   1.3s\n",
      "[CV 2/5; 18/36] START classifier__max_depth=10, classifier__min_samples_leaf=1, classifier__min_samples_split=5, classifier__n_estimators=300\n",
      "[CV 4/5; 17/36] END classifier__max_depth=10, classifier__min_samples_leaf=1, classifier__min_samples_split=5, classifier__n_estimators=200;, score=0.867 total time=   1.3s\n",
      "[CV 3/5; 18/36] START classifier__max_depth=10, classifier__min_samples_leaf=1, classifier__min_samples_split=5, classifier__n_estimators=300\n",
      "[CV 5/5; 17/36] END classifier__max_depth=10, classifier__min_samples_leaf=1, classifier__min_samples_split=5, classifier__n_estimators=200;, score=0.863 total time=   1.2s\n",
      "[CV 4/5; 18/36] START classifier__max_depth=10, classifier__min_samples_leaf=1, classifier__min_samples_split=5, classifier__n_estimators=300\n",
      "[CV 1/5; 18/36] END classifier__max_depth=10, classifier__min_samples_leaf=1, classifier__min_samples_split=5, classifier__n_estimators=300;, score=0.863 total time=   1.9s\n",
      "[CV 5/5; 18/36] START classifier__max_depth=10, classifier__min_samples_leaf=1, classifier__min_samples_split=5, classifier__n_estimators=300\n",
      "[CV 2/5; 18/36] END classifier__max_depth=10, classifier__min_samples_leaf=1, classifier__min_samples_split=5, classifier__n_estimators=300;, score=0.855 total time=   1.9s\n",
      "[CV 1/5; 19/36] START classifier__max_depth=10, classifier__min_samples_leaf=2, classifier__min_samples_split=2, classifier__n_estimators=100\n",
      "[CV 3/5; 18/36] END classifier__max_depth=10, classifier__min_samples_leaf=1, classifier__min_samples_split=5, classifier__n_estimators=300;, score=0.867 total time=   1.9s\n",
      "[CV 2/5; 19/36] START classifier__max_depth=10, classifier__min_samples_leaf=2, classifier__min_samples_split=2, classifier__n_estimators=100\n",
      "[CV 1/5; 19/36] END classifier__max_depth=10, classifier__min_samples_leaf=2, classifier__min_samples_split=2, classifier__n_estimators=100;, score=0.863 total time=   0.7s\n",
      "[CV 3/5; 19/36] START classifier__max_depth=10, classifier__min_samples_leaf=2, classifier__min_samples_split=2, classifier__n_estimators=100\n",
      "[CV 2/5; 19/36] END classifier__max_depth=10, classifier__min_samples_leaf=2, classifier__min_samples_split=2, classifier__n_estimators=100;, score=0.855 total time=   0.7s\n",
      "[CV 4/5; 19/36] START classifier__max_depth=10, classifier__min_samples_leaf=2, classifier__min_samples_split=2, classifier__n_estimators=100\n",
      "[CV 4/5; 18/36] END classifier__max_depth=10, classifier__min_samples_leaf=1, classifier__min_samples_split=5, classifier__n_estimators=300;, score=0.865 total time=   2.0s\n",
      "[CV 5/5; 19/36] START classifier__max_depth=10, classifier__min_samples_leaf=2, classifier__min_samples_split=2, classifier__n_estimators=100\n",
      "[CV 3/5; 19/36] END classifier__max_depth=10, classifier__min_samples_leaf=2, classifier__min_samples_split=2, classifier__n_estimators=100;, score=0.871 total time=   0.6s\n",
      "[CV 4/5; 19/36] END classifier__max_depth=10, classifier__min_samples_leaf=2, classifier__min_samples_split=2, classifier__n_estimators=100;, score=0.865 total time=   0.6s\n",
      "[CV 1/5; 20/36] START classifier__max_depth=10, classifier__min_samples_leaf=2, classifier__min_samples_split=2, classifier__n_estimators=200\n",
      "[CV 2/5; 20/36] START classifier__max_depth=10, classifier__min_samples_leaf=2, classifier__min_samples_split=2, classifier__n_estimators=200\n",
      "[CV 5/5; 19/36] END classifier__max_depth=10, classifier__min_samples_leaf=2, classifier__min_samples_split=2, classifier__n_estimators=100;, score=0.859 total time=   0.6s\n",
      "[CV 3/5; 20/36] START classifier__max_depth=10, classifier__min_samples_leaf=2, classifier__min_samples_split=2, classifier__n_estimators=200\n",
      "[CV 5/5; 18/36] END classifier__max_depth=10, classifier__min_samples_leaf=1, classifier__min_samples_split=5, classifier__n_estimators=300;, score=0.867 total time=   1.9s\n",
      "[CV 4/5; 20/36] START classifier__max_depth=10, classifier__min_samples_leaf=2, classifier__min_samples_split=2, classifier__n_estimators=200\n",
      "[CV 2/5; 20/36] END classifier__max_depth=10, classifier__min_samples_leaf=2, classifier__min_samples_split=2, classifier__n_estimators=200;, score=0.855 total time=   1.1s\n",
      "[CV 5/5; 20/36] START classifier__max_depth=10, classifier__min_samples_leaf=2, classifier__min_samples_split=2, classifier__n_estimators=200\n",
      "[CV 3/5; 20/36] END classifier__max_depth=10, classifier__min_samples_leaf=2, classifier__min_samples_split=2, classifier__n_estimators=200;, score=0.869 total time=   1.1s\n",
      "[CV 1/5; 20/36] END classifier__max_depth=10, classifier__min_samples_leaf=2, classifier__min_samples_split=2, classifier__n_estimators=200;, score=0.865 total time=   1.2s\n",
      "[CV 2/5; 21/36] START classifier__max_depth=10, classifier__min_samples_leaf=2, classifier__min_samples_split=2, classifier__n_estimators=300\n",
      "[CV 1/5; 21/36] START classifier__max_depth=10, classifier__min_samples_leaf=2, classifier__min_samples_split=2, classifier__n_estimators=300\n",
      "[CV 4/5; 20/36] END classifier__max_depth=10, classifier__min_samples_leaf=2, classifier__min_samples_split=2, classifier__n_estimators=200;, score=0.863 total time=   1.4s\n",
      "[CV 3/5; 21/36] START classifier__max_depth=10, classifier__min_samples_leaf=2, classifier__min_samples_split=2, classifier__n_estimators=300\n",
      "[CV 5/5; 20/36] END classifier__max_depth=10, classifier__min_samples_leaf=2, classifier__min_samples_split=2, classifier__n_estimators=200;, score=0.865 total time=   1.5s\n",
      "[CV 4/5; 21/36] START classifier__max_depth=10, classifier__min_samples_leaf=2, classifier__min_samples_split=2, classifier__n_estimators=300\n",
      "[CV 2/5; 21/36] END classifier__max_depth=10, classifier__min_samples_leaf=2, classifier__min_samples_split=2, classifier__n_estimators=300;, score=0.857 total time=   2.4s\n",
      "[CV 5/5; 21/36] START classifier__max_depth=10, classifier__min_samples_leaf=2, classifier__min_samples_split=2, classifier__n_estimators=300\n",
      "[CV 1/5; 21/36] END classifier__max_depth=10, classifier__min_samples_leaf=2, classifier__min_samples_split=2, classifier__n_estimators=300;, score=0.861 total time=   2.4s\n",
      "[CV 1/5; 22/36] START classifier__max_depth=10, classifier__min_samples_leaf=2, classifier__min_samples_split=5, classifier__n_estimators=100\n",
      "[CV 3/5; 21/36] END classifier__max_depth=10, classifier__min_samples_leaf=2, classifier__min_samples_split=2, classifier__n_estimators=300;, score=0.867 total time=   2.2s\n",
      "[CV 2/5; 22/36] START classifier__max_depth=10, classifier__min_samples_leaf=2, classifier__min_samples_split=5, classifier__n_estimators=100\n",
      "[CV 1/5; 22/36] END classifier__max_depth=10, classifier__min_samples_leaf=2, classifier__min_samples_split=5, classifier__n_estimators=100;, score=0.861 total time=   0.7s\n",
      "[CV 3/5; 22/36] START classifier__max_depth=10, classifier__min_samples_leaf=2, classifier__min_samples_split=5, classifier__n_estimators=100\n",
      "[CV 2/5; 22/36] END classifier__max_depth=10, classifier__min_samples_leaf=2, classifier__min_samples_split=5, classifier__n_estimators=100;, score=0.859 total time=   0.7s\n",
      "[CV 4/5; 22/36] START classifier__max_depth=10, classifier__min_samples_leaf=2, classifier__min_samples_split=5, classifier__n_estimators=100\n",
      "[CV 4/5; 21/36] END classifier__max_depth=10, classifier__min_samples_leaf=2, classifier__min_samples_split=2, classifier__n_estimators=300;, score=0.865 total time=   2.3s\n",
      "[CV 5/5; 22/36] START classifier__max_depth=10, classifier__min_samples_leaf=2, classifier__min_samples_split=5, classifier__n_estimators=100\n",
      "[CV 3/5; 22/36] END classifier__max_depth=10, classifier__min_samples_leaf=2, classifier__min_samples_split=5, classifier__n_estimators=100;, score=0.873 total time=   0.6s\n",
      "[CV 1/5; 23/36] START classifier__max_depth=10, classifier__min_samples_leaf=2, classifier__min_samples_split=5, classifier__n_estimators=200\n",
      "[CV 4/5; 22/36] END classifier__max_depth=10, classifier__min_samples_leaf=2, classifier__min_samples_split=5, classifier__n_estimators=100;, score=0.869 total time=   0.6s\n",
      "[CV 2/5; 23/36] START classifier__max_depth=10, classifier__min_samples_leaf=2, classifier__min_samples_split=5, classifier__n_estimators=200\n",
      "[CV 5/5; 21/36] END classifier__max_depth=10, classifier__min_samples_leaf=2, classifier__min_samples_split=2, classifier__n_estimators=300;, score=0.859 total time=   2.0s\n",
      "[CV 3/5; 23/36] START classifier__max_depth=10, classifier__min_samples_leaf=2, classifier__min_samples_split=5, classifier__n_estimators=200\n",
      "[CV 5/5; 22/36] END classifier__max_depth=10, classifier__min_samples_leaf=2, classifier__min_samples_split=5, classifier__n_estimators=100;, score=0.865 total time=   0.6s\n",
      "[CV 4/5; 23/36] START classifier__max_depth=10, classifier__min_samples_leaf=2, classifier__min_samples_split=5, classifier__n_estimators=200\n",
      "[CV 1/5; 23/36] END classifier__max_depth=10, classifier__min_samples_leaf=2, classifier__min_samples_split=5, classifier__n_estimators=200;, score=0.861 total time=   1.1s\n",
      "[CV 5/5; 23/36] START classifier__max_depth=10, classifier__min_samples_leaf=2, classifier__min_samples_split=5, classifier__n_estimators=200\n",
      "[CV 2/5; 23/36] END classifier__max_depth=10, classifier__min_samples_leaf=2, classifier__min_samples_split=5, classifier__n_estimators=200;, score=0.857 total time=   1.3s\n",
      "[CV 1/5; 24/36] START classifier__max_depth=10, classifier__min_samples_leaf=2, classifier__min_samples_split=5, classifier__n_estimators=300\n",
      "[CV 3/5; 23/36] END classifier__max_depth=10, classifier__min_samples_leaf=2, classifier__min_samples_split=5, classifier__n_estimators=200;, score=0.869 total time=   1.3s\n",
      "[CV 2/5; 24/36] START classifier__max_depth=10, classifier__min_samples_leaf=2, classifier__min_samples_split=5, classifier__n_estimators=300\n",
      "[CV 4/5; 23/36] END classifier__max_depth=10, classifier__min_samples_leaf=2, classifier__min_samples_split=5, classifier__n_estimators=200;, score=0.867 total time=   1.2s\n",
      "[CV 3/5; 24/36] START classifier__max_depth=10, classifier__min_samples_leaf=2, classifier__min_samples_split=5, classifier__n_estimators=300\n",
      "[CV 5/5; 23/36] END classifier__max_depth=10, classifier__min_samples_leaf=2, classifier__min_samples_split=5, classifier__n_estimators=200;, score=0.867 total time=   1.3s\n",
      "[CV 4/5; 24/36] START classifier__max_depth=10, classifier__min_samples_leaf=2, classifier__min_samples_split=5, classifier__n_estimators=300\n",
      "[CV 1/5; 24/36] END classifier__max_depth=10, classifier__min_samples_leaf=2, classifier__min_samples_split=5, classifier__n_estimators=300;, score=0.861 total time=   1.9s\n",
      "[CV 5/5; 24/36] START classifier__max_depth=10, classifier__min_samples_leaf=2, classifier__min_samples_split=5, classifier__n_estimators=300\n",
      "[CV 2/5; 24/36] END classifier__max_depth=10, classifier__min_samples_leaf=2, classifier__min_samples_split=5, classifier__n_estimators=300;, score=0.861 total time=   1.9s\n",
      "[CV 1/5; 25/36] START classifier__max_depth=15, classifier__min_samples_leaf=1, classifier__min_samples_split=2, classifier__n_estimators=100\n",
      "[CV 3/5; 24/36] END classifier__max_depth=10, classifier__min_samples_leaf=2, classifier__min_samples_split=5, classifier__n_estimators=300;, score=0.867 total time=   1.9s\n",
      "[CV 2/5; 25/36] START classifier__max_depth=15, classifier__min_samples_leaf=1, classifier__min_samples_split=2, classifier__n_estimators=100\n",
      "[CV 4/5; 24/36] END classifier__max_depth=10, classifier__min_samples_leaf=2, classifier__min_samples_split=5, classifier__n_estimators=300;, score=0.869 total time=   2.0s\n",
      "[CV 3/5; 25/36] START classifier__max_depth=15, classifier__min_samples_leaf=1, classifier__min_samples_split=2, classifier__n_estimators=100\n",
      "[CV 1/5; 25/36] END classifier__max_depth=15, classifier__min_samples_leaf=1, classifier__min_samples_split=2, classifier__n_estimators=100;, score=0.863 total time=   0.8s\n",
      "[CV 4/5; 25/36] START classifier__max_depth=15, classifier__min_samples_leaf=1, classifier__min_samples_split=2, classifier__n_estimators=100\n",
      "[CV 2/5; 25/36] END classifier__max_depth=15, classifier__min_samples_leaf=1, classifier__min_samples_split=2, classifier__n_estimators=100;, score=0.853 total time=   0.8s\n",
      "[CV 5/5; 25/36] START classifier__max_depth=15, classifier__min_samples_leaf=1, classifier__min_samples_split=2, classifier__n_estimators=100\n",
      "[CV 3/5; 25/36] END classifier__max_depth=15, classifier__min_samples_leaf=1, classifier__min_samples_split=2, classifier__n_estimators=100;, score=0.863 total time=   0.7s\n",
      "[CV 1/5; 26/36] START classifier__max_depth=15, classifier__min_samples_leaf=1, classifier__min_samples_split=2, classifier__n_estimators=200\n",
      "[CV 4/5; 25/36] END classifier__max_depth=15, classifier__min_samples_leaf=1, classifier__min_samples_split=2, classifier__n_estimators=100;, score=0.867 total time=   0.7s\n",
      "[CV 2/5; 26/36] START classifier__max_depth=15, classifier__min_samples_leaf=1, classifier__min_samples_split=2, classifier__n_estimators=200\n",
      "[CV 5/5; 24/36] END classifier__max_depth=10, classifier__min_samples_leaf=2, classifier__min_samples_split=5, classifier__n_estimators=300;, score=0.863 total time=   1.9s\n",
      "[CV 3/5; 26/36] START classifier__max_depth=15, classifier__min_samples_leaf=1, classifier__min_samples_split=2, classifier__n_estimators=200\n",
      "[CV 5/5; 25/36] END classifier__max_depth=15, classifier__min_samples_leaf=1, classifier__min_samples_split=2, classifier__n_estimators=100;, score=0.855 total time=   0.9s\n",
      "[CV 4/5; 26/36] START classifier__max_depth=15, classifier__min_samples_leaf=1, classifier__min_samples_split=2, classifier__n_estimators=200\n",
      "[CV 1/5; 26/36] END classifier__max_depth=15, classifier__min_samples_leaf=1, classifier__min_samples_split=2, classifier__n_estimators=200;, score=0.865 total time=   1.6s\n",
      "[CV 5/5; 26/36] START classifier__max_depth=15, classifier__min_samples_leaf=1, classifier__min_samples_split=2, classifier__n_estimators=200\n",
      "[CV 2/5; 26/36] END classifier__max_depth=15, classifier__min_samples_leaf=1, classifier__min_samples_split=2, classifier__n_estimators=200;, score=0.855 total time=   1.6s\n",
      "[CV 1/5; 27/36] START classifier__max_depth=15, classifier__min_samples_leaf=1, classifier__min_samples_split=2, classifier__n_estimators=300\n",
      "[CV 3/5; 26/36] END classifier__max_depth=15, classifier__min_samples_leaf=1, classifier__min_samples_split=2, classifier__n_estimators=200;, score=0.865 total time=   1.6s\n",
      "[CV 2/5; 27/36] START classifier__max_depth=15, classifier__min_samples_leaf=1, classifier__min_samples_split=2, classifier__n_estimators=300\n",
      "[CV 4/5; 26/36] END classifier__max_depth=15, classifier__min_samples_leaf=1, classifier__min_samples_split=2, classifier__n_estimators=200;, score=0.861 total time=   1.7s\n",
      "[CV 3/5; 27/36] START classifier__max_depth=15, classifier__min_samples_leaf=1, classifier__min_samples_split=2, classifier__n_estimators=300\n",
      "[CV 5/5; 26/36] END classifier__max_depth=15, classifier__min_samples_leaf=1, classifier__min_samples_split=2, classifier__n_estimators=200;, score=0.865 total time=   1.6s\n",
      "[CV 4/5; 27/36] START classifier__max_depth=15, classifier__min_samples_leaf=1, classifier__min_samples_split=2, classifier__n_estimators=300\n",
      "[CV 1/5; 27/36] END classifier__max_depth=15, classifier__min_samples_leaf=1, classifier__min_samples_split=2, classifier__n_estimators=300;, score=0.867 total time=   2.2s\n",
      "[CV 5/5; 27/36] START classifier__max_depth=15, classifier__min_samples_leaf=1, classifier__min_samples_split=2, classifier__n_estimators=300\n",
      "[CV 2/5; 27/36] END classifier__max_depth=15, classifier__min_samples_leaf=1, classifier__min_samples_split=2, classifier__n_estimators=300;, score=0.855 total time=   2.2s\n",
      "[CV 1/5; 28/36] START classifier__max_depth=15, classifier__min_samples_leaf=1, classifier__min_samples_split=5, classifier__n_estimators=100\n",
      "[CV 3/5; 27/36] END classifier__max_depth=15, classifier__min_samples_leaf=1, classifier__min_samples_split=2, classifier__n_estimators=300;, score=0.871 total time=   2.0s\n",
      "[CV 2/5; 28/36] START classifier__max_depth=15, classifier__min_samples_leaf=1, classifier__min_samples_split=5, classifier__n_estimators=100\n",
      "[CV 1/5; 28/36] END classifier__max_depth=15, classifier__min_samples_leaf=1, classifier__min_samples_split=5, classifier__n_estimators=100;, score=0.871 total time=   0.7s\n",
      "[CV 3/5; 28/36] START classifier__max_depth=15, classifier__min_samples_leaf=1, classifier__min_samples_split=5, classifier__n_estimators=100\n",
      "[CV 2/5; 28/36] END classifier__max_depth=15, classifier__min_samples_leaf=1, classifier__min_samples_split=5, classifier__n_estimators=100;, score=0.863 total time=   0.7s\n",
      "[CV 4/5; 28/36] START classifier__max_depth=15, classifier__min_samples_leaf=1, classifier__min_samples_split=5, classifier__n_estimators=100\n",
      "[CV 4/5; 27/36] END classifier__max_depth=15, classifier__min_samples_leaf=1, classifier__min_samples_split=2, classifier__n_estimators=300;, score=0.865 total time=   2.1s\n",
      "[CV 5/5; 28/36] START classifier__max_depth=15, classifier__min_samples_leaf=1, classifier__min_samples_split=5, classifier__n_estimators=100\n",
      "[CV 3/5; 28/36] END classifier__max_depth=15, classifier__min_samples_leaf=1, classifier__min_samples_split=5, classifier__n_estimators=100;, score=0.876 total time=   0.7s\n",
      "[CV 1/5; 29/36] START classifier__max_depth=15, classifier__min_samples_leaf=1, classifier__min_samples_split=5, classifier__n_estimators=200\n",
      "[CV 4/5; 28/36] END classifier__max_depth=15, classifier__min_samples_leaf=1, classifier__min_samples_split=5, classifier__n_estimators=100;, score=0.863 total time=   0.9s\n",
      "[CV 2/5; 29/36] START classifier__max_depth=15, classifier__min_samples_leaf=1, classifier__min_samples_split=5, classifier__n_estimators=200\n",
      "[CV 5/5; 28/36] END classifier__max_depth=15, classifier__min_samples_leaf=1, classifier__min_samples_split=5, classifier__n_estimators=100;, score=0.859 total time=   0.9s\n",
      "[CV 3/5; 29/36] START classifier__max_depth=15, classifier__min_samples_leaf=1, classifier__min_samples_split=5, classifier__n_estimators=200\n",
      "[CV 5/5; 27/36] END classifier__max_depth=15, classifier__min_samples_leaf=1, classifier__min_samples_split=2, classifier__n_estimators=300;, score=0.859 total time=   2.3s\n",
      "[CV 4/5; 29/36] START classifier__max_depth=15, classifier__min_samples_leaf=1, classifier__min_samples_split=5, classifier__n_estimators=200\n",
      "[CV 1/5; 29/36] END classifier__max_depth=15, classifier__min_samples_leaf=1, classifier__min_samples_split=5, classifier__n_estimators=200;, score=0.863 total time=   1.5s\n",
      "[CV 5/5; 29/36] START classifier__max_depth=15, classifier__min_samples_leaf=1, classifier__min_samples_split=5, classifier__n_estimators=200\n",
      "[CV 2/5; 29/36] END classifier__max_depth=15, classifier__min_samples_leaf=1, classifier__min_samples_split=5, classifier__n_estimators=200;, score=0.857 total time=   1.4s\n",
      "[CV 1/5; 30/36] START classifier__max_depth=15, classifier__min_samples_leaf=1, classifier__min_samples_split=5, classifier__n_estimators=300\n",
      "[CV 3/5; 29/36] END classifier__max_depth=15, classifier__min_samples_leaf=1, classifier__min_samples_split=5, classifier__n_estimators=200;, score=0.871 total time=   1.4s\n",
      "[CV 2/5; 30/36] START classifier__max_depth=15, classifier__min_samples_leaf=1, classifier__min_samples_split=5, classifier__n_estimators=300\n",
      "[CV 4/5; 29/36] END classifier__max_depth=15, classifier__min_samples_leaf=1, classifier__min_samples_split=5, classifier__n_estimators=200;, score=0.867 total time=   1.4s\n",
      "[CV 3/5; 30/36] START classifier__max_depth=15, classifier__min_samples_leaf=1, classifier__min_samples_split=5, classifier__n_estimators=300\n",
      "[CV 5/5; 29/36] END classifier__max_depth=15, classifier__min_samples_leaf=1, classifier__min_samples_split=5, classifier__n_estimators=200;, score=0.867 total time=   1.3s\n",
      "[CV 4/5; 30/36] START classifier__max_depth=15, classifier__min_samples_leaf=1, classifier__min_samples_split=5, classifier__n_estimators=300\n",
      "[CV 1/5; 30/36] END classifier__max_depth=15, classifier__min_samples_leaf=1, classifier__min_samples_split=5, classifier__n_estimators=300;, score=0.865 total time=   2.0s\n",
      "[CV 5/5; 30/36] START classifier__max_depth=15, classifier__min_samples_leaf=1, classifier__min_samples_split=5, classifier__n_estimators=300\n",
      "[CV 2/5; 30/36] END classifier__max_depth=15, classifier__min_samples_leaf=1, classifier__min_samples_split=5, classifier__n_estimators=300;, score=0.857 total time=   2.0s\n",
      "[CV 1/5; 31/36] START classifier__max_depth=15, classifier__min_samples_leaf=2, classifier__min_samples_split=2, classifier__n_estimators=100\n",
      "[CV 3/5; 30/36] END classifier__max_depth=15, classifier__min_samples_leaf=1, classifier__min_samples_split=5, classifier__n_estimators=300;, score=0.863 total time=   2.0s\n",
      "[CV 2/5; 31/36] START classifier__max_depth=15, classifier__min_samples_leaf=2, classifier__min_samples_split=2, classifier__n_estimators=100\n",
      "[CV 1/5; 31/36] END classifier__max_depth=15, classifier__min_samples_leaf=2, classifier__min_samples_split=2, classifier__n_estimators=100;, score=0.867 total time=   0.7s\n",
      "[CV 2/5; 31/36] END classifier__max_depth=15, classifier__min_samples_leaf=2, classifier__min_samples_split=2, classifier__n_estimators=100;, score=0.853 total time=   0.7s\n",
      "[CV 4/5; 30/36] END classifier__max_depth=15, classifier__min_samples_leaf=1, classifier__min_samples_split=5, classifier__n_estimators=300;, score=0.861 total time=   2.0s\n",
      "[CV 3/5; 31/36] START classifier__max_depth=15, classifier__min_samples_leaf=2, classifier__min_samples_split=2, classifier__n_estimators=100\n",
      "[CV 4/5; 31/36] START classifier__max_depth=15, classifier__min_samples_leaf=2, classifier__min_samples_split=2, classifier__n_estimators=100\n",
      "[CV 5/5; 31/36] START classifier__max_depth=15, classifier__min_samples_leaf=2, classifier__min_samples_split=2, classifier__n_estimators=100\n",
      "[CV 3/5; 31/36] END classifier__max_depth=15, classifier__min_samples_leaf=2, classifier__min_samples_split=2, classifier__n_estimators=100;, score=0.869 total time=   0.7s\n",
      "[CV 1/5; 32/36] START classifier__max_depth=15, classifier__min_samples_leaf=2, classifier__min_samples_split=2, classifier__n_estimators=200\n",
      "[CV 4/5; 31/36] END classifier__max_depth=15, classifier__min_samples_leaf=2, classifier__min_samples_split=2, classifier__n_estimators=100;, score=0.863 total time=   0.7s\n",
      "[CV 5/5; 31/36] END classifier__max_depth=15, classifier__min_samples_leaf=2, classifier__min_samples_split=2, classifier__n_estimators=100;, score=0.859 total time=   0.7s\n",
      "[CV 2/5; 32/36] START classifier__max_depth=15, classifier__min_samples_leaf=2, classifier__min_samples_split=2, classifier__n_estimators=200\n",
      "[CV 3/5; 32/36] START classifier__max_depth=15, classifier__min_samples_leaf=2, classifier__min_samples_split=2, classifier__n_estimators=200\n",
      "[CV 5/5; 30/36] END classifier__max_depth=15, classifier__min_samples_leaf=1, classifier__min_samples_split=5, classifier__n_estimators=300;, score=0.867 total time=   2.0s\n",
      "[CV 4/5; 32/36] START classifier__max_depth=15, classifier__min_samples_leaf=2, classifier__min_samples_split=2, classifier__n_estimators=200\n",
      "[CV 1/5; 32/36] END classifier__max_depth=15, classifier__min_samples_leaf=2, classifier__min_samples_split=2, classifier__n_estimators=200;, score=0.863 total time=   1.3s\n",
      "[CV 3/5; 32/36] END classifier__max_depth=15, classifier__min_samples_leaf=2, classifier__min_samples_split=2, classifier__n_estimators=200;, score=0.867 total time=   1.3s\n",
      "[CV 5/5; 32/36] START classifier__max_depth=15, classifier__min_samples_leaf=2, classifier__min_samples_split=2, classifier__n_estimators=200\n",
      "[CV 2/5; 32/36] END classifier__max_depth=15, classifier__min_samples_leaf=2, classifier__min_samples_split=2, classifier__n_estimators=200;, score=0.857 total time=   1.3s\n",
      "[CV 1/5; 33/36] START classifier__max_depth=15, classifier__min_samples_leaf=2, classifier__min_samples_split=2, classifier__n_estimators=300\n",
      "[CV 2/5; 33/36] START classifier__max_depth=15, classifier__min_samples_leaf=2, classifier__min_samples_split=2, classifier__n_estimators=300\n",
      "[CV 4/5; 32/36] END classifier__max_depth=15, classifier__min_samples_leaf=2, classifier__min_samples_split=2, classifier__n_estimators=200;, score=0.865 total time=   1.3s\n",
      "[CV 3/5; 33/36] START classifier__max_depth=15, classifier__min_samples_leaf=2, classifier__min_samples_split=2, classifier__n_estimators=300\n",
      "[CV 5/5; 32/36] END classifier__max_depth=15, classifier__min_samples_leaf=2, classifier__min_samples_split=2, classifier__n_estimators=200;, score=0.869 total time=   1.5s\n",
      "[CV 4/5; 33/36] START classifier__max_depth=15, classifier__min_samples_leaf=2, classifier__min_samples_split=2, classifier__n_estimators=300\n",
      "[CV 1/5; 33/36] END classifier__max_depth=15, classifier__min_samples_leaf=2, classifier__min_samples_split=2, classifier__n_estimators=300;, score=0.863 total time=   2.0s\n",
      "[CV 2/5; 33/36] END classifier__max_depth=15, classifier__min_samples_leaf=2, classifier__min_samples_split=2, classifier__n_estimators=300;, score=0.857 total time=   2.1s\n",
      "[CV 5/5; 33/36] START classifier__max_depth=15, classifier__min_samples_leaf=2, classifier__min_samples_split=2, classifier__n_estimators=300\n",
      "[CV 1/5; 34/36] START classifier__max_depth=15, classifier__min_samples_leaf=2, classifier__min_samples_split=5, classifier__n_estimators=100\n",
      "[CV 3/5; 33/36] END classifier__max_depth=15, classifier__min_samples_leaf=2, classifier__min_samples_split=2, classifier__n_estimators=300;, score=0.867 total time=   2.0s\n",
      "[CV 2/5; 34/36] START classifier__max_depth=15, classifier__min_samples_leaf=2, classifier__min_samples_split=5, classifier__n_estimators=100\n",
      "[CV 1/5; 34/36] END classifier__max_depth=15, classifier__min_samples_leaf=2, classifier__min_samples_split=5, classifier__n_estimators=100;, score=0.867 total time=   0.7s\n",
      "[CV 3/5; 34/36] START classifier__max_depth=15, classifier__min_samples_leaf=2, classifier__min_samples_split=5, classifier__n_estimators=100\n",
      "[CV 2/5; 34/36] END classifier__max_depth=15, classifier__min_samples_leaf=2, classifier__min_samples_split=5, classifier__n_estimators=100;, score=0.861 total time=   0.7s\n",
      "[CV 4/5; 34/36] START classifier__max_depth=15, classifier__min_samples_leaf=2, classifier__min_samples_split=5, classifier__n_estimators=100\n",
      "[CV 4/5; 33/36] END classifier__max_depth=15, classifier__min_samples_leaf=2, classifier__min_samples_split=2, classifier__n_estimators=300;, score=0.867 total time=   1.9s\n",
      "[CV 5/5; 34/36] START classifier__max_depth=15, classifier__min_samples_leaf=2, classifier__min_samples_split=5, classifier__n_estimators=100\n",
      "[CV 3/5; 34/36] END classifier__max_depth=15, classifier__min_samples_leaf=2, classifier__min_samples_split=5, classifier__n_estimators=100;, score=0.865 total time=   0.7s\n",
      "[CV 1/5; 35/36] START classifier__max_depth=15, classifier__min_samples_leaf=2, classifier__min_samples_split=5, classifier__n_estimators=200\n",
      "[CV 4/5; 34/36] END classifier__max_depth=15, classifier__min_samples_leaf=2, classifier__min_samples_split=5, classifier__n_estimators=100;, score=0.863 total time=   0.7s\n",
      "[CV 2/5; 35/36] START classifier__max_depth=15, classifier__min_samples_leaf=2, classifier__min_samples_split=5, classifier__n_estimators=200\n",
      "[CV 5/5; 33/36] END classifier__max_depth=15, classifier__min_samples_leaf=2, classifier__min_samples_split=2, classifier__n_estimators=300;, score=0.867 total time=   2.0s\n",
      "[CV 3/5; 35/36] START classifier__max_depth=15, classifier__min_samples_leaf=2, classifier__min_samples_split=5, classifier__n_estimators=200\n",
      "[CV 5/5; 34/36] END classifier__max_depth=15, classifier__min_samples_leaf=2, classifier__min_samples_split=5, classifier__n_estimators=100;, score=0.865 total time=   0.7s\n",
      "[CV 4/5; 35/36] START classifier__max_depth=15, classifier__min_samples_leaf=2, classifier__min_samples_split=5, classifier__n_estimators=200\n",
      "[CV 2/5; 35/36] END classifier__max_depth=15, classifier__min_samples_leaf=2, classifier__min_samples_split=5, classifier__n_estimators=200;, score=0.855 total time=   1.3s\n",
      "[CV 5/5; 35/36] START classifier__max_depth=15, classifier__min_samples_leaf=2, classifier__min_samples_split=5, classifier__n_estimators=200\n",
      "[CV 1/5; 35/36] END classifier__max_depth=15, classifier__min_samples_leaf=2, classifier__min_samples_split=5, classifier__n_estimators=200;, score=0.865 total time=   1.4s\n",
      "[CV 1/5; 36/36] START classifier__max_depth=15, classifier__min_samples_leaf=2, classifier__min_samples_split=5, classifier__n_estimators=300\n",
      "[CV 3/5; 35/36] END classifier__max_depth=15, classifier__min_samples_leaf=2, classifier__min_samples_split=5, classifier__n_estimators=200;, score=0.867 total time=   1.4s\n",
      "[CV 2/5; 36/36] START classifier__max_depth=15, classifier__min_samples_leaf=2, classifier__min_samples_split=5, classifier__n_estimators=300\n",
      "[CV 4/5; 35/36] END classifier__max_depth=15, classifier__min_samples_leaf=2, classifier__min_samples_split=5, classifier__n_estimators=200;, score=0.865 total time=   1.4s\n",
      "[CV 3/5; 36/36] START classifier__max_depth=15, classifier__min_samples_leaf=2, classifier__min_samples_split=5, classifier__n_estimators=300\n",
      "[CV 5/5; 35/36] END classifier__max_depth=15, classifier__min_samples_leaf=2, classifier__min_samples_split=5, classifier__n_estimators=200;, score=0.867 total time=   1.4s\n",
      "[CV 4/5; 36/36] START classifier__max_depth=15, classifier__min_samples_leaf=2, classifier__min_samples_split=5, classifier__n_estimators=300\n",
      "[CV 1/5; 36/36] END classifier__max_depth=15, classifier__min_samples_leaf=2, classifier__min_samples_split=5, classifier__n_estimators=300;, score=0.863 total time=   1.9s\n",
      "[CV 5/5; 36/36] START classifier__max_depth=15, classifier__min_samples_leaf=2, classifier__min_samples_split=5, classifier__n_estimators=300\n",
      "[CV 3/5; 36/36] END classifier__max_depth=15, classifier__min_samples_leaf=2, classifier__min_samples_split=5, classifier__n_estimators=300;, score=0.867 total time=   2.0s\n",
      "[CV 2/5; 36/36] END classifier__max_depth=15, classifier__min_samples_leaf=2, classifier__min_samples_split=5, classifier__n_estimators=300;, score=0.857 total time=   2.0s\n",
      "[CV 4/5; 36/36] END classifier__max_depth=15, classifier__min_samples_leaf=2, classifier__min_samples_split=5, classifier__n_estimators=300;, score=0.867 total time=   1.7s\n",
      "[CV 5/5; 36/36] END classifier__max_depth=15, classifier__min_samples_leaf=2, classifier__min_samples_split=5, classifier__n_estimators=300;, score=0.865 total time=   1.4s\n"
     ]
    },
    {
     "data": {
      "text/plain": [
       "0.8225538971807629"
      ]
     },
     "execution_count": 79,
     "metadata": {},
     "output_type": "execute_result"
    }
   ],
   "source": [
    "param_grid = {\n",
    "    \"classifier__n_estimators\": [100, 200, 300],\n",
    "    \"classifier__max_depth\": [5, 10, 15],\n",
    "    \"classifier__min_samples_split\": [2, 5],\n",
    "    \"classifier__min_samples_leaf\": [1, 2],\n",
    "}\n",
    "\n",
    "grid_search_rf = GridSearchCV(rf_model, param_grid, cv=5, verbose=10, n_jobs=-1)\n",
    "\n",
    "grid_search_rf.fit(X_train, y_train)\n",
    "grid_search_rf.score(X_test, y_test)"
   ]
  },
  {
   "cell_type": "code",
   "execution_count": 88,
   "metadata": {},
   "outputs": [],
   "source": [
    "cm_test = confusion_matrix(y_test, grid_search_rf.predict(X_test))"
   ]
  },
  {
   "cell_type": "code",
   "execution_count": 101,
   "metadata": {},
   "outputs": [
    {
     "data": {
      "image/png": "[encoded data removed]",
      "text/plain": [
       "<Figure size 500x500 with 2 Axes>"
      ]
     },
     "metadata": {},
     "output_type": "display_data"
    }
   ],
   "source": [
    "# create a heatmap with the cm_test values\n",
    "plt.figure(figsize=(5,5))\n",
    "sns.heatmap(cm_test/np.sum(cm_test), annot=True, fmt='.2%', cmap='Blues')\n",
    "plt.title('Confusion Matrix with Test Data')\n",
    "plt.xlabel('Predicted')\n",
    "plt.ylabel('Actual')\n",
    "plt.show()"
   ]
  },
  {
   "cell_type": "code",
   "execution_count": 96,
   "metadata": {},
   "outputs": [],
   "source": [
    "cm_train = confusion_matrix(y_train, grid_search_rf.predict(X_train))"
   ]
  },
  {
   "cell_type": "code",
   "execution_count": 100,
   "metadata": {},
   "outputs": [
    {
     "data": {
      "image/png": "[encoded data removed]",
      "text/plain": [
       "<Figure size 500x500 with 2 Axes>"
      ]
     },
     "metadata": {},
     "output_type": "display_data"
    }
   ],
   "source": [
    "# create a heatmap with the cm_test values\n",
    "plt.figure(figsize=(5,5))\n",
    "sns.heatmap(cm_train/np.sum(cm_train), annot=True, fmt='.2%', cmap='Blues')\n",
    "plt.title('Confusion Matrix with Train Data')\n",
    "plt.xlabel('Predicted')\n",
    "plt.ylabel('Actual')\n",
    "plt.show()"
   ]
  },
  {
   "cell_type": "code",
   "execution_count": 85,
   "metadata": {},
   "outputs": [
    {
     "data": {
      "text/plain": [
       "RemoteWork\n",
       "1    2562\n",
       "0     451\n",
       "Name: count, dtype: int64"
      ]
     },
     "execution_count": 85,
     "metadata": {},
     "output_type": "execute_result"
    }
   ],
   "source": [
    "df8['RemoteWork'].value_counts()"
   ]
  },
  {
   "cell_type": "markdown",
   "metadata": {},
   "source": [
    "### CONCLUSION\n",
    "As you can see, the model is performing very well predicting the Remote Workers, but it's hard to classify the In-Person workers. In our test data we almost predicted just 1/9!! It is unacceptable. More data will not be useful, because our training data is performing bad, it has high bias. I think, the problem was the difference between the percentage of both classifications:"
   ]
  },
  {
   "cell_type": "code",
   "execution_count": 103,
   "metadata": {},
   "outputs": [
    {
     "data": {
      "text/plain": [
       "RemoteWork\n",
       "1   85.03\n",
       "0   14.97\n",
       "Name: proportion, dtype: float64"
      ]
     },
     "execution_count": 103,
     "metadata": {},
     "output_type": "execute_result"
    }
   ],
   "source": [
    "df8['RemoteWork'].value_counts(normalize=True) * 100"
   ]
  },
  {
   "cell_type": "markdown",
   "metadata": {},
   "source": [
    "I could use techniques like 'SMOTE', or give less weight to a class within RandomForestClassifier(), but to be honest, I would like to focus my attention on the next project: **Prediction of your salary based on your data!!**"
   ]
  },
  {
   "cell_type": "markdown",
   "metadata": {},
   "source": [
    "For now I will leave the project like this, perhaps in the future I will take it up again. It should be mentioned that I am learning a lot, and with the next regression model I will finally conclude with this project"
   ]
  },
  {
   "cell_type": "markdown",
   "metadata": {},
   "source": [
    "Thank's for your attention!! 😄"
   ]
  }
 ],
 "metadata": {
  "kernelspec": {
   "display_name": "ML",
   "language": "python",
   "name": "python3"
  },
  "language_info": {
   "codemirror_mode": {
    "name": "ipython",
    "version": 3
   },
   "file_extension": ".py",
   "mimetype": "text/x-python",
   "name": "python",
   "nbconvert_exporter": "python",
   "pygments_lexer": "ipython3",
   "version": "3.11.4"
  },
  "orig_nbformat": 4
 },
 "nbformat": 4,
 "nbformat_minor": 2
}
